{
 "cells": [
  {
   "cell_type": "markdown",
   "metadata": {},
   "source": [
    "## 문제 1\n",
    " - L=[1, 2, 3, 4, 5]일 때 다음 각 문장을 수행한 후의 결과를 보고 납득할 만한 이유를 설명하시오.  \n",
    " \n",
    " \n",
    "1)"
   ]
  },
  {
   "cell_type": "code",
   "execution_count": 2,
   "metadata": {},
   "outputs": [
    {
     "name": "stdout",
     "output_type": "stream",
     "text": [
      "[1, 100, 4, 5]\n"
     ]
    }
   ],
   "source": [
    "L = [1,2,3,4,5]\n",
    "L[1:3] = [100]\n",
    "print(L)"
   ]
  },
  {
   "cell_type": "markdown",
   "metadata": {},
   "source": [
    "L[1:3] 에 해당되는 리스트원소는 2,3 이다.  \n",
    "슬라이싱을 이용해 이 2,3이라는 2개의 원소가 100이라는 하나의 원소로 대체된다."
   ]
  },
  {
   "cell_type": "markdown",
   "metadata": {},
   "source": [
    "2) "
   ]
  },
  {
   "cell_type": "code",
   "execution_count": 18,
   "metadata": {},
   "outputs": [
    {
     "name": "stdout",
     "output_type": "stream",
     "text": [
      "[1, 100, 4, 5]\n"
     ]
    }
   ],
   "source": [
    "L=[1, 2, 3, 4, 5]\n",
    "L[1:3] = [(100)]\n",
    "print(L)"
   ]
  },
  {
   "cell_type": "markdown",
   "metadata": {},
   "source": [
    "이 역시 리스트 내에있는 2,3이라는 2개의 원소가 100이라는 1개의 튜플로 대체된다. 튜플에 원소가 하나만 있는 상태에서 리스트로 들어갈 경우, 이는 괄호() 가 없어진 상태로 리스트안에 들어가게된다. 대신에 리스트 내부에 들어가는 튜플의 원소의 개수가 1개일 경우 튜플 밖에 [] 괄호가 있어야한다.  \n",
    "리스트 내의 튜플의 원소의 개수가2개 이상일 경우에는 튜플 채로 들어가게된다. ex) L[1:3] = [(100,200)] => [1, (100, 200), 4, 5]"
   ]
  },
  {
   "cell_type": "markdown",
   "metadata": {},
   "source": [
    "3)"
   ]
  },
  {
   "cell_type": "code",
   "execution_count": 20,
   "metadata": {},
   "outputs": [
    {
     "ename": "TypeError",
     "evalue": "can only assign an iterable",
     "output_type": "error",
     "traceback": [
      "\u001b[1;31m---------------------------------------------------------------------------\u001b[0m",
      "\u001b[1;31mTypeError\u001b[0m                                 Traceback (most recent call last)",
      "\u001b[1;32m<ipython-input-20-d0274ea64f39>\u001b[0m in \u001b[0;36m<module>\u001b[1;34m()\u001b[0m\n\u001b[0;32m      1\u001b[0m \u001b[0mL\u001b[0m\u001b[1;33m=\u001b[0m\u001b[1;33m[\u001b[0m\u001b[1;36m1\u001b[0m\u001b[1;33m,\u001b[0m \u001b[1;36m2\u001b[0m\u001b[1;33m,\u001b[0m \u001b[1;36m3\u001b[0m\u001b[1;33m,\u001b[0m \u001b[1;36m4\u001b[0m\u001b[1;33m,\u001b[0m \u001b[1;36m5\u001b[0m\u001b[1;33m]\u001b[0m\u001b[1;33m\u001b[0m\u001b[0m\n\u001b[1;32m----> 2\u001b[1;33m \u001b[0mL\u001b[0m\u001b[1;33m[\u001b[0m\u001b[1;36m1\u001b[0m\u001b[1;33m:\u001b[0m\u001b[1;36m3\u001b[0m\u001b[1;33m]\u001b[0m \u001b[1;33m=\u001b[0m \u001b[1;36m100\u001b[0m\u001b[1;33m\u001b[0m\u001b[0m\n\u001b[0m\u001b[0;32m      3\u001b[0m \u001b[0mprint\u001b[0m\u001b[1;33m(\u001b[0m\u001b[0mL\u001b[0m\u001b[1;33m)\u001b[0m\u001b[1;33m\u001b[0m\u001b[0m\n",
      "\u001b[1;31mTypeError\u001b[0m: can only assign an iterable"
     ]
    }
   ],
   "source": [
    "L=[1, 2, 3, 4, 5]\n",
    "L[1:3] = 100\n",
    "print(L)"
   ]
  },
  {
   "cell_type": "markdown",
   "metadata": {},
   "source": [
    "100은 리스트나 튜플같은것이 아닌 int형 자료형이므로 위의 경우들과는 다르게 리스트에 추가될 수 없다.  \n",
    "오류내용이 다음과 같은데, < TypeError: can only assign an iterable  >  \n",
    "여기서 말하는 iterable은 str, range, list, tuple, dict, set과 같은 것들이다. 한마디로 100의 자료형은 iterable에 포함되지 않는다.\n"
   ]
  },
  {
   "cell_type": "markdown",
   "metadata": {},
   "source": [
    "4)"
   ]
  },
  {
   "cell_type": "code",
   "execution_count": 22,
   "metadata": {
    "scrolled": false
   },
   "outputs": [
    {
     "ename": "TypeError",
     "evalue": "can only assign an iterable",
     "output_type": "error",
     "traceback": [
      "\u001b[1;31m---------------------------------------------------------------------------\u001b[0m",
      "\u001b[1;31mTypeError\u001b[0m                                 Traceback (most recent call last)",
      "\u001b[1;32m<ipython-input-22-f155c5a8ccd1>\u001b[0m in \u001b[0;36m<module>\u001b[1;34m()\u001b[0m\n\u001b[0;32m      1\u001b[0m \u001b[0mL\u001b[0m\u001b[1;33m=\u001b[0m\u001b[1;33m[\u001b[0m\u001b[1;36m1\u001b[0m\u001b[1;33m,\u001b[0m \u001b[1;36m2\u001b[0m\u001b[1;33m,\u001b[0m \u001b[1;36m3\u001b[0m\u001b[1;33m,\u001b[0m \u001b[1;36m4\u001b[0m\u001b[1;33m,\u001b[0m \u001b[1;36m5\u001b[0m\u001b[1;33m]\u001b[0m\u001b[1;33m\u001b[0m\u001b[0m\n\u001b[1;32m----> 2\u001b[1;33m \u001b[0mL\u001b[0m\u001b[1;33m[\u001b[0m\u001b[1;36m1\u001b[0m\u001b[1;33m:\u001b[0m\u001b[1;36m3\u001b[0m\u001b[1;33m]\u001b[0m \u001b[1;33m=\u001b[0m \u001b[1;33m(\u001b[0m\u001b[1;36m100\u001b[0m\u001b[1;33m)\u001b[0m\u001b[1;33m\u001b[0m\u001b[0m\n\u001b[0m\u001b[0;32m      3\u001b[0m \u001b[0mprint\u001b[0m\u001b[1;33m(\u001b[0m\u001b[0mL\u001b[0m\u001b[1;33m)\u001b[0m\u001b[1;33m\u001b[0m\u001b[0m\n",
      "\u001b[1;31mTypeError\u001b[0m: can only assign an iterable"
     ]
    }
   ],
   "source": [
    "L=[1, 2, 3, 4, 5]\n",
    "L[1:3] = (100)\n",
    "print(L)"
   ]
  },
  {
   "cell_type": "markdown",
   "metadata": {},
   "source": [
    "튜플 내부에 인자가 하나일 경우 (100,) 처럼 끝에 콤마(,)를 붙여줘야 튜플로 인식된다. "
   ]
  },
  {
   "cell_type": "markdown",
   "metadata": {},
   "source": [
    "5)"
   ]
  },
  {
   "cell_type": "code",
   "execution_count": 24,
   "metadata": {},
   "outputs": [
    {
     "name": "stdout",
     "output_type": "stream",
     "text": [
      "[1, 100, 101, 102, 4, 5]\n"
     ]
    }
   ],
   "source": [
    "L=[1, 2, 3, 4, 5]\n",
    "L[1:3] = (100, 101, 102)\n",
    "print(L)"
   ]
  },
  {
   "cell_type": "markdown",
   "metadata": {},
   "source": [
    "L리스트의 1,2번째 값을 튜플(100, 101, 102)로 대체한다. 범위 내의 인자의 개수보다 대체되는 인자의 개수가 많을때는 범위가 더해져 추가된다.  \n",
    "튜플 겉에 []괄호가 씌워져있지 않으므로 괄호가 벗겨지며 L의 원소를 대체한다. 겉에 []를 씌울 경우 튜플 자체로 대체된다.  \n",
    "ex) L[1:3] = [(100, 101, 102)] => [1, (100, 101, 102), 4, 5]"
   ]
  },
  {
   "cell_type": "markdown",
   "metadata": {},
   "source": [
    "6)"
   ]
  },
  {
   "cell_type": "code",
   "execution_count": 26,
   "metadata": {
    "scrolled": true
   },
   "outputs": [
    {
     "name": "stdout",
     "output_type": "stream",
     "text": [
      "[1, 100, 101, 102, 4, 5]\n"
     ]
    }
   ],
   "source": [
    "L=[1, 2, 3, 4, 5]\n",
    "L[1:3] = [100, 101, 102]\n",
    "print(L)"
   ]
  },
  {
   "cell_type": "markdown",
   "metadata": {},
   "source": [
    "5번과 비슷하다. 리스트 겉에 리스트괄호[]가 없기때문에 리스트 내부로 들어갈 때 괄호가 벗겨지며 2,3을 대체한다. 리스트 자체로 값을 대체하고 싶은경우에는 넣고싶은 공간의 타입을 고려해 알맞은 괄호를 겉에 씌워주면 된다. L은 리스트이므로 []를 씌워주면 된다.  \n",
    "ex) L[1:3] = [[100, 101, 102]] => [1, [100, 101, 102], 4, 5]"
   ]
  },
  {
   "cell_type": "markdown",
   "metadata": {},
   "source": [
    "7)"
   ]
  },
  {
   "cell_type": "code",
   "execution_count": 12,
   "metadata": {},
   "outputs": [
    {
     "name": "stdout",
     "output_type": "stream",
     "text": [
      "[1, (100, 101, 102), 4, 5]\n"
     ]
    }
   ],
   "source": [
    "L=[1, 2, 3, 4, 5]\n",
    "L[1:3] = [(100, 101, 102)]\n",
    "print(L)"
   ]
  },
  {
   "cell_type": "markdown",
   "metadata": {},
   "source": [
    "튜플 겉에 리스트괄호[]가 씌워져 있으므로 리스트내부에 튜플 자체로 들어가게 된다."
   ]
  },
  {
   "cell_type": "markdown",
   "metadata": {},
   "source": [
    "8)"
   ]
  },
  {
   "cell_type": "code",
   "execution_count": 13,
   "metadata": {},
   "outputs": [
    {
     "name": "stdout",
     "output_type": "stream",
     "text": [
      "[1, [100, 101, 102], 4, 5]\n"
     ]
    }
   ],
   "source": [
    "L=[1, 2, 3, 4, 5]\n",
    "L[1:3] = [[100, 101, 102]]\n",
    "print(L)"
   ]
  },
  {
   "cell_type": "markdown",
   "metadata": {},
   "source": [
    "마찬가지로 리스트 겉에 리스트괄호[]가 씌워져 있으므로 리스트 내부에 리스트 자체로 들어가게된다."
   ]
  },
  {
   "cell_type": "markdown",
   "metadata": {},
   "source": [
    "## 문제2"
   ]
  },
  {
   "cell_type": "markdown",
   "metadata": {},
   "source": [
    "- 문자열 S = 'Hello World and Python'에 대해 다음 요구사항에 대한 Python 코드를 제시하시오.\n",
    " - 1) 단어의 순서가 역순으로 되어진 문자열 ('Python and World Hello')을 만들고\n",
    " - 2) 1)의 결과 문자열에 대해 메소드 split과 join을 이용하여 공백을 모두 없엔 문자열 'PythonandWorldHello'을 만드시오."
   ]
  },
  {
   "cell_type": "code",
   "execution_count": 42,
   "metadata": {},
   "outputs": [
    {
     "name": "stdout",
     "output_type": "stream",
     "text": [
      "['Python', 'and', 'World', 'Hello']\n",
      "PythonandWorldHello\n"
     ]
    }
   ],
   "source": [
    "S = 'Hello World and Python'\n",
    "S1 = S[-6:]+ ' ' + S[-10:-7] + ' ' + S[6:11] + ' ' + S[0:5]\n",
    "S2 = S1.split(' ')\n",
    "print(S2)\n",
    "S_add = ''.join(S2)\n",
    "print(S_add)"
   ]
  },
  {
   "cell_type": "markdown",
   "metadata": {},
   "source": [
    "슬라이싱을 이용해 각 단어들을 구분하고 이를 역순으로 사이사이에 공백(' ')을 넣어 S1에 저장한다.  \n",
    "그 후 split메소드로 S1문자열을 공백으로 구분해 각각의 단어를 리스트화 시킨다.  \n",
    "마지막으로 S_add에 join메소드로 리스트의 모든 단어를 구분없이 모두('') 문자열화 시킨다."
   ]
  },
  {
   "cell_type": "markdown",
   "metadata": {},
   "source": [
    "## 문제3\n",
    "\n",
    "- 다음 코드를 보고 물음에 답하시오.\n",
    "\n",
    "        a = [1, 2, 3]  \n",
    "        b = a * 3  \n",
    "        c = [a] * 3  \n",
    "        print(b)  \n",
    "        print(c)  "
   ]
  },
  {
   "cell_type": "markdown",
   "metadata": {},
   "source": [
    " - 1) 위 코드를 수행한 이후 다음 코드를 수행한 후 b와 c의 내용을 확인하시오.\n",
    "       a[0]=0"
   ]
  },
  {
   "cell_type": "code",
   "execution_count": 53,
   "metadata": {},
   "outputs": [
    {
     "name": "stdout",
     "output_type": "stream",
     "text": [
      "[1, 2, 3]\n",
      "[1, 2, 3, 1, 2, 3, 1, 2, 3]\n",
      "[[1, 2, 3], [1, 2, 3], [1, 2, 3]]\n"
     ]
    }
   ],
   "source": [
    "a = [1, 2, 3]\n",
    "b = a * 3\n",
    "c = [a] * 3\n",
    "print(a)\n",
    "print(b)\n",
    "print(c)"
   ]
  },
  {
   "cell_type": "code",
   "execution_count": 54,
   "metadata": {},
   "outputs": [
    {
     "name": "stdout",
     "output_type": "stream",
     "text": [
      "[0, 2, 3]\n",
      "[1, 2, 3, 1, 2, 3, 1, 2, 3]\n",
      "[[0, 2, 3], [0, 2, 3], [0, 2, 3]]\n"
     ]
    }
   ],
   "source": [
    "a[0]=0\n",
    "print(a)\n",
    "print(b)\n",
    "print(c)"
   ]
  },
  {
   "cell_type": "markdown",
   "metadata": {},
   "source": [
    "1. 리스트 [1,2,3]이라는 객체가 저장되어 있는 공간을 가리키는 a가 있다. \n",
    "2. b는 a가 가리키는 공간의 객체([1,2,3]) 에 접근한다. \n",
    "3. c는 리스트화된 [a] 객체에 접근한다.\n",
    "4. 즉, a와 [a]가 가지고있는 주소값은 다르다. [a] 는 리스트 내부에 a를 원소로 가지고 있다는 뜻이고, 리스트 자체에도 주소값이 할당되어 있다. \n",
    "5. a의 0번째 인덱스를 0으로 바꿔줌으로써 a는 [1,2,3]과는 다른 주소를 가지고 있는 [0,2,3] 이라는 객체를 가리킨다. 하지만 b는 전에 a가 가리키고있던 [1,2,3]을 그대로 가리키고있기 때문에 print(b)를 했을 경우에 결과값이 바뀌지 않는다.\n",
    "6. 객체[a]의 주소값을 참조하여 * 연산을 하던 c는 그대로 [a]를 가리킨다. 즉 a[0]가 바뀌어서 a가 가리키는 주소값은 바뀌었어도 [a]가 가리키는 주소값은 바뀌지 않았으므로 바뀐대로 출력된다."
   ]
  },
  {
   "cell_type": "markdown",
   "metadata": {},
   "source": [
    "## 문제4\n",
    "- 다음 문자열을 ':'을 기준으로 분리하여 리스트로 만들고 각 문자열의 좌우 공백을 제거하시오 (즉, 문자열 S에서 l을 만들어라)  \n",
    "s = '  first star   :   second star   :    third star  '  \n",
    "l = ['first star', 'second star', 'third star']\n",
    "\n",
    "  - 1) for ~ in 문을 이용한 코드를 작성하시오.  \n",
    "  - 2) 리스트 내포(list comprehension)를 이용한 코드를 작성하시오."
   ]
  },
  {
   "cell_type": "markdown",
   "metadata": {},
   "source": [
    "for ~ in 문 이용"
   ]
  },
  {
   "cell_type": "code",
   "execution_count": 75,
   "metadata": {
    "scrolled": true
   },
   "outputs": [
    {
     "name": "stdout",
     "output_type": "stream",
     "text": [
      "['  first star', 'second star', ' third star  ']\n",
      "['first star', 'second star', 'third star']\n"
     ]
    }
   ],
   "source": [
    "S = '  first star   :   second star   :    third star  '  \n",
    "k = S.split('   :   ')\n",
    "print(k)\n",
    "l=[]\n",
    "for a in k :\n",
    "    l.append(a.strip())\n",
    "print(l)"
   ]
  },
  {
   "cell_type": "markdown",
   "metadata": {},
   "source": [
    "1. '  first star   :   second star   :    third star  '이라는 문자열에서 split 메소드로 '   :   '를 기준으로 나눠 k에 저장한다.\n",
    "2. 그러면 k리스트의 원소는 다음과 같아진다.  ['  first star', 'second star', ' third star  ']\n",
    "3. 비어있는 리스트를 가리키는 l을 설정해주고 for문을 이용해 리스트 k의 각각의 원소(a)에 접근해 strip으로 공백을 없애준 후 l에 append 시켜준다."
   ]
  },
  {
   "cell_type": "markdown",
   "metadata": {},
   "source": [
    "리스트 내포(list comprehension) 이용"
   ]
  },
  {
   "cell_type": "code",
   "execution_count": 76,
   "metadata": {
    "scrolled": true
   },
   "outputs": [
    {
     "name": "stdout",
     "output_type": "stream",
     "text": [
      "['  first star', 'second star', ' third star  ']\n",
      "['first star', 'second star', 'third star']\n"
     ]
    }
   ],
   "source": [
    "S = '  first star   :   second star   :    third star  '  \n",
    "k = S.split('   :   ')\n",
    "print(k)\n",
    "l = [a.strip() for a in k]\n",
    "print(l)"
   ]
  },
  {
   "cell_type": "markdown",
   "metadata": {},
   "source": [
    "1. 1,2는 위와 같다.\n",
    "2. 리스트 내포를 이용해 리스트 k의 각각의 원소a를 strip() 한 결과를 l의 원소로 갖는다."
   ]
  },
  {
   "cell_type": "markdown",
   "metadata": {},
   "source": [
    "## 문제5\n",
    "\n",
    " - 다음과 같이 0보다 큰 정수 리스트 변수 list를 인자로 받는 함수 addall(list)와 addallodd(list)를 for ~ in 리터널과 리스트 내포 방식으로 각각 제시하시오.\n",
    "   - 1) addall(list) 함수 (리스트 내의 모든 정수를 더하는 함수로서 해답으로는 for ~ in 리터럴과 리스트 내포 방식으로 각각 제시하시오.)\n",
    "        -  \n",
    "                >>> addall([1])\n",
    "                1\n",
    "                >>> addall([1, 2, 3, 4, 5, 6, 7, 8, 9])\n",
    "                45\n",
    "    - 2) addallodd(list) 함수 (리스트내의 모든 홀수를 더하는 함수로서 해답으로는 for ~ in 리터럴과 리스트 내포 방식으로 각각 제시하시오.)\n",
    "        - \n",
    "                >>> addallodd([1])\n",
    "                1\n",
    "                >>> addallodd([1, 2, 3, 4, 5, 6, 7, 8, 9])\n",
    "                25\n",
    "- [참고 1]: 리스트 내포 방식으로 addall() 및 addallodd()함수를 만들 때엔 리스트 내포에 의해 생성된 리스트 결과에 대해 내장 함수를 사용하는 방식을 고려해보시오 (주의: 리스트 내포 방식의 addall() 및 addallodd() 함수의 몸체는 단 1줄로 작성되어야 한다.)\n",
    "- [참고 2]: sum() 등의 내장함수 사용 가능함"
   ]
  },
  {
   "cell_type": "markdown",
   "metadata": {},
   "source": [
    "- addall(list) - for ~ in 방식"
   ]
  },
  {
   "cell_type": "code",
   "execution_count": 100,
   "metadata": {
    "scrolled": true
   },
   "outputs": [
    {
     "name": "stdout",
     "output_type": "stream",
     "text": [
      "45\n"
     ]
    }
   ],
   "source": [
    "def addall(list) :\n",
    "    result =0\n",
    "    for a in list :\n",
    "        result += a\n",
    "    print(result)\n",
    "addall([1,2,3,4,5,6,7,8,9])"
   ]
  },
  {
   "cell_type": "markdown",
   "metadata": {},
   "source": [
    "1. addall함수에 [1,2,3,4,5,6,7,8,9] 라는 리스트를 인자로 넘겨준다.\n",
    "2. 리스트인자들의 합을 저장할 변수인 result를 0으로 초기화해준다.\n",
    "3. for~in 문을 이용해 list의 각각의 원소를 result에 더해준 후 출력한다."
   ]
  },
  {
   "cell_type": "markdown",
   "metadata": {},
   "source": [
    "- addall(list) - 리스트 내포 방식"
   ]
  },
  {
   "cell_type": "code",
   "execution_count": 119,
   "metadata": {
    "scrolled": false
   },
   "outputs": [
    {
     "name": "stdout",
     "output_type": "stream",
     "text": [
      "45\n"
     ]
    }
   ],
   "source": [
    "def addall(list) :\n",
    "    print(sum([a for a in list]))\n",
    "addall([1, 2, 3, 4, 5, 6, 7, 8, 9])"
   ]
  },
  {
   "cell_type": "markdown",
   "metadata": {},
   "source": [
    "1. addall함수에 [1,2,3,4,5,6,7,8,9] 라는 리스트를 인자로 넘겨준다.\n",
    "2. 리스트 내포를 이용해 list의 원소들(a)로 리스트를 만든다.\n",
    "3. 그 후 sum 내장함수를 이용해 리스트내의 모든 원소를 더해준다."
   ]
  },
  {
   "cell_type": "markdown",
   "metadata": {},
   "source": [
    "- addallodd(list) - for ~ in 방식"
   ]
  },
  {
   "cell_type": "code",
   "execution_count": 101,
   "metadata": {
    "scrolled": true
   },
   "outputs": [
    {
     "name": "stdout",
     "output_type": "stream",
     "text": [
      "25\n"
     ]
    }
   ],
   "source": [
    "def addallodd(list) :\n",
    "    result =0\n",
    "    for a in list :\n",
    "        if(a%2 != 0):\n",
    "            result+=a\n",
    "    print(result)\n",
    "addallodd([1,2,3,4,5,6,7,8,9])"
   ]
  },
  {
   "cell_type": "markdown",
   "metadata": {},
   "source": [
    "1. 1,2번은 addall for~in 방식과 동일하다.\n",
    "2. for문내에서 if문으로 a가 2로 나눴을 때 나머지가 0이 아닌 수이면 result에 더하는 조건을 추가한다.\n",
    "3. result를 출력한다."
   ]
  },
  {
   "cell_type": "markdown",
   "metadata": {},
   "source": [
    "- addallodd(list) - 리스트 내포 방식"
   ]
  },
  {
   "cell_type": "code",
   "execution_count": 118,
   "metadata": {
    "scrolled": true
   },
   "outputs": [
    {
     "name": "stdout",
     "output_type": "stream",
     "text": [
      "25\n"
     ]
    }
   ],
   "source": [
    "def addallodd(list) :\n",
    "    print(sum([a for a in list if a%2 != 0]))\n",
    "addallodd([1,2,3,4,5,6,7,8,9])"
   ]
  },
  {
   "cell_type": "markdown",
   "metadata": {},
   "source": [
    "1. addall함수에 [1,2,3,4,5,6,7,8,9] 라는 리스트를 인자로 넘겨준다.\n",
    "2. 리스트 내포를 이용할 때, list내에있는 원소가 2로 나누어떨어지지 않는 수를 리스트로 만든다.\n",
    "3. 만들어진 리스트를 sum내장함수를 이용해 모두 더해준 후 출력한다."
   ]
  },
  {
   "cell_type": "markdown",
   "metadata": {},
   "source": [
    "## 문제6"
   ]
  },
  {
   "cell_type": "markdown",
   "metadata": {},
   "source": [
    "- 다음 코드를 보고 물음에 답하시오.\n",
    "\n",
    "        L1 = [1, 2, 3]\n",
    "        L2 = [4, 5, 6]\n",
    "        d = {'low':L1, 'high':L2}\n",
    "        e = d\n",
    "        f = d.copy()\n",
    "        print(d)\n",
    "        print(e)\n",
    "        print(f)\n",
    "        print()\n",
    "        d['low'] = [10, 20, 30]\n",
    "        d['high'][1] = 500\n",
    "        print(d)\n",
    "        print(e)\n",
    "        print(f)\n",
    "        \n",
    "- 1) 위 코드의 수행 결과 d와 e는 항상 같은 결과를 출력한다. 그 이유는 무엇인가?  \n",
    "- 2) 위 코드의 수행 결과 마지막 f의 내용은 다음과 같다. 이 때 'high' 키의 값 내용 중 500이 출력된 이유와 'low' 키의 값 내용 중 [1, 2, 3]이 출력된 이유를 설명하시오 ([hint]: shallow copy 관점에서 설명하시오.)\n",
    "\n",
    "        {'high': [4, 500, 6], 'low': [1, 2, 3]}"
   ]
  },
  {
   "cell_type": "code",
   "execution_count": 121,
   "metadata": {},
   "outputs": [
    {
     "name": "stdout",
     "output_type": "stream",
     "text": [
      "{'low': [1, 2, 3], 'high': [4, 5, 6]}\n",
      "{'low': [1, 2, 3], 'high': [4, 5, 6]}\n",
      "{'low': [1, 2, 3], 'high': [4, 5, 6]}\n",
      "\n",
      "{'low': [10, 20, 30], 'high': [4, 500, 6]}\n",
      "{'low': [10, 20, 30], 'high': [4, 500, 6]}\n",
      "{'low': [1, 2, 3], 'high': [4, 500, 6]}\n"
     ]
    }
   ],
   "source": [
    "L1 = [1, 2, 3]\n",
    "L2 = [4, 5, 6]\n",
    "d = {'low':L1, 'high':L2}\n",
    "e = d\n",
    "f = d.copy()\n",
    "print(d)\n",
    "print(e)\n",
    "print(f)\n",
    "print()\n",
    "d['low'] = [10, 20, 30]\n",
    "d['high'][1] = 500\n",
    "print(d)\n",
    "print(e)\n",
    "print(f)"
   ]
  },
  {
   "cell_type": "markdown",
   "metadata": {},
   "source": [
    "1)\n",
    "1. e = d 로 인해 e에는 d의 '주소값'이 복사되었으므로, d가 어느 한곳을 가리키면 e는 자동으로 같은곳을 가리킨다.\n",
    "2. d가 가리키는 곳의 값이 변하면, 당연히 e가 가리키는곳의 값도 변해있다. 그렇기 때문에 d와 e는 항상 같은 결과를 출력한다."
   ]
  },
  {
   "cell_type": "markdown",
   "metadata": {},
   "source": [
    "2)\n",
    "1. f = d.copy() 로 인해 얕은 복사가 진행되었다. 이는 d와 f의 key객체는 값은 같지만 서로 다른공간에 할당되어져있지만 서로의 key가 가리키는 value는 얕은복사이기 때문에 같다.\n",
    "2. 사전 d의 'low'키가 가리키는 객체가 [1,2,3]에서 [10,20,30]으로 바뀌었다. [1,2,3] 과 [10,20,30]은 서로 다른 공간에 할당되어 있으므로 주소값도 당연히 다르고, 'low'의 value값의 주소도 바뀐다.\n",
    "3. 하지만 f의 'low'는 여전히 [1,2,3]을 가리키고 있다. d와 f의 주소값이 다르기 때문에 d가 가리키는 값이 변한다고 해서 f도 변하는것은 아니다.\n",
    "4. d['high'][1] = 500 의 수행 결과로 key값 'high'의 value값의 원소 중 한 부분만 바뀌었다. 이는 1번처럼 리스트의 원소가 모두 바뀌어서 새로운 리스트공간을 할당받아 주소값이 변하는것이 아니라, 기존의 리스트 주소는 유지하되, 리스트 내부의 각각의 원소가 다른 객체를 가리키기 때문에 같은 리스트의 주소를 참조하는것은 여전히 변함이 없다. 이는 얕은복사의 특성으로, 리스트내의 원소까지는 복사가 되지 않는다.\n",
    "\n",
    "아래는 위의 결과값이 실제로 맞는지 id로 확인해본 결과이다."
   ]
  },
  {
   "cell_type": "code",
   "execution_count": 164,
   "metadata": {
    "scrolled": true
   },
   "outputs": [
    {
     "name": "stdout",
     "output_type": "stream",
     "text": [
      "d = 2324183869696\n",
      "e = 2324183869696\n",
      "f = 2324183871280\n",
      "{'low':L1, 'high':L2} = 2324183769808\n",
      "\n",
      "\n",
      "d['low'] = 2324183795464\n",
      "f['low'] = 2324183795464\n",
      "d['high'] = 2324183793800\n",
      "f['high'] = 2324183793800\n",
      "\n",
      "\n",
      "d['low'] = 2324183795656\n",
      "f['low'] = 2324183795464\n",
      "\n",
      "\n",
      "d['high'] = 2324183793800\n",
      "f['high'] = 2324183793800\n"
     ]
    }
   ],
   "source": [
    "\n",
    "d = {'low':L1, 'high':L2}\n",
    "e = d\n",
    "f = d.copy()\n",
    "\n",
    "print(\"d =\",id(d))\n",
    "print(\"e =\",id(e))\n",
    "print(\"f =\",id(f))\n",
    "print(\"{'low':L1, 'high':L2} =\",id({'low':L1, 'high':L2}))\n",
    "print('\\n')\n",
    "print(\"d['low'] =\",id(d['low']))\n",
    "print(\"f['low'] =\",id(f['low']))\n",
    "print(\"d['high'] =\",id(d['high']))\n",
    "print(\"f['high'] =\",id(f['high']))\n",
    "print('\\n')\n",
    "d['low'] = [10, 20, 30]\n",
    "d['high'][0] = 500\n",
    "\n",
    "print(\"d['low'] =\",id(d['low']))\n",
    "print(\"f['low'] =\",id(f['low']))\n",
    "print(\"\\n\")\n",
    "\n",
    "print(\"d['high'] =\",id(d['high']))\n",
    "print(\"f['high'] =\",id(f['high']))"
   ]
  },
  {
   "cell_type": "markdown",
   "metadata": {},
   "source": [
    "## 문제7\n",
    "- 사전 d = {'one':1, 'two':2, 'three':3, 'four':4, 'five':5}가 주어졌을 때 다음 요구사항에 맞는 코드를 제시하시오\n",
    "    - [참고]: d.keys(), d.values()를 통해 리스트를 얻어낸 후 리스트가 지니고 있는 sort(cmp=None, key=None, reverse=False)함수를 활용하시오.\n",
    "    - 1) 키의 알파벳 오름차순 순서대로 튜플 (키, 값)을 차례대로 출력하시오.\n",
    "    - 2) 키의 알파벳 내림차순 순서대로 튜플 (키, 값)을 차례대로 출력하시오.\n",
    "    - 3) 값의 오름차순 순서대로 튜플 (키, 값)을 차례대로 출력하시오.\n",
    "    - 4) 값의 내림차순 순서대로 튜플 (키, 값)을 차례대로 출력하시오."
   ]
  },
  {
   "cell_type": "markdown",
   "metadata": {},
   "source": [
    "1)"
   ]
  },
  {
   "cell_type": "code",
   "execution_count": 191,
   "metadata": {
    "scrolled": true
   },
   "outputs": [
    {
     "name": "stdout",
     "output_type": "stream",
     "text": [
      "[('one', 1), ('two', 2), ('three', 3), ('four', 4), ('five', 5)]\n",
      "[('five', 5), ('four', 4), ('one', 1), ('three', 3), ('two', 2)]\n"
     ]
    }
   ],
   "source": [
    "d = {'one':1, 'two':2, 'three':3, 'four':4, 'five':5}\n",
    "l = list()\n",
    "for k in d.items() :\n",
    "    l.append(k)\n",
    "print(l)\n",
    "l.sort()\n",
    "print(l)"
   ]
  },
  {
   "cell_type": "markdown",
   "metadata": {},
   "source": [
    "d.items 만을 가지고 sort를 하려고 하니 오류가 발생했다. 그래서 for~in 문, append 메소드를 이용해 사전을 리스트화 시켜 l에 저장하고, l을 sort로 오름차순 정렬했다. 인자값이 없으니 우선순위 key값은 key의 0번째 원소이고 reverse = False 이다."
   ]
  },
  {
   "cell_type": "markdown",
   "metadata": {},
   "source": [
    "2)"
   ]
  },
  {
   "cell_type": "code",
   "execution_count": 193,
   "metadata": {
    "scrolled": true
   },
   "outputs": [
    {
     "name": "stdout",
     "output_type": "stream",
     "text": [
      "[('one', 1), ('two', 2), ('three', 3), ('four', 4), ('five', 5)]\n",
      "[('two', 2), ('three', 3), ('one', 1), ('four', 4), ('five', 5)]\n"
     ]
    }
   ],
   "source": [
    "d = {'one':1, 'two':2, 'three':3, 'four':4, 'five':5}\n",
    "l = list()\n",
    "for k in d.items() :\n",
    "    l.append(k)\n",
    "print(l)\n",
    "l.sort(reverse = True)\n",
    "print(l)"
   ]
  },
  {
   "cell_type": "markdown",
   "metadata": {},
   "source": [
    "위와 같은 방식이지만 reverse = True를 인자값으로 설정해 key값의 0번째 원소로 내림차순을 출력한다."
   ]
  },
  {
   "cell_type": "markdown",
   "metadata": {},
   "source": [
    "3)"
   ]
  },
  {
   "cell_type": "code",
   "execution_count": 256,
   "metadata": {
    "scrolled": true
   },
   "outputs": [
    {
     "ename": "TypeError",
     "evalue": "'tuple' object is not callable",
     "output_type": "error",
     "traceback": [
      "\u001b[1;31m---------------------------------------------------------------------------\u001b[0m",
      "\u001b[1;31mTypeError\u001b[0m                                 Traceback (most recent call last)",
      "\u001b[1;32m<ipython-input-256-7729beb0259d>\u001b[0m in \u001b[0;36m<module>\u001b[1;34m()\u001b[0m\n\u001b[0;32m      6\u001b[0m \u001b[1;32mfor\u001b[0m \u001b[0mk\u001b[0m \u001b[1;32min\u001b[0m \u001b[0md\u001b[0m\u001b[1;33m.\u001b[0m\u001b[0mitems\u001b[0m\u001b[1;33m(\u001b[0m\u001b[1;33m)\u001b[0m \u001b[1;33m:\u001b[0m\u001b[1;33m\u001b[0m\u001b[0m\n\u001b[0;32m      7\u001b[0m     \u001b[0ml\u001b[0m\u001b[1;33m.\u001b[0m\u001b[0mappend\u001b[0m\u001b[1;33m(\u001b[0m\u001b[0mk\u001b[0m\u001b[1;33m)\u001b[0m\u001b[1;33m\u001b[0m\u001b[0m\n\u001b[1;32m----> 8\u001b[1;33m \u001b[0ml\u001b[0m\u001b[1;33m.\u001b[0m\u001b[0msort\u001b[0m\u001b[1;33m(\u001b[0m\u001b[0mkey\u001b[0m \u001b[1;33m=\u001b[0m \u001b[0ml\u001b[0m\u001b[1;33m[\u001b[0m\u001b[1;36m1\u001b[0m\u001b[1;33m]\u001b[0m\u001b[1;33m)\u001b[0m\u001b[1;33m\u001b[0m\u001b[0m\n\u001b[0m\u001b[0;32m      9\u001b[0m \u001b[0mprint\u001b[0m\u001b[1;33m(\u001b[0m\u001b[0ml\u001b[0m\u001b[1;33m)\u001b[0m\u001b[1;33m\u001b[0m\u001b[0m\n",
      "\u001b[1;31mTypeError\u001b[0m: 'tuple' object is not callable"
     ]
    }
   ],
   "source": [
    "def return_values(list) :\n",
    "    return list[1]\n",
    "d = {'one':1, 'two':2, 'three':3, 'four':4, 'five':5}\n",
    "l = list()\n",
    "\n",
    "for k in d.items() :\n",
    "    l.append(k)\n",
    "l.sort(key = return_values)\n",
    "print(l)"
   ]
  },
  {
   "cell_type": "markdown",
   "metadata": {},
   "source": [
    "사전d를 리스트화시킨 결과를 l에 저장한다.  \n",
    "value로 오름차순 순서를 만들기 위해서는 리스트의 각 원소의 [1]번째 인덱스를 우선순위 key값으로 설정해야한다. key값으로는 l[1]을 반환해주는 return_values함수의 이름으로 설정해야 우선순위 key값이 제대로 설정된다.  \n",
    "결과물만 놓고보면 정말 아무것도 아닌거같은데, key의 설정값을 도대체 무엇으로 설정해야하는지에 대한 해결책을 떠올리기까지 걸린시간이 상당했다."
   ]
  },
  {
   "cell_type": "markdown",
   "metadata": {},
   "source": [
    "4)"
   ]
  },
  {
   "cell_type": "code",
   "execution_count": 255,
   "metadata": {
    "scrolled": true
   },
   "outputs": [
    {
     "name": "stdout",
     "output_type": "stream",
     "text": [
      "[('five', 5), ('four', 4), ('three', 3), ('two', 2), ('one', 1)]\n"
     ]
    }
   ],
   "source": [
    "def return_values(list) :\n",
    "    return list[1]\n",
    "d = {'one':1, 'two':2, 'three':3, 'four':4, 'five':5}\n",
    "l = list()\n",
    "\n",
    "for k in d.items() :\n",
    "    l.append(k)\n",
    "l.sort(key = return_values, reverse = True)\n",
    "print(l)"
   ]
  },
  {
   "cell_type": "markdown",
   "metadata": {},
   "source": [
    "2번과 마찬가지로, 3번의 과정에서 reverse = True를 추가 인자로 넣어주어 내림차순으로 출력되게 한다."
   ]
  },
  {
   "cell_type": "markdown",
   "metadata": {},
   "source": [
    "## 문제8"
   ]
  },
  {
   "cell_type": "markdown",
   "metadata": {},
   "source": [
    "- [ACM-ICPC 문제 1152번]\n",
    "  - 단어의 개수"
   ]
  },
  {
   "cell_type": "code",
   "execution_count": 272,
   "metadata": {},
   "outputs": [
    {
     "name": "stdout",
     "output_type": "stream",
     "text": [
      "The Curious Case of Benjamin Button\n",
      "6\n"
     ]
    }
   ],
   "source": [
    "a=input().split()\n",
    "print(len(a))"
   ]
  },
  {
   "cell_type": "markdown",
   "metadata": {},
   "source": [
    "문자열을 입력받고 split메소드로 문자열을 공백으로 나눈 원소들을 a에 저장한 후 리스트a의 길이를 출력한다.\n",
    "\n",
    "![1](https://github.com/PYJ99/-2/blob/master/%EA%B3%BC%EC%A0%9C3.jpg?raw=true)"
   ]
  },
  {
   "cell_type": "markdown",
   "metadata": {},
   "source": [
    "## 문제9"
   ]
  },
  {
   "cell_type": "markdown",
   "metadata": {},
   "source": [
    " - [Incremental Project] 이전 Assignment 2의 마지막 문제는 웹 URL로 지정된 웹페이지를 문자열로 가져와 모든 HTML 태그 및 CSS와 Javascript를 제외한 순수 텍스트를 얻어내고 그 안에 존재하는 단어를 추출하고 단어들의 총 개수를 출력하는 프로그램을 작성하는 것이었다. 이번에는 그 마지막 숙제를 그대로 확장하여 웹 URL로 지정된 웹페이지 내 순수 텍스트 안에 존재하는 각 단어들에 대해 다음 요구사항 대로 출력하는 프로그램을 작성하시오."
   ]
  },
  {
   "cell_type": "markdown",
   "metadata": {},
   "source": [
    "### 네이버 (naver.com)"
   ]
  },
  {
   "cell_type": "code",
   "execution_count": 391,
   "metadata": {
    "scrolled": true
   },
   "outputs": [
    {
     "name": "stdout",
     "output_type": "stream",
     "text": [
      "{'NAVER': 3, '뉴스스탠드': 2, '바로가기': 6, '주제별캐스트': 1, '타임스퀘어': 2, '쇼핑캐스트': 2, '로그인': 4, '네이버': 7, '네이버를': 1, '시작페이지로': 1, '쥬니어네이버': 1, '해피빈': 1, '검색': 2, '통합검색': 1, '블로그': 2, '카페': 2, '카페명': 1, '': 13, '카페글': 1, '지식iN': 1, '뉴스': 3, '사이트': 2, '카테고리': 1, '영화': 4, '웹문서': 1, '사전': 2, '백과사전': 1, '영어사전': 1, '영영사전': 1, '국어사전': 1, '일본어사전': 1, '한자사전': 1, '용어사전': 1, '책': 2, '음악': 1, '전문자료': 1, '쇼핑': 2, '지역': 2, '동영상': 1, '이미지': 1, '내PC': 1, '자동차': 2, '게임': 2, '건강': 3, '인물': 1, '긍정부정검색': 1, '자동완성': 18, '펼치기': 5, '한글': 1, '입력기': 1, '생각한대로': 1, '검색해': 1, '보세요': 2, 'Beta': 1, 'txt': 4, '시간대와': 1, '관심사에': 2, '맞춘': 1, '컨텍스트': 3, '도움말': 6, '보기': 21, 'ON': 1, '선택됨': 1, 'OFF': 1, '동일한': 1, '시간대연령남녀별': 1, '사용자': 1, '그룹의': 1, '맞춰': 1, '자동완성을': 1, '제공합니다': 1, '자세히': 2, 'ONOFF설정은': 1, '해당': 1, '기기브라우저에': 1, '저장됩니다': 1, '레이어': 1, '닫기': 3, '신고': 4, '검색어저장': 6, '켜기': 5, '끄기': 7, '기능을': 5, '다시': 4, '켤': 4, '때는': 4, '을': 4, '클릭하세요': 4, '현재': 1, '사용하고': 1, '계십니다': 1, '기능이': 5, '활성화되었습니다': 1, '꺼져': 3, '있습니다': 5, '최근검색어': 2, '내': 8, '검색어': 7, '등록': 3, 'date': 1, '삭제': 4, 'intxt': 1, '내역이': 1, '없습니다': 3, '저장': 2, '해제': 1, '설정된': 1, '검색어가': 1, '최근검색어에서': 1, '를': 1, '선택하여': 1, '자주': 1, '찾는': 1, '검색어를': 2, '검색어로': 1, '저장해': 1, '알림': 1, '공용': 1, 'PC에서는': 1, '개인정보': 1, '보호를': 1, '위하여': 1, '반드시': 1, '로그아웃을': 1, '해': 1, '주세요': 1, '기록': 3, '전체': 5, '완료': 1, '검색어는': 1, '최대': 1, '10': 3, '개': 1, '까지': 1, '저장할': 1, '수': 2, '추가하시려면': 1, '기존': 1, '지워주세요': 1, '제19대': 1, '대통령선거': 1, '후보에': 1, '대해': 1, '5월': 1, '9일': 1, '선거일까지': 1, '제공되지': 1, '않습니다': 1, '자세히보기': 1, '메일': 1, '지식인': 1, '네이버페이': 1, '네이버TV': 1, '증권금융': 1, '부동산': 1, '지도': 1, '뮤직': 2, '만화': 1, '웹툰': 2, '더보기': 1, '실시간': 2, '급상승': 3, '1': 2, '김용진': 2, '2': 2, '2017': 3, '부산': 2, '불꽃축제': 2, '3': 2, '페이커': 2, '4': 2, '롤드컵': 2, '5': 2, '큐넷': 2, '6': 2, '공인중개사': 4, '가답안': 2, '7': 2, '맨유': 2, '토트넘': 2, '8': 2, '시험': 2, '9': 2, '로드fc': 2, '마스터키': 2, '11': 2, '한국기권': 2, '12': 2, '강은비': 2, '13': 2, 'skt': 2, '14': 2, '무한도전': 2, '15': 2, '아는형님': 2, '16': 2, '김정민': 2, '17': 2, '믹스나인': 2, '18': 2, '트위치tv': 2, '19': 2, '그것이': 2, '알고싶다': 2, '20': 2, '더유닛': 2, 'DataLab': 1, '트래킹': 1, '110위': 1, '1120위': 1, '데이터랩': 20, '그래프': 20, '20171028': 1, '185300': 1, '기준': 1, '연합뉴스': 1, '한미': 1, 'SCM서': 1, '北에': 1, '강력경고·확장억제': 1, '실효성': 1, '담보': 1, '文대통령적폐청산·나라다운': 1, '나라': 2, '누구나': 2, '같은뜻': 1, '박근혜': 1, '퇴진→MB구속·反트럼프…바뀐': 1, '촛불': 1, '구호': 1, '안치홍': 1, '2타점·나지완': 1, '쐐기': 1, '투런포…KIA': 1, 'KS': 1, '1패': 1, '후': 3, '2연승': 1, '윤송이': 1, '사장': 1, '부친': 1, '살해범': 1, '답변거부…29일': 1, '영장심사': 1, '가계빚': 1, '급증에': 1, '고성장…저축은행': 1, '성장률': 1, '두자리': 1, '檢': 1, '서천호': 1, '前국정원': 1, '2차장': 1, '소환사…국가에': 1, '충성': 1, '단풍': 1, '절정': 1, '너도나도': 1, '산으로…전국': 1, '축제장도': 1, '북적': 1, '스페인': 1, '카탈루냐': 1, '직접': 2, '통치': 1, '개시…경찰청장도': 1, '해임': 1, '北': 1, '나포': 1, '391흥진호': 1, '울진': 1, '도착…선원': 1, '이상없어': 1, '네이버뉴스': 1, '연예': 1, '스포츠': 2, '경제': 1, '랭킹': 1, '언론사': 5, 'MY': 1, '이미지형': 1, '리스트형': 1, '설정': 3, '이전': 2, '페이지': 2, '다음': 2, '목록': 3, '구독': 19, '해지': 18, '기사보기': 18, '종합경제': 1, '방송통신': 1, 'IT': 1, '영자지': 1, '스포츠연예': 1, '매거진전문지': 1, '설정한': 2, '언론사가': 1, '설정에서': 1, 'MY언론사를': 1, '추가하면': 1, '언론사의': 1, '기사들을': 1, '홈에서': 1, '바로': 1, '보실': 1, '추가': 1, 'Sign': 3, 'in': 2, 'Connect': 1, 'with': 1, 'people': 1, 'up': 1, 'Forgot': 1, 'Username': 1, 'or': 1, 'Password': 1, '1028': 1, '토': 1, '영어회화': 1, '앞의': 1, '목록으로': 2, '이동': 2, '뒤의': 1, '아침': 1, '식사': 1, '는nbsp': 1, '어디서': 1, 'nbsp해요': 1, 'Where': 1, 'nbspisnbsp': 1, 'breakfast': 1, 'nbspservednbsp': 1, '웨어': 1, 'nbsp이즈nbsp': 1, '브렉퍼스트': 1, 'nbsp서브드': 1, '주제형': 1, '캐스트': 1, '관심': 4, '주제': 8, '선택': 1, '리빙': 1, '푸드': 1, '패션뷰티': 1, '맘·키즈': 1, 'TV연예': 1, '책문화': 1, '함께N': 1, '여행': 1, '디자인': 1, '경제M': 1, 'JOB': 1, '과학': 1, '중국': 1, '비즈니스': 3, 'FARM': 3, '스쿨잼': 1, '공연전시': 1, '법률': 1, '동물공감': 1, '연애·결혼': 1, '테크': 1, '열기': 1, '관심주제': 1, '모바일': 2, '가져오기': 2, '사용': 2, '가능합니다': 2, '취소': 1, '확인': 1, '초기화': 1, '전체선택': 1, '흙냄새': 1, '새소리를': 1, '손에': 1, '담다': 1, '대한민국': 1, '넘버1': 1, '농어촌포털': 1, '㈜아그로플러스': 1, '오늘의': 1, '이야기': 3, '실파': 1, '쪽파': 1, '대파': 1, '라면에': 1, '넣을': 1, '땐': 1, '이렇게': 1, '해보세요': 1, '돼지고기에서': 1, '누린내': 1, '나는': 1, '건': 1, '수컷': 1, '호르몬': 1, '때문': 1, '꼭': 1, '거세해야': 1, '냄새': 1, '안날까': 1, '여의도': 1, '유명': 1, '향기치료사': 1, '산촌에서': 1, '허브': 1, '키운': 1, '사연': 1, '산촌': 1, '성공기': 1, '푸석푸석해진': 1, '피부': 1, '감': 1, '화장품은': 1, '어떠세요': 1, '국산': 1, '감의': 1, '변신': 1, '새빨간': 2, '꽃잎이었습니다': 2, 'dataexpsStartYmdt20171028': 1, '0456': 1, 'dataexpsEndYmdt20991231': 1, '2359': 1, 'datafixedSeq0': 1, 'datafixedExpsStartYmdt': 1, 'datafixedExpsEndYmdt': 1, '농촌': 1, '경관': 1, '사진': 1, '休': 1, 'EXO팬들이': 1, '서울역': 1, '고가공원에': 1, '심은': 1, '나무의': 1, '슬픈': 1, '역사': 1, '숨은': 1, '한국과': 1, '중국이': 1, '원산지였다는': 1, '놀라운': 1, '사실': 1, '키위': 1, '고구마로': 1, '바이오연료·': 1, '건강식품도': 1, '포만감을': 1, '얻는': 1, '중': 1, '먹거리': 1, '물': 1, '부족': 1, '문제': 1, '오수': 1, '정화로': 1, '해결한': 1, '버린': 1, '물도': 1, '다시본다': 1, '2002년10월28일한': 1, '칠레': 1, 'FTA': 1, '전격': 1, '타결': 1, '그시절': 1, '오늘': 1, '한입에': 1, '쏙': 1, '먹는': 1, '배': 1, '혼족': 1, '잡기': 1, '위해': 1, '나왔다': 1, '맛은': 1, '알고': 1, '먹읍시다': 1, '가지': 1, '쓴맛': 1, '피하려면': 1, '수확시기': 1, '놓치지': 1, '마세요': 1, '도시농부': 1, '고들빼기': 1, '김치일': 1, '때보다': 1, '7배': 1, '젊어지는': 1, '차茶': 1, '차茶의': 1, '다양화': 1, '지금': 1, '생각나는': 1, '사람과': 1, '함께': 1, '걸어요': 1, '서울': 1, '근교': 1, '7개': 1, '산책길': 1, 'httpscastboxshoppingnavercomshopboxmainnhnsvglesstrue': 1, '제2회': 1, '소상공인의날': 1, '우리동네': 1, '소상공인': 1, '축제': 1, '전국의': 1, '작은가게를': 1, '응원하고': 1, '다양한': 1, '혜택도': 1, '누리세요': 1, '도전': 1, '코딩미션': 1, '온라인코딩파티': 1, '10월': 1, '23일부터': 1, '2주간': 1, '쉽게': 1, '배우는': 1, 'SW': 1, '공지사항': 1, '주이스트소프트': 1, '계정': 1, '침해': 1, '대상자에': 1, '대한': 1, '안내': 2, '서비스': 1, '전체보기': 1, '프로젝트': 2, '꽃': 2, '웨일': 1, '브라우저': 1, '다운받기': 1, '네이버웨일': 1, 'Creators': 1, '크리에이터': 1, '스몰비즈니스': 1, 'Partners': 1, '파트너': 1, '·': 1, '광고': 1, '스토어': 1, '개설': 1, '지역업체': 1, 'Developers': 1, '개발자센터': 1, '오픈': 1, 'API': 1, '오픈소스': 1, 'D2': 1, '랩스': 1, '정책': 2, '및': 1, '약관': 1, '회사소개': 1, '인재채용': 1, '제휴제안': 1, '이용약관': 1, '개인정보처리방침': 1, '청소년보호정책': 1, '고객센터': 1, 'ⓒ': 1, 'Corp': 1}\n"
     ]
    }
   ],
   "source": [
    "from urllib import request \n",
    "import string\n",
    " \n",
    "url = 'http://www.naver.com'\n",
    "f = request.urlopen(url)\n",
    "source_bytes = f.read()\n",
    "source = source_bytes.decode('utf-8')\n",
    "a = source\n",
    "cnt=0\n",
    "cnt\n",
    "list = []\n",
    "\n",
    "\n",
    "while(cnt != len(a)) :\n",
    "    \n",
    "        if a[cnt] == '<' :\n",
    "            if(a[cnt+1] == '!' and a[cnt+2]=='-') : #주석 삭제\n",
    "                cnt+=3\n",
    "                while True:\n",
    "                    cnt+=1\n",
    "                    if(a[cnt] == '-' and a[cnt+1] == '>'):\n",
    "                        cnt+=1\n",
    "                        break\n",
    "            elif(a[cnt+1:cnt+7] == \"script\" ) : #스크립트 삭제\n",
    "                cnt+=7\n",
    "                while True:\n",
    "                    cnt+=1\n",
    "                    if(a[cnt:cnt+8] == \"/script>\"):\n",
    "                        cnt+=8\n",
    "                        break\n",
    "                        \n",
    "            elif(a[cnt+1:cnt+6]) == \"style\" : ##css 삭제\n",
    "                cnt+=6\n",
    "                while True:\n",
    "                    cnt+=1\n",
    "                    if(a[cnt:cnt+6]) == '/style':\n",
    "                        cnt+=6\n",
    "                        break\n",
    "                    \n",
    "            else:\n",
    "                while(a[cnt] != '>'): #HTML 삭제\n",
    "                    cnt+=1\n",
    "                    \n",
    "        \n",
    "        elif  a[cnt] != '<' and a[cnt] != '>' and a[cnt]!='\\t' and a[cnt]!=' ' and a[cnt] !='\\n' :\n",
    "            start = cnt\n",
    "            while a[cnt] != '<' and a[cnt] != '>' and a[cnt]!='\\t' and a[cnt] !=' ' and a[cnt] !='\\n' :\n",
    "                    cnt+=1\n",
    "                    if(cnt==len(a)):\n",
    "                            break\n",
    "                        \n",
    "            end = cnt\n",
    "            list.append(a[start:end])\n",
    "            \n",
    "        else :\n",
    "            cnt +=1\n",
    "c=[]\n",
    "for x in string.punctuation: #구두문자 리스트화\n",
    "    c.append(x)\n",
    "\n",
    "for x in range(len(list)) : #구두문자가 list의 원소안에 포함되어있을 경우\n",
    "    for k in c:\n",
    "        if k in list[x]:\n",
    "            list[x] = list[x].replace(k,'') #구두문자를 없앤다\n",
    "list.remove('') #구두문자만 있었을 경우 공백만 남으므로 공백 없애줌\n",
    "            \n",
    "dic = dict()\n",
    "for x in list:\n",
    "    if x not in dic.keys(): #list의 원소가 사전에 없으면 추가\n",
    "        dic[x] = 1\n",
    "    elif x in dic.keys(): #이미 있는 원소면 1추가\n",
    "        dic[x] += 1\n",
    "\n",
    "print(dic)\n"
   ]
  },
  {
   "cell_type": "markdown",
   "metadata": {},
   "source": [
    "### 다음 (daum.net)"
   ]
  },
  {
   "cell_type": "code",
   "execution_count": 387,
   "metadata": {
    "scrolled": true
   },
   "outputs": [
    {
     "name": "stdout",
     "output_type": "stream",
     "text": [
      "{'Daum': 1, '주요': 2, '서비스': 5, '바로가기': 11, '오늘의': 6, '정보': 8, '미디어': 3, '실시간': 4, '이슈': 5, '멀티미디어': 2, '블로그': 6, '유익한': 2, '쇼핑': 3, '포토amp영상': 1, '웹': 1, '접근성': 1, '안내': 2, '자동실행': 1, '광고': 1, '설정': 1, '검색': 7, '통합': 2, '인기': 1, '검색어': 3, '한국시리즈': 1, '3차전': 2, '더유닛': 1, '첫방송': 1, '부산': 6, '불꽃축제': 6, '손아섭': 1, '신분조회': 1, '김희철': 1, '가야금': 1, '감기': 1, '진료비': 1, '강정호': 1, '멀티히트': 1, 'SNL': 1, '이태임': 1, '다르빗슈': 1, '구리엘': 1, '김소영': 1, '10인분요리': 1, 'lt이전': 1, 'gt다음': 1, '다음을': 1, '시작페이지로': 1, '카페': 3, '메일': 2, '뉴스': 4, '지도': 2, '증권': 1, '카카오TV': 3, '웹툰': 3, '브런치': 3, '사전': 2, '게임': 3, '별플레이': 2, '같이가치': 3, '주요서비스': 1, '더보기': 2, '⋁': 1, '전체': 5, '커뮤니케이션': 1, '티스토리': 2, '아지트': 1, '카카오스토리': 2, '스포츠': 4, '연예': 2, '아고라': 1, '쇼핑생활': 1, '쇼핑하우': 1, '금융': 1, '부동산': 3, '자동차': 2, '미즈넷': 2, '요리': 1, '문화엔터': 1, '영화': 2, '책': 1, '사전지식': 1, '어학사전': 1, '단어장': 1, '백과사전': 1, '팁': 1, '나눔펀딩': 1, '스토리펀딩': 2, '길찾기': 1, '로드뷰': 1, '버스정보': 1, '지하철노선도': 1, '카카오': 2, '소식': 1, '다음': 8, '전체보기': 2, '메뉴': 2, '닫기': 2, '10': 1, '28': 1, '토': 1, '날씨': 21, '서울시': 1, '맑음': 7, '영상': 20, '19도': 8, '19': 8, '°C': 20, '경기도': 1, '인천시': 2, '18도': 3, '18': 3, '대구시': 1, '흐림': 10, '대전시': 1, '20도': 1, '20': 1, '광주시': 1, '21도': 2, '21': 2, '부산시': 1, '17도': 2, '17': 2, '울산시': 1, '경상북도': 2, '16도': 3, '16': 3, '강원도': 2, '충청북도': 1, '구름조금': 1, '전라북도': 1, '전라남도': 2, '구름많음': 1, '제주자치도': 1, '경상남도': 1, '날찌정보': 1, '8897': 1, '펼치기': 1, '현재': 7, '지역': 1, '어제보다': 1, '상세보기': 1, '미세먼지': 1, '통합대기': 1, 'X': 1, '날씨정보': 1, '선택됨': 1, '1탭': 1, '촛불집회': 6, '1주년': 1, '광화문에': 1, '다시': 1, '모인': 1, '촛불': 1, '꺼져가는': 1, '생명': 1, '위해': 2, '희생현충원서': 1, '순직소방': 1, '일반뉴스': 1, '가거도': 1, '어선': 1, '전복': 1, '4명': 1, '사망실종함정middot항공기': 1, '동원': 1, '이틀째': 1, '수색': 2, '스페인': 1, '카탈루냐': 1, '직접': 1, '통치': 1, '개시경찰청장도': 1, '해임': 1, '세월호': 1, '연장되나김영춘': 1, '31일': 1, '입장': 1, '발표': 1, '홍준표': 1, '서청원에': 1, '녹취록': 1, '공개': 2, '요구quot해볼테면': 1, '해보라quot': 1, '러': 1, '극동개발부': 1, '차관': 1, 'quot대북': 1, '제재에도': 1, '러北': 1, '협력': 1, '지속': 1, '발전quot': 1, '文대통령': 1, 'quot39적폐청산middot나라다운': 1, '나라39': 1, '누구나': 1, '같은': 1, '뜻일': 1, '것quot': 1, '39히틀러': 1, '자살': 1, '위장1955년에도': 1, '생존39': 1, '美CIA': 1, '기밀': 1, '보고서': 1, '단풍': 1, '행락차량으로': 1, '고속도로': 1, '혼잡서울방향': 1, '정체': 1, '절정': 1, '사드반대middot청소년참정권middotMB구속39촛불': 1, '광장39': 1, '수놓은': 1, '현안들': 1, 'quot美': 1, '39인도': 1, '앞세워': 1, '中견제39': 1, '새': 1, '아시아정책': 1, '공개quot': 1, '선미': 1, '공항': 1, '밝히는': 1, '화사한': 1, '미모': 1, '돌아온': 1, 'NRG': 1, '12년만의': 1, '복귀무대': 1, '8년': 1, '전': 2, 'KS': 1, '영웅포': 1, '재현한': 1, '소름돋는': 1, '한방': 1, '뉴스홈': 1, '연재': 1, '랭킹': 1, 'TV': 2, '포토': 4, '미디어랩': 1, '2017': 1, '국정감사': 1, '탭': 16, '1': 4, '': 4, '8': 1, 'lt': 4, '이전': 6, 'gt': 4, '1위': 5, '김용진': 5, '2위': 5, '3위': 5, '손승연': 5, '4위': 5, '5위': 5, '김광석': 5, '6위': 5, '이엘리야': 5, '7위': 5, '공인중개사': 5, '시험': 5, '8위': 5, '괴산': 5, '9위': 5, '큐넷': 5, '10위': 5, '서천호': 5, '증시': 2, '휘발유': 1, '150718': 1, '9652': 2, '전일대비': 2, '상승': 18, '109': 1, '달러환율': 1, '113100': 1, '550': 1, '관련': 1, '링크모음': 1, '환율': 1, '운세': 1, 'uarr': 16, '985': 2, '304': 2, '257': 2, '146': 2, '79': 2, '신규진입': 4, '110': 2, '91': 2, '72': 2, '20171028': 1, '1847기준': 1, 'X닫기': 1, 'TV하이라이트': 2, '39더서울어워즈39': 2, '현장': 2, '명장면': 2, '심장': 3, '폭행': 2, '귀여운': 2, '동물': 3, '알쓸신잡2': 1, '동영상': 16, '신입': 1, '잡학박사들의': 1, '넘사벽': 1, '스펙': 1, '3분': 1, '요약': 1, '랭킹쇼': 1, '2': 3, '3': 3, '근육': 1, '뿜뿜': 1, '가녀린': 1, '외모의': 1, '미녀': 1, '헐크': 1, '고백부부': 1, '임지규가': 1, '장나라': 1, '가지고': 1, '논다는': 1, '사실': 1, '알고': 1, '엉덩이': 1, '킥': 1, '백종원의': 1, '푸드트럭': 1, '백종원': 1, '장사·요리': 1, '노하우': 1, '다': 1, '공개하는': 1, '이유': 1, '39제1회': 1, '더서울어워즈39': 1, '영광의': 1, '수상자들': 1, '송하윤': 1, '39버거운': 1, '드레스39에': 1, '양세찬': 1, '출동': 1, '12살': 1, '김수안': 1, '39최연소로': 1, '레드카펫': 1, '밟았어요39': 1, '설경구middot지성': 1, '품위있는': 1, '멋진': 1, '남자들': 1, '승리의': 1, '주역': 1, '팻딘의': 1, '짠물': 1, '피칭': 1, '길고긴': 1, 'VAR': 1, '판독': 1, '끝에': 1, '찾은': 1, '데얀의': 1, '골': 1, '주먹까지': 1, '오가는': 1, 'NBA의': 1, '몸싸움': 1, '류현진': 1, '만약의': 1, '출전을': 1, '대비한': 1, '훈련': 1, '추울까': 1, '봐': 1, '따뜻한': 1, '난로': 1, '틀어줬더니': 1, '부여잡을': 1, '준비': 1, '하세요': 1, '보는': 1, '사람': 1, '광대': 1, '폭발하는': 1, '앞에서': 1, '안': 2, '달리는': 1, '거': 1, '누구': 1, '차야': 1, '4': 2, '수돗물에': 1, '씻으면': 1, '절대': 1, '되는': 2, '음식': 1, '5': 2, '꿀팁특공대': 1, '몸매': 1, '甲': 1, '걸그룹의': 1, '다이어트': 1, '과거': 1, '봤더니': 1, '아이돌': 1, '딸': 1, '만든': 1, '영양': 1, '만점': 1, '집밥': 1, 'Lilian': 1, 'T': 1, '스토리텔러': 2, '너무': 1, '성공적이였던': 1, '당일치기': 1, '힐링': 1, '여행': 1, '김섬주': 1, '1boon': 1, '7': 1, '홈amp쿠킹': 1, '머니': 1, '구글middot아마존도': 1, '한다는데인터넷은행부터': 1, '발묶인': 1, '국내': 1, '은행업': 1, '경제': 7, '세상물정': 5, '정부': 1, '투자를': 1, '보면': 1, '돈이': 1, '보인다': 1, '재테크': 3, '길라잡이': 3, '中': 1, '압박에': 1, '울었던': 1, '유통업계단체관광': 1, '재개': 1, '신호에': 1, '39반색39': 1, 'AD': 1, '기미': 1, '잡티': 1, '쓱싹': 2, '없애기': 1, '미구하라': 1, '20sim34세': 1, '청년층': 1, '57가': 1, '부모에': 1, '얹혀사는': 1, '39캥거루족39': 1, 'quot우리': 1, '시장으로': 1, '오세요quot이마트에': 1, '먼저': 1, '손내민': 1, '전통시장들': 1, '39직원': 1, '사라진39': 1, '카페middot편의점일상': 1, '속': 1, '늘어나는': 1, '무인점포': 1, '두': 1, '달': 1, '뒤': 1, '소멸되는': 1, '통신사': 1, '포인트': 1, '활용': 1, '꿀팁': 1, '추천채널': 1, '핫플레이스': 1, '100세': 1, '시대': 1, '자산관리': 1, '돈': 1, '물건을': 1, '보라': 1, '세계': 1, '트렌드': 1, '정책': 1, '돋보기': 1, '베스트': 1, 'VVIP': 1, '카드로': 1, '소액': 1, '결제했다가': 1, '벌어진': 1, '황당한': 1, '일': 1, '폐가된': 1, '집창촌': 1, '대낮엔': 1, '취객발목잡힌': 1, '청량리': 1, '백만장자들이': 1, '비트코인을': 1, '숨겨둔': 1, '스위스의': 1, '비밀': 1, '산악': 1, '벙커': 1, '4천원에': 1, '호텔급': 1, '아침식사': 1, '강남': 1, '아파트': 1, '39끝장': 1, '서비스39': 1, '지방': 1, '39하우스푸어39': 1, '대란금리인상거래절벽': 1, '스타일': 1, 'Men': 1, '여행맛집': 1, '직장IN': 1, '뮤직': 1, '11': 1, '보기': 4, '추천갤러리': 2, '이미지': 2, '목록': 2, '공지사항': 1, '개인정보처리방침': 2, '변경': 1, '소개': 1, '및': 1, '약관': 1, '회사소개': 1, '·': 9, '광고안내': 1, '검색등록': 1, '제휴문의': 1, '인재채용': 1, '서비스약관': 1, '청소년보호정책': 1, '웹접근성안내': 1, '고객센터': 1, 'Copyright': 1, '©': 1, 'Kakao': 1, 'Corp': 1, 'All': 1, 'rights': 1, 'reserved': 1}\n"
     ]
    }
   ],
   "source": [
    "from urllib import request \n",
    "import string\n",
    "\n",
    "url = 'http://www.daum.net'\n",
    "f = request.urlopen(url)\n",
    "source_bytes = f.read()\n",
    "source = source_bytes.decode('utf-8')\n",
    "a = source\n",
    "cnt=0\n",
    "cnt\n",
    "list = []\n",
    "\n",
    "\n",
    "while(cnt != len(a)) :\n",
    "    \n",
    "        if a[cnt] == '<' :\n",
    "            if(a[cnt+1] == '!' and a[cnt+2]=='-') : #주석 삭제\n",
    "                cnt+=3\n",
    "                while True:\n",
    "                    cnt+=1\n",
    "                    if(a[cnt] == '-' and a[cnt+1] == '>'):\n",
    "                        cnt+=1\n",
    "                        break\n",
    "            elif(a[cnt+1:cnt+8] == \"script>\" ) : #스크립트 삭제\n",
    "                cnt+=8\n",
    "                while True:\n",
    "                    cnt+=1\n",
    "                    if(a[cnt:cnt+8] == \"/script>\"):\n",
    "                        cnt+=8\n",
    "                        break\n",
    "            elif(a[cnt+1:cnt+6]) == \"style\" : ##css 삭제\n",
    "                cnt+=6\n",
    "                while True:\n",
    "                    cnt+=1\n",
    "                    if(a[cnt:cnt+5]) == '//]]>':\n",
    "                        cnt+=5\n",
    "                        break\n",
    "                    \n",
    "            else:\n",
    "                while(a[cnt] != '>'): #HTML 삭제\n",
    "                    cnt+=1\n",
    "                    \n",
    "        \n",
    "        elif  a[cnt] != '<' and a[cnt] != '>' and a[cnt]!='\\t' and a[cnt]!=' ' and a[cnt] !='\\n' :\n",
    "            start = cnt\n",
    "            while a[cnt] != '<' and a[cnt] != '>' and a[cnt]!='\\t' and a[cnt] !=' ' and a[cnt] !='\\n' :\n",
    "                    cnt+=1\n",
    "                    if(cnt==len(a)):\n",
    "                            break\n",
    "                        \n",
    "            end = cnt\n",
    "            list.append(a[start:end])\n",
    "            \n",
    "        else :\n",
    "            cnt +=1\n",
    "c=[]\n",
    "for x in string.punctuation: #구두문자 리스트화\n",
    "    c.append(x)\n",
    "\n",
    "for x in range(len(list)) : #구두문자가 list의 원소안에 포함되어있을 경우\n",
    "    for k in c:\n",
    "        if k in list[x]:\n",
    "            list[x] = list[x].replace(k,'') #구두문자를 없앤다\n",
    "list.remove('') #구두문자만 있었을 경우 공백만 남으므로 공백 없애줌\n",
    "            \n",
    "dic = dict()\n",
    "for x in list:\n",
    "    if x not in dic.keys(): #list의 원소가 사전에 없으면 추가\n",
    "        dic[x] = 1\n",
    "    elif x in dic.keys(): #이미 있는 원소면 1추가\n",
    "        dic[x] += 1\n",
    "\n",
    "print(dic)"
   ]
  },
  {
   "cell_type": "markdown",
   "metadata": {},
   "source": [
    "### 뉴욕타임즈 (nytimes.com)"
   ]
  },
  {
   "cell_type": "code",
   "execution_count": 396,
   "metadata": {},
   "outputs": [
    {
     "name": "stdout",
     "output_type": "stream",
     "text": [
      "{'The': 49, 'New': 20, 'York': 11, 'Times': 13, 'Breaking': 1, 'News': 6, 'World': 8, '': 14, 'Multimedia': 2, 'NYTimescom': 2, 'no': 3, 'longer': 2, 'supports': 1, 'Internet': 3, 'Explorer': 1, '9': 1, 'or': 4, 'earlier': 1, 'Please': 1, 'upgrade': 1, 'your': 4, 'browser': 1, 'LEARN': 1, 'MORE': 1, '»': 4, 'Sections': 4, 'Search': 5, 'Skip': 2, 'to': 72, 'content': 1, 'navigation': 1, 'Subscribe': 5, 'Now': 7, 'Log': 1, 'In': 8, '0': 1, 'Settings': 1, 'English': 1, '中文': 1, 'Chinese': 1, 'Español': 1, 'Saturday': 1, 'October': 1, '28': 1, '2017': 4, 'Today’s': 1, 'Paper': 2, 'Video': 5, 'Quick': 1, 'Site': 11, 'Navigation': 7, 'US': 5, 'Politics': 3, 'NY': 2, 'Business': 5, 'Opinion': 11, 'Tech': 5, 'Science': 4, 'Health': 6, 'Sports': 4, 'Arts': 6, 'Style': 4, 'Food': 7, 'Travel': 4, 'Magazine': 7, 'T': 4, 'Real': 5, 'Estate': 5, 'all': 2, 'Close': 1, 'search': 1, 'Clear': 1, 'this': 3, 'text': 1, 'input': 1, 'Go': 5, 'Mobile': 3, '\\r': 244, 'Top': 1, 'Conservative': 1, 'Was': 1, 'First': 7, 'Hire': 1, '‘Steele': 1, 'Dossier’': 1, 'Firm': 1, 'By': 23, 'KENNETH': 1, 'P': 1, 'VOGEL': 1, 'and': 52, 'MAGGIE': 1, 'HABERMAN': 1, 'Washington': 2, 'Free': 1, 'Beacon': 1, 'financed': 1, 'by': 10, 'a': 46, 'major': 1, 'GOP': 2, 'donor': 1, 'retained': 1, 'Fusion': 1, 'GPS': 1, 'find': 1, 'information': 1, 'intended': 1, 'sink': 1, 'Donald': 2, 'J': 1, 'Trump’s': 4, 'campaign': 2, 'Later': 2, 'Hillary': 1, 'Clinton’s': 1, 'also': 1, 'hired': 1, 'the': 80, 'firm': 1, 'which': 2, 'employed': 1, 'former': 1, 'British': 1, 'spy': 1, 'Christopher': 1, 'Steele': 1, 'unearth': 1, 'dirt': 1, 'on': 15, 'Mr': 2, 'Trump': 14, 'that': 13, 'would': 1, 'become': 1, 'infamous': 1, 'dossier': 1, 'nbspComments': 8, 'What': 6, 'We': 3, 'Know': 1, 'About': 2, 'Dossier': 1, 'Kremlin': 2, 'Is': 13, 'Tied': 1, 'Memo': 2, 'in': 39, '’16': 1, 'Tower': 2, 'Meeting': 1, 'SHARON': 1, 'LaFRANIERE': 1, 'ANDREW': 1, 'E': 1, 'KRAMER': 1, 'Russian': 1, 'lawyer': 1, 'at': 8, 'June': 1, '2016': 1, 'meeting': 1, 'has': 5, 'denied': 1, 'acting': 1, 'behalf': 1, 'of': 47, 'but': 7, 'records': 1, 'suggest': 1, 'coordination': 1, 'Urged': 2, 'Gag': 2, 'Order': 2, 'Be': 4, 'Lifted': 2, 'Informant': 2, 'Governor': 2, 'Blocked': 2, 'Medicaid': 2, 'Expansion': 2, 'It’s': 3, 'Ballot': 1, 'ABBY': 1, 'GOODNOUGH': 1, 'Maine': 2, 'is': 4, 'first': 2, 'state': 1, 'nation': 1, 'put': 2, 'expansion': 1, 'health': 2, 'insurance': 1, 'program': 1, 'ballot': 1, 'opening': 1, 'new': 4, 'front': 1, 'political': 2, 'battle': 1, 'over': 3, 'Obamacare': 1, 'Spain': 2, 'Moves': 2, 'Take': 1, 'Control': 1, 'Catalonia': 2, 'After': 6, 'Secession': 1, 'Vote': 1, 'RAPHAEL': 1, 'MINDER': 1, 'PATRICK': 1, 'KINGSLEY': 1, 'Shortly': 1, 'after': 2, 'Catalan': 1, 'leaders': 1, 'declared': 1, 'independence': 1, 'Spain’s': 1, 'leader': 1, 'fired': 1, 'Catalonia’s': 2, 'government': 3, 'dissolved': 1, 'regional': 2, 'parliament': 1, 'ordered': 2, 'elections': 1, 'A': 15, 'Republic': 1, 'Fights': 1, 'Born': 1, 'While': 1, 'Barcelona': 1, 'Holds': 1, 'Its': 2, 'Breath': 1, 'Independence': 2, 'Showdown': 1, 'Photographs': 1, 'Economy': 1, 'Growing': 1, 'Fastest': 1, 'Clip': 1, 'Since': 1, 'Mid2014': 1, 'NATALIE': 1, 'KITROEFF': 1, 'JIM': 1, 'TANKERSLEY': 1, 'Republicans': 1, 'said': 1, 'GDP': 1, 'report': 1, 'signaled': 1, 'increased': 1, 'business': 1, 'spending': 1, 'anticipation': 1, 'corporate': 1, 'tax': 1, 'cut': 1, 'though': 1, 'many': 4, 'economists': 1, 'are': 3, 'skeptical': 1, 'Makes': 1, 'Spectacle': 1, 'Even': 3, 'His': 1, 'Pick': 1, 'for': 22, 'Fed': 1, 'Sick': 1, '10YearOld': 2, 'Center': 2, 'Immigration': 1, 'Debate': 1, 'VIVIAN': 1, 'YEE': 1, 'case': 1, 'girl': 1, 'with': 6, 'cerebral': 1, 'palsy': 1, 'who': 3, 'was': 7, 'brought': 1, 'illegally': 1, 'Texas': 1, 'so': 2, 'she': 3, 'could': 1, 'get': 7, 'medical': 1, 'care': 1, 'goes': 1, 'heart': 1, 'immigration': 1, 'debate': 1, 'Daily': 3, '360': 3, '133': 1, 'Pets': 1, 'Linda': 1, 'Jaquez': 1, 'Technology': 3, 'Samsung': 1, 'More': 7, 'Bedroom': 2, 'Rover': 2, 'Maybe': 3, 'Condo': 2, 'Saudi': 1, 'Arabia': 1, 'Open': 1, 'Not': 2, 'Everybody’s': 1, 'Buying': 1, 'George': 1, 'HW': 1, 'Bush': 1, 'Apologizes': 2, 'Women': 4, 'Accuse': 1, 'Him': 2, 'Grabbing': 1, 'Them': 1, 'FEMA': 2, 'Cites': 2, '‘Significant': 2, 'Concerns’': 2, 'With': 5, 'Puerto': 2, 'Rico': 2, 'Power': 2, 'Contract': 2, 'Seoul': 1, 'Mattis': 1, 'Accuses': 1, 'North': 3, 'Korea': 4, '‘Outlaw': 1, 'Behavior’': 1, 'Plans': 1, 'Shrink': 2, 'Two': 2, 'National': 3, 'Monuments': 1, 'Utah': 1, 'Got': 1, 'confidential': 1, 'news': 8, 'tip': 1, 'offers': 1, 'several': 2, 'ways': 1, 'touch': 1, 'provide': 1, 'materials': 1, 'our': 1, 'journalists': 1, 'Learn': 1, 'more': 5, 'Melis': 1, 'Seker': 1, '19yearold': 1, 'student': 1, 'visiting': 1, 'from': 4, 'Turkey': 1, 'when': 1, 'tour': 1, 'bus': 3, 'crashed': 1, 'She': 1, 'had': 2, 'been': 2, 'strong': 1, 'athlete': 1, 'competitive': 1, 'swimmer': 1, 'broke': 1, 'both': 1, 'shoulders': 1, 'ribs': 1, 'crash': 2, 'can': 1, 'swim': 1, 'Credit': 1, 'Tara': 1, 'TodrasWhitehill': 1, '‘Everyone': 1, 'Lost': 1, 'Something’': 1, 'Three': 1, 'years': 1, 'horrific': 1, 'victims': 1, 'still': 2, 'dealing': 2, 'grave': 2, 'injuries': 1, 'emotional': 1, 'scars': 1, '—': 2, 'an': 7, 'underinsured': 1, 'company': 2, 'BENJAMIN': 1, 'WEISER': 1, 'ALAN': 1, 'FEUER': 1, 'Audio': 2, 'Listen': 1, '‘The': 3, 'Daily’\\r': 1, 'President': 2, 'called': 1, 'opioid': 1, 'crisis': 1, 'public': 1, 'emergency': 1, 'we': 2, 'spoke': 1, 'recovering': 1, 'addict': 1, 'reporter': 1, 'explained': 1, 'move': 1, 'Follow': 2, 'Apple': 1, 'Podcasts': 1, 'Radio': 1, 'Public': 2, 'Stitcher': 1, 'Smarter': 1, 'Living': 3, 'Playlist': 2, 'Gregory': 1, 'Porter': 1, 'Celebrates': 1, 'Nat': 1, 'King': 1, 'Cole': 1, '8': 1, 'Songs': 1, 'JON': 2, 'PARELES': 1, 'CARAMANICA': 1, 'GIOVANNI': 1, 'RUSSONELLO': 1, 'Hear': 1, 'Brian': 1, 'Eno': 1, 'Kevin': 1, 'Shieldss': 1, 'track': 1, 'plus': 1, 'songs': 1, 'Rhye': 1, 'Sleigh': 1, 'Bells': 1, 'Halloween': 3, 'Treats': 1, 'GrownUps': 1, 'Get': 2, 'weekly': 1, 'roundup': 1, 'best': 1, 'advice': 1, 'living': 1, 'better': 1, 'smarter': 1, 'fulfilling': 1, 'life': 2, 'Journalism': 1, 'matters': 2, 'essential': 1, 'than': 3, 'ever': 1, 'From': 8, 'Art': 6, 'Dinner': 3, 'Party': 4, 'Do': 3, 'you': 4, 'want': 1, 'serve': 1, 'dumplings': 1, 'fondue': 1, 'dinnerparty': 1, 'style': 1, 'freeform': 1, 'Whatever': 1, 'way': 3, 'like': 1, 'entertain': 1, 'have': 1, 'ideas': 1, 'inspiration': 1, 'GABRIELLE': 1, 'HAMILTON': 1, 'Series\\r': 1, 'Astros': 5, '5': 3, 'Dodgers': 4, '3': 6, 'Houston': 3, 'leads': 2, 'series': 2, '21': 2, 'Hold': 2, 'On': 5, 'Defeat': 1, 'Game': 4, 'JAMES': 2, 'WAGNER': 1, '321': 1, 'AM': 2, 'ET': 2, 'knocked': 1, 'Yu': 2, 'Darvish': 2, 'out': 2, 'game': 1, 'before': 1, 'second': 2, 'inning': 1, 'relying': 1, 'defense': 1, 'relief': 1, 'work': 2, 'take': 1, 'Series': 4, 'lead': 2, 'Highlights': 1, 'Analysis': 1, '1257': 1, 'Twist': 2, 'Loves': 2, 'Become': 2, 'Enemy': 2, 'JFK': 3, 'Files': 2, 'Peek': 2, 'Back': 5, 'Era': 2, 'Secrets': 2, 'PETER': 1, 'BAKER': 1, 'Documents': 1, 'released': 1, 'week': 2, 'recall': 1, 'Cold': 3, 'War': 5, 'context': 1, 'against': 1, 'assassination': 1, 'John': 1, 'F': 1, 'Kennedy': 1, 'generated': 1, 'suspicion': 1, 'persists': 1, 'At': 1, 'Facebook': 1, 'HandWringing': 1, 'Over': 2, 'Fix': 1, 'Fake': 1, 'Content': 1, 'MIKE': 1, 'ISAAC': 1, 'As': 3, 'pressure': 1, 'grows': 1, 'social': 1, 'media': 2, 'giant': 1, 'there': 1, 'easy': 1, 'answers': 1, 'posts': 1, 'promoted': 1, 'its': 3, 'users': 1, 'Common': 1, 'Sense': 1, 'Bike': 1, 'Trail': 1, 'Amazon’s': 3, 'Headquarters': 1, 'B': 1, 'STEWART': 1, 'Among': 3, 'factors': 1, 'will': 1, 'affect': 1, 'where': 2, 'chooses': 1, 'headquarters': 1, 'cost': 1, 'diversity': 1, 'universities': 1, 'coffee': 1, 'roasters': 1, 'Hearing': 2, 'Footsteps': 2, 'Care': 2, 'Industry': 2, 'Shudders': 2, 'Likes': 1, 'Journalists’': 2, 'Children': 2, 'Parents': 2, 'Are': 4, 'Another': 2, 'Story': 1, 'MATT': 1, 'FLEGENHEIMER': 1, '“I': 1, 'cannot': 1, 'believe': 1, 'produced': 1, 'such': 1, 'beautiful': 1, 'children”': 1, 'marveled': 1, 'as': 5, 'he': 1, 'handed': 1, 'candy': 1, 'children': 1, 'White': 1, 'House': 1, 'reporters': 1, '156': 1, '‘Are': 1, 'You': 7, 'Going': 1, 'Grow': 1, 'Up': 3, 'Like': 3, 'Your': 4, 'Parents’': 1, 'THE': 2, 'ASSOCIATED': 1, 'PRESS': 1, 'Big': 2, 'City': 3, 'Lord': 1, 'Taylor': 1, 'WeWork': 1, 'Death': 1, 'Leisure': 1, 'GINIA': 1, 'BELLAFANTE': 1, 'sale': 1, 'department': 1, 'store’s': 1, 'flagship': 1, 'Fifth': 1, 'Avenue': 1, 'building': 1, 'marks': 1, 'end': 1, 'shopping': 1, 'fun': 1, 'rise': 1, '10': 1, 'Things': 2, 'ANDY': 1, 'WEBSTER': 1, 'big': 1, 'city': 1, 'plenty': 1, 'do': 1, 'see': 1, 'hear': 1, 'Here’s': 2, 'sampling': 1, 'cultural': 1, 'highlights': 1, 'weekend': 1, 'ahead': 1, 'Morning': 4, 'Briefing': 4, 'Australia': 3, 'Edition': 4, 'stories': 5, 'matter': 5, 'readers': 3, 'Sign': 5, 'up': 3, 'it': 5, 'email': 3, 'Monday': 4, 'through': 6, 'Friday': 4, 'Asia': 2, 'Europe': 2, 'California': 2, 'Today': 1, 'Californians': 1, 'delivered': 1, 'weekday': 1, 'mornings': 1, 'Delivered': 1, 'inbox': 1, 'Deputy': 1, 'Leader': 1, 'Lose': 1, 'Seats': 1, 'Citizenship': 1, 'high': 1, 'court': 1, 'ruled': 1, 'Barnaby': 1, 'Joyce': 1, 'other': 1, 'lawmakers': 1, 'ineligible': 1, 'run': 1, 'Parliament': 1, 'because': 1, 'they': 2, 'held': 1, 'dual': 1, 'citizenship': 1, 'Japanese': 2, 'Australian': 1, 'Foodways': 1, 'Mix': 1, 'Off': 1, 'Winding': 1, 'Road': 1, 'small': 1, 'town': 1, 'South': 2, 'Wales': 1, 'rewards': 1, 'visitors': 1, 'locals': 1, 'charming': 1, 'cafe': 1, 'Eminem’s': 1, 'Publisher': 1, 'Triumphs': 1, 'Zealand': 2, 'Copyright': 1, 'Battle': 1, 'pay': 1, '413000': 1, 'damages': 1, 'ad': 1, 'evoked': 1, 'rapper’s': 1, 'hit': 1, '“Lose': 1, 'Yourself”': 1, 'Creator': 1, 'Fallout': 2, 'Shelter': 2, 'Dead': 1, '95': 2, 'Robert': 2, 'Blakeley’s': 1, 'yellowandblack': 1, 'placards': 1, 'reflected': 1, 'Americans’': 1, 'anxieties': 1, 'about': 1, 'nuclear': 1, 'war': 1, 'while': 1, 'pointing': 1, 'might': 1, 'be': 3, 'saved': 1, 'Astronomers': 2, 'Study': 2, 'Object': 2, 'Outside': 2, 'Our': 4, 'System': 3, 'object': 1, 'faster': 1, 'known': 1, 'asteroids': 1, 'comets': 1, 'spotted': 1, 'telescope': 1, 'Hawaii': 1, 'leaving': 1, 'just': 1, 'quickly': 1, 'arrived': 1, 'For': 2, 'Only': 2, 'Tours': 2, 'That': 3, 'Put': 1, 'Adventure': 2, 'tours': 1, 'catering': 1, 'women': 1, 'those': 2, 'push': 1, 'limits': 1, 'seem': 1, 'resonate': 1, 'most': 1, 'Deadly': 1, 'Ambush’s': 1, 'Great': 1, 'Mystery': 2, 'Doing': 1, 'Niger': 1, 'EDITORIAL': 1, 'BOARD': 1, 'So': 4, 'questions': 1, 'left': 1, 'unanswered': 1, 'fundamental': 1, 'one': 1, 'mission': 1, 'troops': 1, 'Africa': 1, 'Collins': 2, 'No': 3, 'Profit': 2, 'Betsy': 2, 'DeVos': 2, 'Stephens': 1, 'Communism': 1, 'Through': 1, 'RoseColored': 1, 'Glasses': 1, 'Cohen': 1, 'If': 2, 'All': 2, 'Else': 1, 'Fails': 1, 'Dowd': 1, 'Mark': 2, 'Cuban’s': 1, 'Done': 1, 'Trolling': 1, 'Egan': 1, 'Crackup': 1, 'Cruel': 1, 'Choice': 1, 'Who': 4, 'Gets': 1, 'Stay': 1, 'Watch': 1, 'Ashley': 1, 'Judd': 1, 'Sexual': 1, 'Harassment': 1, 'Hollywood': 1, 'How': 9, 'Twitter': 5, 'Killed': 4, 'Amendment': 3, 'TIM': 1, 'WU': 1, 'amendment': 2, 'withered': 2, 'face': 2, 'troll': 2, 'armies': 2, 'censorship': 2, 'fake': 2, 'Can': 4, 'anything': 2, 'done': 2, 'Threat': 2, 'Chemical': 2, 'Warfare': 2, 'THEO': 1, 'EMERY': 1, 'Pyongyang’s': 1, 'chemical': 1, 'weapons': 1, 'pose': 1, 'risk': 1, 'stability': 1, 'Happiness': 2, 'Other': 2, 'People': 2, 'Baseballs': 1, '1948': 1, 'Deserves': 1, 'TickerTape': 1, 'Parade': 1, 'User': 1, 'Subscriptions': 5, 'Fans': 3, 'Love': 6, 'Extra': 4, 'Innings': 3, 'LateGame': 3, 'Twists': 3, 'Reporters': 3, 'Less': 3, '18': 2, 'Escaped': 1, 'Girls': 1, 'Interviews': 1, 'Insider': 2, 'raquo': 33, 'Crossword': 4, 'Play': 3, 'Todayrsquos': 2, 'Puzzle': 2, 'Wordplay': 1, 'Watching': 2, 'Neediest': 2, 'Cases': 2, '‘Coming': 1, 'Out': 1, 'Cloud’': 1, 'Drug': 3, 'Abuse': 1, 'Mental': 1, 'Illness': 1, 'Wanda': 1, 'Ramirez': 1, 'schizophrenia': 1, 'used': 1, 'smoke': 1, 'marijuana': 1, 'day': 1, 'treatment': 1, 'her': 1, 'love': 1, 'drawing': 1, 'fostered': 1, 'art': 1, 'therapy': 1, '106th': 1, 'year': 1, 'Fund': 1, 'provided': 1, 'direct': 1, 'assistance': 1, 'struggling': 1, 'beyond': 1, 'Donate': 1, 'now': 1, 'Advertisers': 1, 'Loading': 2, 'times': 1, 'video': 1, 'explore': 1, 'videos': 1, 'Player': 1, 'Inside': 1, 'Nytimescom': 1, 'previous': 1, 'story': 2, 'next': 1, 'Design': 3, 'Everyday': 1, 'Horrors': 1, 'Age': 3, 'Terror': 1, 'Leaks': 1, 'Marigold': 1, 'Affair': 1, 'full': 1, 'intrigue': 1, 'lesson': 1, 'why': 2, 'peace': 1, 'hard': 1, 'achieve': 1, 'Vietnam': 1, 'Winter': 1, 'Sets': 1, 'Shrews': 1, 'Skulls': 1, 'Brains': 1, 'College': 2, 'Advice': 1, 'I': 2, 'Wish': 2, 'I’d': 1, 'Taken': 1, 'Sunday': 2, 'Review': 8, 'Personal': 1, 'Google’s': 1, 'Physical': 1, 'Keys': 1, 'Protect': 1, 'Passwords': 1, 'Book': 2, 'Ron': 1, 'Chernow': 1, '6': 1, 'Spooky': 1, 'Destinations': 1, 'Wine': 2, 'Beer': 1, 'Cocktails': 1, 'Next': 2, 'Lesson': 1, 'Savennières': 1, 'Giants': 1, 'Pay': 2, 'Huge': 1, 'Salaries': 1, 'AI': 1, 'Talent': 1, 'Uninhabitable': 1, 'Village': 2, 'Dismisses': 1, 'Government': 1, 'Region': 1, 'Declares': 3, 'ISIS': 1, 'Driven': 1, 'Iraq': 1, 'Sunnis': 1, 'Remain': 1, 'Alienated': 1, 'Day': 1, 'Halperin': 1, 'He': 3, '‘Mistreated’': 1, 'Economy’s': 1, 'Spurt': 1, 'Emboldens': 1, 'Tax': 1, 'Cut': 1, 'Supporters': 1, 'Critics': 1, 'Tim': 2, 'Wu': 1, 'OpEd': 3, 'Contributor': 1, 'Gail': 1, 'Why': 1, 'Conspiracy': 1, 'Theories': 1, 'Blame': 1, 'Movies': 3, 'Nursed': 1, 'Undocumented': 1, 'It': 3, 'May': 2, 'Deport': 1, 'Her': 1, 'Worries': 1, 'Companies': 1, 'Post': 1, 'Glowing': 1, 'Quarterly': 1, 'Profits': 1, 'Russia': 1, 'Fanned': 1, 'Flames': 1, 'Which': 2, 'Faces': 1, 'Blowback': 1, 'Bans': 1, 'KremlinBacked': 1, 'Outlets': 1, 'Advertising': 1, 'See': 1, 'One': 2, 'Opera': 1, 'This': 1, 'Year': 2, 'Make': 1, 'Exterminating': 1, 'Angel’': 1, 'Weinstein': 1, 'Hefner': 1, 'Poor': 1, 'Excuse': 1, 'Explains': 1, 'Lot': 1, 'David': 1, 'Harbour': 1, '‘Stranger': 3, 'Things’': 4, 'Never': 1, 'Wants': 1, 'Dad': 1, 'Intrigue': 1, 'Cute': 1, 'He’s': 1, 'Still': 1, 'Wary': 1, 'Their': 1, 'Federal': 1, 'Fashion': 2, '‘Terry': 1, 'Richardson': 1, 'Just': 3, 'Tip': 1, 'Iceberg’': 1, 'Modern': 1, 'There': 1, 'Something': 1, 'Odd': 1, 'Being': 1, 'Single': 1, 'Always': 1, 'Fishnets': 1, 'Season': 3, 'Somewhere': 1, 'Biggest': 1, 'Horror': 3, 'History': 1, 'Glib': 1, 'Laughs': 1, 'Race': 2, 'Hate': 2, '‘Suburbicon’': 1, 'Square’': 1, 'Takes': 1, 'Aim': 1, 'Sex': 1, 'Money': 2, 'Staten': 1, 'Island': 1, 'Haunting': 1, 'Memories': 1, 'Those': 1, 'Hurricane': 1, 'Sandy': 1, 'De': 1, 'Blasio': 1, 'Donor': 1, 'Says': 1, 'Helped': 1, 'Mayor': 1, 'ExJail': 1, 'Guards': 1, 'Chief': 1, '‘Under': 1, 'Control’': 1, 'Fare': 1, 'Raises': 1, 'Security': 1, 'Concerns': 1, 'Officials': 1, 'Promise': 1, 'Safety': 1, 'Rout': 1, 'Beat': 1, 'Won': 2, 'Inning': 2, 'Baseball': 1, 'Theater': 3, '‘M': 1, 'Butterfly’': 1, 'Returns': 1, 'Broadway': 1, 'Heavier': 1, 'Wings': 1, 'London': 1, 'Aims': 1, 'Stage': 1, 'Revolution': 1, 'Show': 1, 'Rehab': 1, '‘People': 1, 'Places': 1, 'Trilobites': 3, 'Solar': 1, 'TurkeySized': 1, 'Dinosaur': 1, 'RaccoonLike': 1, 'Bandit': 1, 'Mask': 1, 'Yes': 1, 'Oysters': 1, '‘Hear’': 1, 'They': 1, 'Probably': 1, 'We’d': 1, 'Clam': 1, 'Obituaries': 2, 'Blakeley': 1, 'Whose': 1, 'Symbolized': 1, 'Dies': 3, 'Fay': 1, 'Chiang': 1, '65': 1, 'Poet': 1, 'Championed': 1, 'AsianAmerican': 1, 'Culture': 1, 'Walter': 1, 'Lassally': 1, 'Cinematographer': 1, 'Oscar': 1, '‘Zorba’': 1, '90': 1, 'Television': 2, '2': 2, 'Premiere': 1, 'Recap': 1, 'Lingering': 1, 'Effects': 1, 'Critic’s': 1, 'Notebook': 2, '‘TRL’': 1, 'MTV': 1, 'Undone': 1, 'Chatter': 1, 'Remember': 1, 'Before': 2, 'Voters': 1, 'Could': 2, 'Overrule': 1, 'Old': 1, 'Last': 1, 'Question': 1, 'Operation': 1, 'Frail': 1, 'Opioid': 1, 'Crisis': 1, '‘Health': 1, 'Emergency’': 1, 'Requests': 1, 'Funds': 1, 'Getaway': 1, 'Emphasize': 1, 'Stop': 1, 'SpiceLaden': 1, 'Kerala': 1, 'Break': 1, 'Urban': 1, 'India': 1, 'Where': 1, 'Experience': 1, 'Fats': 1, 'Domino’s': 1, 'Orleans': 1, 'Books': 2, 'Nonfiction': 1, 'Stranger': 1, 'Than': 3, 'Fiction': 3, 'Best': 2, 'TrueCrime': 1, 'Stories': 1, 'Roundup': 2, 'Indebted': 1, 'Early': 1, 'Master': 1, 'Villains': 1, 'Ourselves': 1, 'Thriller': 1, 'Education': 4, 'Campus': 2, 'Lives': 1, 'Administrators': 1, 'Need': 1, 'Catch': 1, 'Classroom': 1, 'Setting': 1, 'Suits': 1, 'Help': 2, 'Students': 1, 'Right': 2, 'Price': 1, 'School': 1, 'CrozesHermitage': 1, 'Dimension': 1, 'Delicious': 1, 'Kitchen': 1, 'Warming': 1, 'Curry': 1, 'Fall': 1, 'Matt': 1, 'Orlando': 1, 'Brings': 1, 'Sun': 1, 'Copenhagen': 1, 'Issue': 3, 'OldSchool': 1, 'Expandable': 1, 'Feast': 1, 'View': 2, 'Illegal': 1, 'Apartment': 1, 'Shopping': 3, 'Guide': 5, 'Wingback': 1, 'Chairs': 1, 'Upshot': 1, 'When': 1, 'Silver': 1, 'Costs': 1, 'Gold': 1, 'Actions': 1, 'Have': 2, 'Scrambled': 1, 'Insurance': 1, 'Prices': 1, 'Draw': 1, 'Bad': 1, 'Overdose': 1, 'Epidemic': 1, 'Deaths': 1, 'America': 1, 'Rising': 1, 'Faster': 1, 'Ever': 1, 'Reporter’s': 1, 'We’re': 1, 'Reading': 1, 'Kenny': 1, 'Scharf’s': 1, 'East': 1, '38': 1, 'Years': 1, 'Automobiles': 2, 'Automakers': 1, 'Build': 1, 'Chests': 1, 'Finance': 1, 'SelfDriving': 1, 'Future': 1, 'Subaru': 1, 'Admits': 1, 'Inspection': 1, 'Failings': 1, 'Blow': 1, 'Japan’s': 1, 'Carmakers': 1, 'Wheels': 1, 'Forgetting': 1, 'Child': 1, 'Seat': 1, 'Kill': 1, 'Cars': 1, 'Soon': 1, 'Warn': 1, 'Man': 1, 'Designing': 1, 'Spaces': 1, 'Instagram': 1, 'Some': 1, 'Editors': 1, 'Helsinki’s': 1, 'Saunas': 1, 'Life': 1, 'Didn’t': 1, 'Yet': 1, 'JOANNE': 1, 'KAUFMAN': 1, 'Federle': 1, 'author': 1, '“Life': 1, 'Musical”': 1, 'sofa': 1, 'seeing': 1, 'name': 1, 'copy': 2, 'Playbill': 1, 'Homes': 1, 'Sale': 2, 'Rent': 1, 'Mortgage': 1, 'Calculator': 1, 'Most': 2, 'Emailed': 1, 'Viewed': 1, 'Trending': 1, 'Recommended': 1, 'Home': 2, 'Page': 1, 'Index': 2, 'Todays': 3, 'Corrections': 1, 'Columnists': 1, 'Editorials': 1, 'Contributors': 1, 'Letters': 1, 'Dance': 1, 'Music': 1, 'NYC': 3, 'Events': 3, 'Jobs': 1, 'Weddings': 1, 'Celebrations': 1, 'Listings': 1, 'Reader': 1, 'Classifieds': 1, 'Tools': 1, 'Services': 1, 'Photography': 1, 'NYT': 1, 'Store': 1, 'Journeys': 1, 'Manage': 1, 'My': 1, 'Account': 1, 'NYTCo': 1, 'Delivery': 1, 'Digital': 1, 'Email': 1, 'Newsletters': 1, 'Alerts': 1, 'Gift': 1, 'Corporate': 1, 'Rate': 1, 'Applications': 1, 'Replica': 1, 'Information': 2, 'Company': 1, 'Contact': 1, 'Us': 2, 'Work': 1, 'Advertise': 1, 'Ad': 1, 'Choices': 1, 'Privacy': 1, 'Terms': 2, 'Service': 1, 'Map': 1, 'Feedback': 1, 'Version': 1}\n"
     ]
    }
   ],
   "source": [
    "url = 'http://www.nytimes.com'\n",
    "f = request.urlopen(url)\n",
    "source_bytes = f.read()\n",
    "source = source_bytes.decode('utf-8')\n",
    "a = source\n",
    "cnt=0\n",
    "cnt\n",
    "list = []\n",
    "\n",
    "\n",
    "while(cnt != len(a)) :\n",
    "    \n",
    "        if a[cnt] == '<' :\n",
    "            if(a[cnt+1] == '!' and a[cnt+2]=='-') : #주석 삭제\n",
    "                cnt+=3\n",
    "                while True:\n",
    "                    cnt+=1\n",
    "                    if(a[cnt] == '-' and a[cnt+1] == '>'):\n",
    "                        cnt+=1\n",
    "                        break\n",
    "            elif(a[cnt+1:cnt+7] == \"script\" ) : #스크립트 삭제\n",
    "                cnt+=7\n",
    "                while True:\n",
    "                    cnt+=1\n",
    "                    if(a[cnt:cnt+8] == \"/script>\"):\n",
    "                        cnt+=8\n",
    "                        break\n",
    "                        \n",
    "            elif(a[cnt+1:cnt+6]) == \"style\" : ##css 삭제\n",
    "                cnt+=6\n",
    "                while True:\n",
    "                    cnt+=1\n",
    "                    if(a[cnt:cnt+6]) == '/style':\n",
    "                        cnt+=6\n",
    "                        break\n",
    "                        \n",
    "\n",
    "                    \n",
    "            else:\n",
    "                while(a[cnt] != '>'): #HTML 삭제\n",
    "                    cnt+=1\n",
    "                    \n",
    "        \n",
    "        elif  a[cnt] != '<' and a[cnt] != '>' and a[cnt]!='\\t' and a[cnt]!=' ' and a[cnt] !='\\n' :\n",
    "            start = cnt\n",
    "            while a[cnt] != '<' and a[cnt] != '>' and a[cnt]!='\\t' and a[cnt] !=' ' and a[cnt] !='\\n' :\n",
    "                    cnt+=1\n",
    "                    if(cnt==len(a)):\n",
    "                            break\n",
    "                        \n",
    "            end = cnt\n",
    "            list.append(a[start:end])\n",
    "            \n",
    "        else :\n",
    "            cnt +=1\n",
    "            \n",
    "            \n",
    "c=[]\n",
    "for x in string.punctuation: #구두문자 리스트화\n",
    "    c.append(x)\n",
    "\n",
    "for x in range(len(list)) : #구두문자가 list의 원소안에 포함되어있을 경우\n",
    "    for k in c:\n",
    "        if k in list[x]:\n",
    "            list[x] = list[x].replace(k,'') #구두문자를 없앤다\n",
    "list.remove('') #구두문자만 있었을 경우 공백만 남으므로 공백 없애줌\n",
    "            \n",
    "dic = dict()\n",
    "for x in list:\n",
    "    if x not in dic.keys(): #list의 원소가 사전에 없으면 추가\n",
    "        dic[x] = 1\n",
    "    elif x in dic.keys(): #이미 있는 원소면 1추가\n",
    "        dic[x] += 1\n",
    "\n",
    "print(dic)"
   ]
  },
  {
   "cell_type": "markdown",
   "metadata": {},
   "source": [
    "저번 과제 마지막문제풀때는 css나 script는 제외시키지 않고 HTML, 주석만 제외시켰었는데 이번에는 모두 제외시켰습니다.\n",
    "1. 특정한 문자 혹은 문자열이 나왔을 시(HTML, CSS, SCRIPT) 해당 문자를 건너뛰고 나머지 문자들을 개행, 공백등으로 구분하여 list리스트에 추가시킨다 - 저번과제와 동일\n",
    "2. 구두문자 정보를 얻어오기위해 string모듈을 import한다.\n",
    "3. string.punctuation 은 모든 구두문자를 문자열로 표현하므로 각각의 구두문자를 비어있는 리스트인 c에 append 메소드로 각각 추가한다.\n",
    "4. 이제 for~in 문으로 list리스트의 모든 원소에 접근하고 구두문자 리스트인 c의 모든 원소에 접근하여 list의 원소에 구두문자가 포함되어있으면 replace메소드로 구두문자를 없앤다.\n",
    "5. 비어있는 사전인 dic을 설정하고, 구두문자가 모두 지워진 list의 모든 원소들을 넣어준다. 이 때, 원소가 dic사전에 없을경우, 추가해주고 value값을 1로 설정한다. 이후 같은원소가 있을 경우 해당원소의 value값을 1만 더해준다.\n",
    "6. dic을 출력한다."
   ]
  },
  {
   "cell_type": "markdown",
   "metadata": {},
   "source": [
    "## 느낀점"
   ]
  },
  {
   "cell_type": "markdown",
   "metadata": {},
   "source": [
    "전에 과제를 했을때도 느꼈지만, 이번과제를 하면서 정말로 많이 느낀 것은, c나 java로 이것들을 코딩했다면, 파이썬으로 코딩하는데 걸리는 시간보다 훨씬오래 걸렸겠다는 것이다. 그만큼 많은것을 파이썬으로 빠르고 쉽게 할수있는것 같다. 이것은 이번 과제에 포함되었던 백준문제를 2줄로 끝냈을 때 가장많이 와닿았다.  \n",
    "다만, 익숙하지 않은 문법이나 당연히 잘 구동되어야 할것 같은 코드가 구동되지 않을 때가 많았다. 이유는 당연히 '익숙하지 않아서'가 아닐까. 편한만큼 알아야할 것도 상당히 많다고 느낀다. 하지만 이러한 어려움들을 이기고 언젠가 파이썬이 익숙해질 때 즈음에는 확실히 파이썬을 제외한 c라던가 다른언어는 쓰고싶지 않을것 같다. 앞으로 더욱 열심히 공부해서 파이썬을 0순위 애정언어로 사용할 수 있도록 해야겠다."
   ]
  }
 ],
 "metadata": {
  "kernelspec": {
   "display_name": "Python 3",
   "language": "python",
   "name": "python3"
  },
  "language_info": {
   "codemirror_mode": {
    "name": "ipython",
    "version": 3
   },
   "file_extension": ".py",
   "mimetype": "text/x-python",
   "name": "python",
   "nbconvert_exporter": "python",
   "pygments_lexer": "ipython3",
   "version": "3.6.1"
  }
 },
 "nbformat": 4,
 "nbformat_minor": 2
}
