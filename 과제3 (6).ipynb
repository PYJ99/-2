{
 "cells": [
  {
   "cell_type": "markdown",
   "metadata": {},
   "source": [
    "## 문제 1\n",
    " - L=[1, 2, 3, 4, 5]일 때 다음 각 문장을 수행한 후의 결과를 보고 납득할 만한 이유를 설명하시오.  \n",
    " \n",
    " \n",
    "1)"
   ]
  },
  {
   "cell_type": "code",
   "execution_count": 2,
   "metadata": {},
   "outputs": [
    {
     "name": "stdout",
     "output_type": "stream",
     "text": [
      "[1, 100, 4, 5]\n"
     ]
    }
   ],
   "source": [
    "L = [1,2,3,4,5]\n",
    "L[1:3] = [100]\n",
    "print(L)"
   ]
  },
  {
   "cell_type": "markdown",
   "metadata": {},
   "source": [
    "L[1:3] 에 해당되는 리스트원소는 2,3 이다.  \n",
    "슬라이싱을 이용해 이 2,3이라는 2개의 원소가 100이라는 하나의 원소로 대체된다."
   ]
  },
  {
   "cell_type": "markdown",
   "metadata": {},
   "source": [
    "2) "
   ]
  },
  {
   "cell_type": "code",
   "execution_count": 18,
   "metadata": {},
   "outputs": [
    {
     "name": "stdout",
     "output_type": "stream",
     "text": [
      "[1, 100, 4, 5]\n"
     ]
    }
   ],
   "source": [
    "L=[1, 2, 3, 4, 5]\n",
    "L[1:3] = [(100)]\n",
    "print(L)"
   ]
  },
  {
   "cell_type": "markdown",
   "metadata": {},
   "source": [
    "이 역시 리스트 내에있는 2,3이라는 2개의 원소가 100이라는 1개의 튜플로 대체된다. 튜플에 원소가 하나만 있는 상태에서 리스트로 들어갈 경우, 이는 괄호() 가 없어진 상태로 리스트안에 들어가게된다. 대신에 리스트 내부에 들어가는 튜플의 원소의 개수가 1개일 경우 튜플 밖에 [] 괄호가 있어야한다.  \n",
    "리스트 내의 튜플의 원소의 개수가2개 이상일 경우에는 튜플 채로 들어가게된다. ex) L[1:3] = [(100,200)] => [1, (100, 200), 4, 5]"
   ]
  },
  {
   "cell_type": "markdown",
   "metadata": {},
   "source": [
    "3)"
   ]
  },
  {
   "cell_type": "code",
   "execution_count": 20,
   "metadata": {},
   "outputs": [
    {
     "ename": "TypeError",
     "evalue": "can only assign an iterable",
     "output_type": "error",
     "traceback": [
      "\u001b[1;31m---------------------------------------------------------------------------\u001b[0m",
      "\u001b[1;31mTypeError\u001b[0m                                 Traceback (most recent call last)",
      "\u001b[1;32m<ipython-input-20-d0274ea64f39>\u001b[0m in \u001b[0;36m<module>\u001b[1;34m()\u001b[0m\n\u001b[0;32m      1\u001b[0m \u001b[0mL\u001b[0m\u001b[1;33m=\u001b[0m\u001b[1;33m[\u001b[0m\u001b[1;36m1\u001b[0m\u001b[1;33m,\u001b[0m \u001b[1;36m2\u001b[0m\u001b[1;33m,\u001b[0m \u001b[1;36m3\u001b[0m\u001b[1;33m,\u001b[0m \u001b[1;36m4\u001b[0m\u001b[1;33m,\u001b[0m \u001b[1;36m5\u001b[0m\u001b[1;33m]\u001b[0m\u001b[1;33m\u001b[0m\u001b[0m\n\u001b[1;32m----> 2\u001b[1;33m \u001b[0mL\u001b[0m\u001b[1;33m[\u001b[0m\u001b[1;36m1\u001b[0m\u001b[1;33m:\u001b[0m\u001b[1;36m3\u001b[0m\u001b[1;33m]\u001b[0m \u001b[1;33m=\u001b[0m \u001b[1;36m100\u001b[0m\u001b[1;33m\u001b[0m\u001b[0m\n\u001b[0m\u001b[0;32m      3\u001b[0m \u001b[0mprint\u001b[0m\u001b[1;33m(\u001b[0m\u001b[0mL\u001b[0m\u001b[1;33m)\u001b[0m\u001b[1;33m\u001b[0m\u001b[0m\n",
      "\u001b[1;31mTypeError\u001b[0m: can only assign an iterable"
     ]
    }
   ],
   "source": [
    "L=[1, 2, 3, 4, 5]\n",
    "L[1:3] = 100\n",
    "print(L)"
   ]
  },
  {
   "cell_type": "markdown",
   "metadata": {},
   "source": [
    "100은 리스트나 튜플같은것이 아닌 int형 자료형이므로 위의 경우들과는 다르게 슬라이싱을 대체하는 경우에는 리스트에 추가될 수 없다. 물론 그냥 리스트에 추가하는것은 문제없다. \n",
    "오류내용이 다음과 같은데, < TypeError: can only assign an iterable  >  \n",
    "여기서 말하는 iterable은 str, range, list, tuple, dict, set과 같은 것들이다. 한마디로 100의 자료형은 iterable에 포함되지 않는다.\n"
   ]
  },
  {
   "cell_type": "markdown",
   "metadata": {},
   "source": [
    "4)"
   ]
  },
  {
   "cell_type": "code",
   "execution_count": 22,
   "metadata": {
    "scrolled": false
   },
   "outputs": [
    {
     "ename": "TypeError",
     "evalue": "can only assign an iterable",
     "output_type": "error",
     "traceback": [
      "\u001b[1;31m---------------------------------------------------------------------------\u001b[0m",
      "\u001b[1;31mTypeError\u001b[0m                                 Traceback (most recent call last)",
      "\u001b[1;32m<ipython-input-22-f155c5a8ccd1>\u001b[0m in \u001b[0;36m<module>\u001b[1;34m()\u001b[0m\n\u001b[0;32m      1\u001b[0m \u001b[0mL\u001b[0m\u001b[1;33m=\u001b[0m\u001b[1;33m[\u001b[0m\u001b[1;36m1\u001b[0m\u001b[1;33m,\u001b[0m \u001b[1;36m2\u001b[0m\u001b[1;33m,\u001b[0m \u001b[1;36m3\u001b[0m\u001b[1;33m,\u001b[0m \u001b[1;36m4\u001b[0m\u001b[1;33m,\u001b[0m \u001b[1;36m5\u001b[0m\u001b[1;33m]\u001b[0m\u001b[1;33m\u001b[0m\u001b[0m\n\u001b[1;32m----> 2\u001b[1;33m \u001b[0mL\u001b[0m\u001b[1;33m[\u001b[0m\u001b[1;36m1\u001b[0m\u001b[1;33m:\u001b[0m\u001b[1;36m3\u001b[0m\u001b[1;33m]\u001b[0m \u001b[1;33m=\u001b[0m \u001b[1;33m(\u001b[0m\u001b[1;36m100\u001b[0m\u001b[1;33m)\u001b[0m\u001b[1;33m\u001b[0m\u001b[0m\n\u001b[0m\u001b[0;32m      3\u001b[0m \u001b[0mprint\u001b[0m\u001b[1;33m(\u001b[0m\u001b[0mL\u001b[0m\u001b[1;33m)\u001b[0m\u001b[1;33m\u001b[0m\u001b[0m\n",
      "\u001b[1;31mTypeError\u001b[0m: can only assign an iterable"
     ]
    }
   ],
   "source": [
    "L=[1, 2, 3, 4, 5]\n",
    "L[1:3] = (100)\n",
    "print(L)"
   ]
  },
  {
   "cell_type": "markdown",
   "metadata": {},
   "source": [
    "튜플 내부에 인자가 하나일 경우 (100,) 처럼 끝에 콤마(,)를 붙여줘야 튜플로 인식된다. "
   ]
  },
  {
   "cell_type": "markdown",
   "metadata": {},
   "source": [
    "5)"
   ]
  },
  {
   "cell_type": "code",
   "execution_count": 24,
   "metadata": {},
   "outputs": [
    {
     "name": "stdout",
     "output_type": "stream",
     "text": [
      "[1, 100, 101, 102, 4, 5]\n"
     ]
    }
   ],
   "source": [
    "L=[1, 2, 3, 4, 5]\n",
    "L[1:3] = (100, 101, 102)\n",
    "print(L)"
   ]
  },
  {
   "cell_type": "markdown",
   "metadata": {},
   "source": [
    "L리스트의 1,2번째 값을 튜플(100, 101, 102)로 대체한다. 범위 내의 인자의 개수보다 대체되는 인자의 개수가 많을때는 범위가 더해져 추가된다.  \n",
    "튜플 겉에 []괄호가 씌워져있지 않으므로 괄호가 벗겨지며 L의 원소를 대체한다. 겉에 []를 씌울 경우 튜플 자체로 대체된다.  \n",
    "ex) L[1:3] = [(100, 101, 102)] => [1, (100, 101, 102), 4, 5]"
   ]
  },
  {
   "cell_type": "markdown",
   "metadata": {},
   "source": [
    "6)"
   ]
  },
  {
   "cell_type": "code",
   "execution_count": 26,
   "metadata": {
    "scrolled": true
   },
   "outputs": [
    {
     "name": "stdout",
     "output_type": "stream",
     "text": [
      "[1, 100, 101, 102, 4, 5]\n"
     ]
    }
   ],
   "source": [
    "L=[1, 2, 3, 4, 5]\n",
    "L[1:3] = [100, 101, 102]\n",
    "print(L)"
   ]
  },
  {
   "cell_type": "markdown",
   "metadata": {},
   "source": [
    "5번과 비슷하다. 리스트 겉에 리스트괄호[]가 없기때문에 리스트 내부로 들어갈 때 괄호가 벗겨지며 2,3을 대체한다. 리스트 자체로 값을 대체하고 싶은경우에는 넣고싶은 공간의 타입을 고려해 알맞은 괄호를 겉에 씌워주면 된다. L은 리스트이므로 []를 씌워주면 된다.  \n",
    "ex) L[1:3] = [[100, 101, 102]] => [1, [100, 101, 102], 4, 5]"
   ]
  },
  {
   "cell_type": "markdown",
   "metadata": {},
   "source": [
    "7)"
   ]
  },
  {
   "cell_type": "code",
   "execution_count": 12,
   "metadata": {},
   "outputs": [
    {
     "name": "stdout",
     "output_type": "stream",
     "text": [
      "[1, (100, 101, 102), 4, 5]\n"
     ]
    }
   ],
   "source": [
    "L=[1, 2, 3, 4, 5]\n",
    "L[1:3] = [(100, 101, 102)]\n",
    "print(L)"
   ]
  },
  {
   "cell_type": "markdown",
   "metadata": {},
   "source": [
    "튜플 겉에 리스트괄호[]가 씌워져 있으므로 리스트내부에 튜플 자체로 들어가게 된다."
   ]
  },
  {
   "cell_type": "markdown",
   "metadata": {},
   "source": [
    "8)"
   ]
  },
  {
   "cell_type": "code",
   "execution_count": 13,
   "metadata": {},
   "outputs": [
    {
     "name": "stdout",
     "output_type": "stream",
     "text": [
      "[1, [100, 101, 102], 4, 5]\n"
     ]
    }
   ],
   "source": [
    "L=[1, 2, 3, 4, 5]\n",
    "L[1:3] = [[100, 101, 102]]\n",
    "print(L)"
   ]
  },
  {
   "cell_type": "markdown",
   "metadata": {},
   "source": [
    "마찬가지로 리스트 겉에 리스트괄호[]가 씌워져 있으므로 리스트 내부에 리스트 자체로 들어가게된다."
   ]
  },
  {
   "cell_type": "markdown",
   "metadata": {},
   "source": [
    "## 문제2"
   ]
  },
  {
   "cell_type": "markdown",
   "metadata": {},
   "source": [
    "- 문자열 S = 'Hello World and Python'에 대해 다음 요구사항에 대한 Python 코드를 제시하시오.\n",
    " - 1) 단어의 순서가 역순으로 되어진 문자열 ('Python and World Hello')을 만들고\n",
    " - 2) 1)의 결과 문자열에 대해 메소드 split과 join을 이용하여 공백을 모두 없엔 문자열 'PythonandWorldHello'을 만드시오."
   ]
  },
  {
   "cell_type": "code",
   "execution_count": 453,
   "metadata": {},
   "outputs": [
    {
     "name": "stdout",
     "output_type": "stream",
     "text": [
      "Python and World Hello\n",
      "PythonandWorldHello\n"
     ]
    }
   ],
   "source": [
    "S = 'Hello World and Python'\n",
    "S1 = S[-6:]+ ' ' + S[-10:-7] + ' ' + S[6:11] + ' ' + S[0:5]\n",
    "print(S1)\n",
    "S2 = S1.split()\n",
    "S2 = ''.join(S2)\n",
    "print(S2)"
   ]
  },
  {
   "cell_type": "markdown",
   "metadata": {},
   "source": [
    "S를 슬라이싱을 이용해서 순서를 바꿔준 것을 S1에 저장하고, split을 이용하여 문자열의 각 단어들을 리스트화 시켜 S2에 넣고 join메소드로 다시 S2를 공백구분없이 합친 문자열을 만들어 대입한다."
   ]
  },
  {
   "cell_type": "markdown",
   "metadata": {},
   "source": [
    "## 문제3\n",
    "\n",
    "- 다음 코드를 보고 물음에 답하시오.\n",
    "\n",
    "        a = [1, 2, 3]  \n",
    "        b = a * 3  \n",
    "        c = [a] * 3  \n",
    "        print(b)  \n",
    "        print(c)  "
   ]
  },
  {
   "cell_type": "markdown",
   "metadata": {},
   "source": [
    " - 1) 위 코드를 수행한 이후 다음 코드를 수행한 후 b와 c의 내용을 확인하시오.\n",
    "       a[0]=0"
   ]
  },
  {
   "cell_type": "code",
   "execution_count": 53,
   "metadata": {},
   "outputs": [
    {
     "name": "stdout",
     "output_type": "stream",
     "text": [
      "[1, 2, 3]\n",
      "[1, 2, 3, 1, 2, 3, 1, 2, 3]\n",
      "[[1, 2, 3], [1, 2, 3], [1, 2, 3]]\n"
     ]
    }
   ],
   "source": [
    "a = [1, 2, 3]\n",
    "b = a * 3\n",
    "c = [a] * 3\n",
    "print(a)\n",
    "print(b)\n",
    "print(c)"
   ]
  },
  {
   "cell_type": "code",
   "execution_count": 54,
   "metadata": {},
   "outputs": [
    {
     "name": "stdout",
     "output_type": "stream",
     "text": [
      "[0, 2, 3]\n",
      "[1, 2, 3, 1, 2, 3, 1, 2, 3]\n",
      "[[0, 2, 3], [0, 2, 3], [0, 2, 3]]\n"
     ]
    }
   ],
   "source": [
    "a[0]=0\n",
    "print(a)\n",
    "print(b)\n",
    "print(c)"
   ]
  },
  {
   "cell_type": "markdown",
   "metadata": {},
   "source": [
    "1. 리스트 [1,2,3]이라는 객체가 저장되어 있는 공간을 가리키는 a가 있다. \n",
    "2. b는 a가 가리키는 공간의 객체([1,2,3]) 에 접근한다. \n",
    "3. c는 리스트화된 [a] 객체에 접근한다.\n",
    "4. 즉, a와 [a]가 가지고있는 주소값은 다르다. [a] 는 리스트 내부에 a를 원소로 가지고 있다는 뜻이고, 리스트 자체에도 주소값이 할당되어 있다. \n",
    "5. a의 0번째 인덱스를 0으로 바꿔줌으로써 a의 0번째 인덱스는 1이라는 객체가 아닌 0이라는 객체를 가리킨다. 하지만 b는 전에 a가 가리키고있던 [1,2,3]을 그대로 가리키고있기 때문에 결과값이 바뀌지 않는다.\n",
    "6. 객체[a]의 주소값을 참조하여 * 연산을 하던 c는 그대로 [a]를 가리킨다. 즉 a[0]가 바뀌어서 a[0]가 가리키는 주소값은 바뀌었어도 [a]의 주소는 바뀌지 않았기 때문에 바뀐공간을 따라 가리킬 수 있다."
   ]
  },
  {
   "cell_type": "markdown",
   "metadata": {},
   "source": [
    "## 문제4\n",
    "- 다음 문자열을 ':'을 기준으로 분리하여 리스트로 만들고 각 문자열의 좌우 공백을 제거하시오 (즉, 문자열 S에서 l을 만들어라)  \n",
    "s = '  first star   :   second star   :    third star  '  \n",
    "l = ['first star', 'second star', 'third star']\n",
    "\n",
    "  - 1) for ~ in 문을 이용한 코드를 작성하시오.  \n",
    "  - 2) 리스트 내포(list comprehension)를 이용한 코드를 작성하시오."
   ]
  },
  {
   "cell_type": "markdown",
   "metadata": {},
   "source": [
    "for ~ in 문 이용"
   ]
  },
  {
   "cell_type": "code",
   "execution_count": 75,
   "metadata": {
    "scrolled": true
   },
   "outputs": [
    {
     "name": "stdout",
     "output_type": "stream",
     "text": [
      "['  first star', 'second star', ' third star  ']\n",
      "['first star', 'second star', 'third star']\n"
     ]
    }
   ],
   "source": [
    "S = '  first star   :   second star   :    third star  '  \n",
    "k = S.split('   :   ')\n",
    "print(k)\n",
    "l=[]\n",
    "for a in k :\n",
    "    l.append(a.strip())\n",
    "print(l)"
   ]
  },
  {
   "cell_type": "markdown",
   "metadata": {},
   "source": [
    "1. '  first star   :   second star   :    third star  '이라는 문자열에서 split 메소드로 '   :   '를 기준으로 나눠 k에 저장한다.\n",
    "2. 그러면 k리스트의 원소는 다음과 같아진다.  ['  first star', 'second star', ' third star  ']\n",
    "3. 비어있는 리스트를 가리키는 l을 설정해주고 for문을 이용해 리스트 k의 각각의 원소(a)에 접근해 strip으로 공백을 없애준 후 l에 append 시켜준다."
   ]
  },
  {
   "cell_type": "markdown",
   "metadata": {},
   "source": [
    "리스트 내포(list comprehension) 이용"
   ]
  },
  {
   "cell_type": "code",
   "execution_count": 76,
   "metadata": {
    "scrolled": true
   },
   "outputs": [
    {
     "name": "stdout",
     "output_type": "stream",
     "text": [
      "['  first star', 'second star', ' third star  ']\n",
      "['first star', 'second star', 'third star']\n"
     ]
    }
   ],
   "source": [
    "S = '  first star   :   second star   :    third star  '  \n",
    "k = S.split('   :   ')\n",
    "print(k)\n",
    "l = [a.strip() for a in k]\n",
    "print(l)"
   ]
  },
  {
   "cell_type": "markdown",
   "metadata": {},
   "source": [
    "1. 1,2는 위와 같다.\n",
    "2. 리스트 내포를 이용해 리스트 k의 각각의 원소a를 strip() 한 결과를 l의 원소로 갖는다."
   ]
  },
  {
   "cell_type": "markdown",
   "metadata": {},
   "source": [
    "## 문제5\n",
    "\n",
    "- 다음과 같이 0보다 큰 정수 리스트 변수 list를 인자로 받는 함수 addall(list)와 addallodd(list)를 for ~ in 리터널과 리스트 내포 방식으로 각각 제시하시오.\n",
    "    - addall(list) 함수 (리스트 내의 모든 정수를 더하는 함수로서 해답으로는 for ~ in 리터럴과 리스트 내포 방식으로 각각 제시하시오.)\n",
    "\n",
    "                >>> addall([1])\n",
    "                1\n",
    "                >>> addall([1, 2, 3, 4, 5, 6, 7, 8, 9])\n",
    "                45\n",
    "                \n",
    "    - addallodd(list) 함수 (리스트내의 모든 홀수를 더하는 함수로서 해답으로는 for ~ in 리터럴과 리스트 내포 방식으로 각각 제시하시오.)\n",
    "\n",
    "                >>> addallodd([1])\n",
    "                1\n",
    "                >>> addallodd([1, 2, 3, 4, 5, 6, 7, 8, 9])\n",
    "                25\n",
    "- [참고 1]: 리스트 내포 방식으로 addall() 및 addallodd()함수를 만들 때엔 리스트 내포에 의해 생성된 리스트 결과에 대해 내장 함수를 사용하는 방식을 고려해보시오 (주의: 리스트 내포 방식의 addall() 및 addallodd() 함수의 몸체는 단 1줄로 작성되어야 한다.)\n",
    "- [참고 2]: sum() 등의 내장함수 사용 가능함"
   ]
  },
  {
   "cell_type": "markdown",
   "metadata": {},
   "source": [
    "- addall(list) - for ~ in 방식"
   ]
  },
  {
   "cell_type": "code",
   "execution_count": 100,
   "metadata": {
    "scrolled": true
   },
   "outputs": [
    {
     "name": "stdout",
     "output_type": "stream",
     "text": [
      "45\n"
     ]
    }
   ],
   "source": [
    "def addall(list) :\n",
    "    result =0\n",
    "    for a in list :\n",
    "        result += a\n",
    "    print(result)\n",
    "addall([1,2,3,4,5,6,7,8,9])"
   ]
  },
  {
   "cell_type": "markdown",
   "metadata": {},
   "source": [
    "1. addall함수에 [1,2,3,4,5,6,7,8,9] 라는 리스트를 인자로 넘겨준다.\n",
    "2. 리스트인자들의 합을 저장할 변수인 result를 0으로 초기화해준다.\n",
    "3. for~in 문을 이용해 list의 각각의 원소를 result에 더해준 후 출력한다."
   ]
  },
  {
   "cell_type": "markdown",
   "metadata": {},
   "source": [
    "- addall(list) - 리스트 내포 방식"
   ]
  },
  {
   "cell_type": "code",
   "execution_count": 119,
   "metadata": {
    "scrolled": false
   },
   "outputs": [
    {
     "name": "stdout",
     "output_type": "stream",
     "text": [
      "45\n"
     ]
    }
   ],
   "source": [
    "def addall(list) :\n",
    "    print(sum([a for a in list]))\n",
    "addall([1, 2, 3, 4, 5, 6, 7, 8, 9])"
   ]
  },
  {
   "cell_type": "markdown",
   "metadata": {},
   "source": [
    "1. addall함수에 [1,2,3,4,5,6,7,8,9] 라는 리스트를 인자로 넘겨준다.\n",
    "2. 리스트 내포를 이용해 list의 원소들(a)로 리스트를 만든다.\n",
    "3. 그 후 sum 내장함수를 이용해 리스트내의 모든 원소를 더해준다."
   ]
  },
  {
   "cell_type": "markdown",
   "metadata": {},
   "source": [
    "- addallodd(list) - for ~ in 방식"
   ]
  },
  {
   "cell_type": "code",
   "execution_count": 101,
   "metadata": {
    "scrolled": true
   },
   "outputs": [
    {
     "name": "stdout",
     "output_type": "stream",
     "text": [
      "25\n"
     ]
    }
   ],
   "source": [
    "def addallodd(list) :\n",
    "    result =0\n",
    "    for a in list :\n",
    "        if(a%2 != 0):\n",
    "            result+=a\n",
    "    print(result)\n",
    "addallodd([1,2,3,4,5,6,7,8,9])"
   ]
  },
  {
   "cell_type": "markdown",
   "metadata": {},
   "source": [
    "1. 1,2번은 addall for~in 방식과 동일하다.\n",
    "2. for문내에서 if문으로 a가 2로 나눴을 때 나머지가 0이 아닌 수이면 result에 더하는 조건을 추가한다.\n",
    "3. result를 출력한다."
   ]
  },
  {
   "cell_type": "markdown",
   "metadata": {},
   "source": [
    "- addallodd(list) - 리스트 내포 방식"
   ]
  },
  {
   "cell_type": "code",
   "execution_count": 118,
   "metadata": {
    "scrolled": true
   },
   "outputs": [
    {
     "name": "stdout",
     "output_type": "stream",
     "text": [
      "25\n"
     ]
    }
   ],
   "source": [
    "def addallodd(list) :\n",
    "    print(sum([a for a in list if a%2 != 0]))\n",
    "addallodd([1,2,3,4,5,6,7,8,9])"
   ]
  },
  {
   "cell_type": "markdown",
   "metadata": {},
   "source": [
    "1. addall함수에 [1,2,3,4,5,6,7,8,9] 라는 리스트를 인자로 넘겨준다.\n",
    "2. 리스트 내포를 이용할 때, list내에있는 원소가 2로 나누어떨어지지 않는 수를 리스트로 만든다.\n",
    "3. 만들어진 리스트를 sum내장함수를 이용해 모두 더해준 후 출력한다."
   ]
  },
  {
   "cell_type": "markdown",
   "metadata": {},
   "source": [
    "## 문제6"
   ]
  },
  {
   "cell_type": "markdown",
   "metadata": {},
   "source": [
    "- 다음 코드를 보고 물음에 답하시오.\n",
    "\n",
    "        L1 = [1, 2, 3]\n",
    "        L2 = [4, 5, 6]\n",
    "        d = {'low':L1, 'high':L2}\n",
    "        e = d\n",
    "        f = d.copy()\n",
    "        print(d)\n",
    "        print(e)\n",
    "        print(f)\n",
    "        print()\n",
    "        d['low'] = [10, 20, 30]\n",
    "        d['high'][1] = 500\n",
    "        print(d)\n",
    "        print(e)\n",
    "        print(f)\n",
    "        \n",
    "- 1) 위 코드의 수행 결과 d와 e는 항상 같은 결과를 출력한다. 그 이유는 무엇인가?  \n",
    "- 2) 위 코드의 수행 결과 마지막 f의 내용은 다음과 같다. 이 때 'high' 키의 값 내용 중 500이 출력된 이유와 'low' 키의 값 내용 중 [1, 2, 3]이 출력된 이유를 설명하시오 ([hint]: shallow copy 관점에서 설명하시오.)\n",
    "\n",
    "        {'high': [4, 500, 6], 'low': [1, 2, 3]}"
   ]
  },
  {
   "cell_type": "code",
   "execution_count": 121,
   "metadata": {},
   "outputs": [
    {
     "name": "stdout",
     "output_type": "stream",
     "text": [
      "{'low': [1, 2, 3], 'high': [4, 5, 6]}\n",
      "{'low': [1, 2, 3], 'high': [4, 5, 6]}\n",
      "{'low': [1, 2, 3], 'high': [4, 5, 6]}\n",
      "\n",
      "{'low': [10, 20, 30], 'high': [4, 500, 6]}\n",
      "{'low': [10, 20, 30], 'high': [4, 500, 6]}\n",
      "{'low': [1, 2, 3], 'high': [4, 500, 6]}\n"
     ]
    }
   ],
   "source": [
    "L1 = [1, 2, 3]\n",
    "L2 = [4, 5, 6]\n",
    "d = {'low':L1, 'high':L2}\n",
    "e = d\n",
    "f = d.copy()\n",
    "print(d)\n",
    "print(e)\n",
    "print(f)\n",
    "print()\n",
    "d['low'] = [10, 20, 30]\n",
    "d['high'][1] = 500\n",
    "print(d)\n",
    "print(e)\n",
    "print(f)"
   ]
  },
  {
   "cell_type": "markdown",
   "metadata": {},
   "source": [
    "1)\n",
    "1. e = d 로 인해 e에는 d의 '주소값'이 복사되었으므로, d가 어느 한곳을 가리키면 e는 자동으로 같은곳을 가리킨다.\n",
    "2. d가 가리키는 곳의 값이 변하면, 당연히 e가 가리키는곳의 값도 변해있다. 그렇기 때문에 d와 e는 항상 같은 결과를 출력한다."
   ]
  },
  {
   "cell_type": "markdown",
   "metadata": {},
   "source": [
    "2)\n",
    "1. f = d.copy() 로 인해 얕은 복사가 진행되었다. 이는 d와 f의 key객체는 값은 같지만 서로 다른공간에 할당되어져있지만 서로의 key가 가리키는 value는 얕은복사이기 때문에 같다.\n",
    "2. 사전 d의 'low'키가 가리키는 객체가 [1,2,3]에서 [10,20,30]으로 바뀌었다. [1,2,3] 과 [10,20,30]은 서로 다른 공간에 할당되어 있으므로 주소값도 당연히 다르고, 'low'의 value값의 주소도 바뀐다.\n",
    "3. 하지만 f의 'low'는 여전히 [1,2,3]을 가리키고 있다. d와 f의 주소값이 다르기 때문에 d가 가리키는 값이 변한다고 해서 f도 변하는것은 아니다.\n",
    "4. d['high'][1] = 500 의 수행 결과로 key값 'high'의 value값의 원소 중 한 부분만 바뀌었다. 이는 1번처럼 리스트의 원소가 모두 바뀌어서 새로운 리스트공간을 할당받아 주소값이 변하는것이 아니라, 기존의 리스트 주소는 유지하되, 리스트 내부의 각각의 원소가 다른 객체를 가리키기 때문에 같은 리스트의 주소를 참조하는것은 여전히 변함이 없다. 이는 얕은복사의 특성으로, 리스트내의 원소까지는 복사가 되지 않는다.\n",
    "\n",
    "아래는 위의 결과값이 실제로 맞는지 id로 확인해본 결과이다."
   ]
  },
  {
   "cell_type": "code",
   "execution_count": 164,
   "metadata": {
    "scrolled": true
   },
   "outputs": [
    {
     "name": "stdout",
     "output_type": "stream",
     "text": [
      "d = 2324183869696\n",
      "e = 2324183869696\n",
      "f = 2324183871280\n",
      "{'low':L1, 'high':L2} = 2324183769808\n",
      "\n",
      "\n",
      "d['low'] = 2324183795464\n",
      "f['low'] = 2324183795464\n",
      "d['high'] = 2324183793800\n",
      "f['high'] = 2324183793800\n",
      "\n",
      "\n",
      "d['low'] = 2324183795656\n",
      "f['low'] = 2324183795464\n",
      "\n",
      "\n",
      "d['high'] = 2324183793800\n",
      "f['high'] = 2324183793800\n"
     ]
    }
   ],
   "source": [
    "\n",
    "d = {'low':L1, 'high':L2}\n",
    "e = d\n",
    "f = d.copy()\n",
    "\n",
    "print(\"d =\",id(d))\n",
    "print(\"e =\",id(e))\n",
    "print(\"f =\",id(f))\n",
    "print(\"{'low':L1, 'high':L2} =\",id({'low':L1, 'high':L2}))\n",
    "print('\\n')\n",
    "print(\"d['low'] =\",id(d['low']))\n",
    "print(\"f['low'] =\",id(f['low']))\n",
    "print(\"d['high'] =\",id(d['high']))\n",
    "print(\"f['high'] =\",id(f['high']))\n",
    "print('\\n')\n",
    "d['low'] = [10, 20, 30]\n",
    "d['high'][0] = 500\n",
    "\n",
    "print(\"d['low'] =\",id(d['low']))\n",
    "print(\"f['low'] =\",id(f['low']))\n",
    "print(\"\\n\")\n",
    "\n",
    "print(\"d['high'] =\",id(d['high']))\n",
    "print(\"f['high'] =\",id(f['high']))"
   ]
  },
  {
   "cell_type": "markdown",
   "metadata": {},
   "source": [
    "## 문제7\n",
    "- 사전 d = {'one':1, 'two':2, 'three':3, 'four':4, 'five':5}가 주어졌을 때 다음 요구사항에 맞는 코드를 제시하시오\n",
    "    - [참고]: d.keys(), d.values()를 통해 리스트를 얻어낸 후 리스트가 지니고 있는 sort(cmp=None, key=None, reverse=False)함수를 활용하시오.\n",
    "    - 1) 키의 알파벳 오름차순 순서대로 튜플 (키, 값)을 차례대로 출력하시오.\n",
    "    - 2) 키의 알파벳 내림차순 순서대로 튜플 (키, 값)을 차례대로 출력하시오.\n",
    "    - 3) 값의 오름차순 순서대로 튜플 (키, 값)을 차례대로 출력하시오.\n",
    "    - 4) 값의 내림차순 순서대로 튜플 (키, 값)을 차례대로 출력하시오."
   ]
  },
  {
   "cell_type": "markdown",
   "metadata": {},
   "source": [
    "1)"
   ]
  },
  {
   "cell_type": "code",
   "execution_count": 191,
   "metadata": {
    "scrolled": true
   },
   "outputs": [
    {
     "name": "stdout",
     "output_type": "stream",
     "text": [
      "[('one', 1), ('two', 2), ('three', 3), ('four', 4), ('five', 5)]\n",
      "[('five', 5), ('four', 4), ('one', 1), ('three', 3), ('two', 2)]\n"
     ]
    }
   ],
   "source": [
    "d = {'one':1, 'two':2, 'three':3, 'four':4, 'five':5}\n",
    "l = list()\n",
    "for k in d.items() :\n",
    "    l.append(k)\n",
    "print(l)\n",
    "l.sort()\n",
    "print(l)"
   ]
  },
  {
   "cell_type": "markdown",
   "metadata": {},
   "source": [
    "처음에는 d.items() 만 가지고 sort를 하려고 했는데 오류가 발생했다. 그래서 for~in 문, append 메소드를 이용해 사전을 리스트화 시켜 l에 저장하고, l을 sort로 오름차순 정렬했다. 인자값이 없으니 우선순위 key값은 key의 0번째 원소이고 reverse = False 이다."
   ]
  },
  {
   "cell_type": "markdown",
   "metadata": {},
   "source": [
    "2)"
   ]
  },
  {
   "cell_type": "code",
   "execution_count": 193,
   "metadata": {
    "scrolled": true
   },
   "outputs": [
    {
     "name": "stdout",
     "output_type": "stream",
     "text": [
      "[('one', 1), ('two', 2), ('three', 3), ('four', 4), ('five', 5)]\n",
      "[('two', 2), ('three', 3), ('one', 1), ('four', 4), ('five', 5)]\n"
     ]
    }
   ],
   "source": [
    "d = {'one':1, 'two':2, 'three':3, 'four':4, 'five':5}\n",
    "l = list()\n",
    "for k in d.items() :\n",
    "    l.append(k)\n",
    "print(l)\n",
    "l.sort(reverse = True)\n",
    "print(l)"
   ]
  },
  {
   "cell_type": "markdown",
   "metadata": {},
   "source": [
    "위와 같은 방식이지만 reverse = True를 인자값으로 설정해 key값의 0번째 원소로 내림차순 출력한다."
   ]
  },
  {
   "cell_type": "markdown",
   "metadata": {},
   "source": [
    "3)"
   ]
  },
  {
   "cell_type": "code",
   "execution_count": 417,
   "metadata": {
    "scrolled": true
   },
   "outputs": [
    {
     "name": "stdout",
     "output_type": "stream",
     "text": [
      "[('one', 1), ('two', 2), ('three', 3), ('four', 4), ('five', 5)]\n",
      "[('one', 1), ('two', 2), ('three', 3), ('four', 4), ('five', 5)]\n"
     ]
    }
   ],
   "source": [
    "def return_values(list) :\n",
    "    return list[1]\n",
    "d = {'one':1, 'two':2, 'three':3, 'four':4, 'five':5}\n",
    "l = []\n",
    "\n",
    "for k in d.items() :\n",
    "    l.append(k)\n",
    "print(l)\n",
    "l.sort(key = return_values)\n",
    "print(l)"
   ]
  },
  {
   "cell_type": "markdown",
   "metadata": {},
   "source": [
    "사전d를 리스트화시킨 결과를 l에 저장한다.  \n",
    "value로 오름차순 순서를 만들기 위해서는 리스트의 각 원소의 [1]번째 인덱스를 우선순위 key값으로 설정해야한다. key값으로는 l[1]을 반환해주는 return_values함수의 이름으로 설정해야 우선순위 key값이 제대로 설정된다.  \n",
    "결과물만 놓고보면 정말 아무것도 아닌거같은데, key의 값을 도대체 무엇으로 설정해야하는지에 대한 해결책을 떠올리기까지 걸린시간이 상당했다."
   ]
  },
  {
   "cell_type": "markdown",
   "metadata": {},
   "source": [
    "4)"
   ]
  },
  {
   "cell_type": "code",
   "execution_count": 418,
   "metadata": {
    "scrolled": true
   },
   "outputs": [
    {
     "name": "stdout",
     "output_type": "stream",
     "text": [
      "[('one', 1), ('two', 2), ('three', 3), ('four', 4), ('five', 5)]\n",
      "[('five', 5), ('four', 4), ('three', 3), ('two', 2), ('one', 1)]\n"
     ]
    }
   ],
   "source": [
    "def return_values(list) :\n",
    "    return list[1]\n",
    "d = {'one':1, 'two':2, 'three':3, 'four':4, 'five':5}\n",
    "l = []\n",
    "\n",
    "for k in d.items() :\n",
    "    l.append(k)\n",
    "print(l)\n",
    "l.sort(key = return_values, reverse = True)\n",
    "print(l)"
   ]
  },
  {
   "cell_type": "markdown",
   "metadata": {},
   "source": [
    "2번과 마찬가지로, 3번의 과정에서 reverse = True를 추가 인자로 넣어주어 내림차순으로 출력되게 한다."
   ]
  },
  {
   "cell_type": "markdown",
   "metadata": {},
   "source": [
    "## 문제8"
   ]
  },
  {
   "cell_type": "markdown",
   "metadata": {},
   "source": [
    "- [ACM-ICPC 문제 1152번]\n",
    "  - 단어의 개수"
   ]
  },
  {
   "cell_type": "code",
   "execution_count": 272,
   "metadata": {},
   "outputs": [
    {
     "name": "stdout",
     "output_type": "stream",
     "text": [
      "The Curious Case of Benjamin Button\n",
      "6\n"
     ]
    }
   ],
   "source": [
    "a=input().split()\n",
    "print(len(a))"
   ]
  },
  {
   "cell_type": "markdown",
   "metadata": {},
   "source": [
    "문자열을 입력받고 split메소드로 문자열을 공백으로 나눈 원소들을 a에 저장한 후 리스트a의 길이를 출력한다.\n",
    "\n",
    "![1](https://github.com/PYJ99/-2/blob/master/%EA%B3%BC%EC%A0%9C3.jpg?raw=true)"
   ]
  },
  {
   "cell_type": "markdown",
   "metadata": {},
   "source": [
    "입력과 동시에 split 메소드로 공백기준 단어들을 나눈 후 a에 대입한 후 a의 길이를 출력한다"
   ]
  },
  {
   "cell_type": "markdown",
   "metadata": {},
   "source": [
    "## 문제9"
   ]
  },
  {
   "cell_type": "markdown",
   "metadata": {},
   "source": [
    " - [Incremental Project] 이전 Assignment 2의 마지막 문제는 웹 URL로 지정된 웹페이지를 문자열로 가져와 모든 HTML 태그 및 CSS와 Javascript를 제외한 순수 텍스트를 얻어내고 그 안에 존재하는 단어를 추출하고 단어들의 총 개수를 출력하는 프로그램을 작성하는 것이었다. 이번에는 그 마지막 숙제를 그대로 확장하여 웹 URL로 지정된 웹페이지 내 순수 텍스트 안에 존재하는 각 단어들에 대해 다음 요구사항 대로 출력하는 프로그램을 작성하시오."
   ]
  },
  {
   "cell_type": "markdown",
   "metadata": {},
   "source": [
    "### 네이버 (naver.com)"
   ]
  },
  {
   "cell_type": "code",
   "execution_count": 427,
   "metadata": {
    "scrolled": true
   },
   "outputs": [
    {
     "name": "stdout",
     "output_type": "stream",
     "text": [
      "{'NAVER': 3, '뉴스스탠드': 2, '바로가기': 7, '주제별캐스트': 1, '타임스퀘어': 1, '쇼핑캐스트': 2, '로그인': 4, '네이버': 7, '네이버를': 1, '시작페이지로': 1, '쥬니어네이버': 1, '해피빈': 1, '검색': 2, '통합검색': 1, '블로그': 3, '카페': 2, '카페명': 1, '': 13, '카페글': 1, '지식iN': 1, '뉴스': 3, '사이트': 2, '카테고리': 1, '영화': 4, '웹문서': 1, '사전': 2, '백과사전': 1, '영어사전': 1, '영영사전': 1, '국어사전': 1, '일본어사전': 1, '한자사전': 1, '용어사전': 1, '책': 3, '음악': 1, '전문자료': 1, '쇼핑': 2, '지역': 2, '동영상': 1, '이미지': 1, '내PC': 1, '자동차': 2, '게임': 2, '건강': 2, '인물': 1, '긍정부정검색': 1, '자동완성': 18, '펼치기': 5, '한글': 1, '입력기': 1, '생각한대로': 1, '검색해': 1, '보세요': 2, 'Beta': 1, 'txt': 4, '시간대와': 1, '관심사에': 2, '맞춘': 1, '컨텍스트': 3, '도움말': 6, '보기': 21, 'ON': 1, '선택됨': 1, 'OFF': 1, '동일한': 1, '시간대연령남녀별': 1, '사용자': 1, '그룹의': 1, '맞춰': 1, '자동완성을': 1, '제공합니다': 1, '자세히': 2, 'ONOFF설정은': 1, '해당': 1, '기기브라우저에': 1, '저장됩니다': 1, '레이어': 1, '닫기': 3, '신고': 4, '검색어저장': 6, '켜기': 5, '끄기': 7, '기능을': 5, '다시': 4, '켤': 4, '때는': 4, '을': 4, '클릭하세요': 4, '현재': 1, '사용하고': 1, '계십니다': 1, '기능이': 5, '활성화되었습니다': 1, '꺼져': 3, '있습니다': 5, '최근검색어': 2, '내': 8, '검색어': 7, '등록': 3, 'date': 1, '삭제': 4, 'intxt': 1, '내역이': 1, '없습니다': 3, '저장': 2, '해제': 1, '설정된': 1, '검색어가': 1, '최근검색어에서': 1, '를': 1, '선택하여': 1, '자주': 1, '찾는': 1, '검색어를': 2, '검색어로': 1, '저장해': 1, '알림': 1, '공용': 1, 'PC에서는': 1, '개인정보': 1, '보호를': 1, '위하여': 1, '반드시': 1, '로그아웃을': 1, '해': 1, '주세요': 1, '기록': 5, '전체': 5, '완료': 1, '검색어는': 1, '최대': 2, '10': 3, '개': 1, '까지': 1, '저장할': 1, '수': 2, '추가하시려면': 1, '기존': 1, '지워주세요': 1, '제19대': 1, '대통령선거': 1, '후보에': 1, '대해': 1, '5월': 1, '9일': 1, '선거일까지': 1, '제공되지': 1, '않습니다': 1, '자세히보기': 1, '메일': 1, '지식인': 1, '네이버페이': 1, '네이버TV': 1, '증권금융': 1, '부동산': 1, '지도': 1, '뮤직': 2, '만화': 1, '웹툰': 2, '더보기': 1, '실시간': 2, '급상승': 3, '1': 2, '페이브': 2, '엔터테인먼트': 2, '2': 2, '닥터': 2, '스트레인지': 2, '3': 2, '손예림': 2, '4': 2, '더킹': 2, '5': 2, '아이유': 2, '6': 2, '하연수': 2, '7': 2, '런닝맨': 2, '8': 2, '믹스나인': 2, '9': 2, '임기영': 3, '강다니엘': 2, '11': 2, '기아타이거즈': 2, '12': 2, '미세먼지': 2, '13': 2, '수지': 2, '14': 2, '한국시리즈': 2, '15': 2, '트위치tv': 2, '16': 2, 'asl': 2, '17': 2, '이하늬': 2, '18': 2, '아이폰x': 2, '19': 2, '롤드컵': 2, '20': 2, '태풍': 2, 'DataLab': 1, '트래킹': 1, '110위': 1, '1120위': 1, '데이터랩': 20, '그래프': 20, '20171029': 1, '180500': 1, '기준': 1, '연합뉴스': 1, '사이버사': 1, '靑보고': 1, '문서': 1, '추가발견…기무사': 1, '댓글공작도': 1, '확인': 2, '한국당': 1, '국정원': 1, '국감은': 1, '참석': 1, '방침…신적폐': 1, '따질': 1, '것': 2, '美전략무기': 1, '순환배치': 1, '확대': 1, '공감…정교히': 1, '움직일듯': 1, '호투': 1, 'KIA': 2, '1패뒤': 1, '3연승…1승만': 1, '더하면': 1, 'V11': 1, '韓中': 1, '정상회담': 1, '앞두고': 1, '사드': 1, '부담': 1, '털기…관계회복': 1, '조짐': 1, '내일': 1, '아침': 1, '서울': 1, '2도로': 1, '올가을': 1, '가장': 1, '추워': 1, '은행': 1, '주택담보대출': 1, '금리': 1, '한달새': 1, '044p↑': 1, '윤송이': 1, '사장': 1, '부친살해': 1, '피의자': 1, '구속…범행동기': 1, '조사': 1, '靑': 1, '25년만에': 1, '방한': 1, '국빈': 1, '美대통령': 1, '맞이에': 1, '분주': 1, '지원금': 1, '상한제': 1, '폐지': 1, '한달…소비자': 1, '혜택은': 1, '없었다': 1, '네이버뉴스': 1, '연예': 1, '스포츠': 4, '경제': 1, '랭킹': 1, '언론사': 5, 'MY': 1, '이미지형': 1, '리스트형': 1, '설정': 3, '이전': 2, '페이지': 2, '다음': 2, '목록': 3, '구독': 19, '해지': 18, '기사보기': 18, '종합경제': 1, '방송통신': 1, 'IT': 1, '영자지': 1, '스포츠연예': 1, '매거진전문지': 1, '설정한': 2, '언론사가': 1, '설정에서': 1, 'MY언론사를': 1, '추가하면': 1, '언론사의': 1, '기사들을': 1, '홈에서': 1, '바로': 1, '보실': 1, '추가': 1, 'Sign': 3, 'in': 2, 'Connect': 1, 'with': 1, 'people': 1, 'up': 1, 'Forgot': 1, 'Username': 1, 'or': 1, 'Password': 1, '1029': 1, '일': 1, '앞의': 1, '목록으로': 2, '이동': 2, '뒤의': 1, '야구': 1, '39임기영': 1, '호투middot버나디나': 1, '2타점39': 1, '또': 1, '두산': 1, '격파hellipV11': 1, '1승': 1, '축구': 1, '39이동국': 1, '200호골39': 1, '전북': 1, '제주': 1, '30': 1, '꺾고': 1, '우승': 2, '확정hellip통산': 1, '5번째': 1, '골프': 1, '박성현': 1, '사임다비': 1, '말레이시아': 1, '공동': 1, '5위hellip크리스티': 1, '커': 1, '통산': 1, '20승': 1, '주제형': 1, '캐스트': 1, '관심': 4, '주제': 8, '선택': 2, '리빙': 1, '푸드': 1, '패션뷰티': 1, '맘·키즈': 2, 'TV연예': 1, '책문화': 1, '함께N': 1, '여행': 1, '디자인': 1, '경제M': 1, 'JOB': 1, '과학': 1, '중국': 1, '비즈니스': 3, 'FARM': 1, '스쿨잼': 1, '공연전시': 1, '법률': 1, '동물공감': 1, '연애·결혼': 1, '테크': 1, '열기': 1, '관심주제': 1, '모바일': 2, '가져오기': 2, '후': 2, '사용': 2, '가능합니다': 2, '취소': 1, '초기화': 1, '전체선택': 1, '임신': 1, '10개월': 1, '연령별': 5, '발달': 1, '질병': 1, '백과': 1, '육아': 5, '포스트': 4, '맘키': 1, '키즈': 1, '윈도': 1, '한컷공감': 1, '숨바꼭질｜키큰나무': 1, '베스트베이비': 1, '추천': 3, '스타일러': 1, '주부생활': 1, '미즈코치': 1, '진짜': 1, '바라는': 1, '아이에게': 1, '특별한': 1, '주말이란': 1, '감정과': 2, '관계': 2, '밀키베이비': 1, '아이가': 2, '아플': 1, '때': 1, '워킹맘': 1, '죄인처럼': 1, '느껴지던': 1, '어느': 1, '날': 1, '아이시레인': 1, '오수향': 1, '대화육아': 1, '리더십': 1, '강한': 1, '아이로': 2, '키우는': 2, '대화법': 1, '부모': 2, '교육': 2, 'EBS육아학교': 1, '김영훈': 1, '두뇌교육': 1, '산후': 1, '우울증': 1, '어떻게': 1, '극복해야': 1, '할까': 1, '베이비트리': 1, '빨리': 2, '커서': 1, '서운한': 1, '엄마': 1, '크면': 1, '좋겠다는': 1, '아빠': 1, '마음을': 2, '공유하다': 2, '두부만두맘': 1, '할수록': 1, '더': 1, '어렵네': 1, '육아에도': 1, '답이': 1, '있었으면': 1, '좋겠다': 1, '겸둥이시키': 1, '너의': 1, '200일': 1, '요즘': 1, '배운': 1, '개인기': 1, '하나': 1, '추가요': 1, '성장': 2, 'DDoungnSSong': 1, '50일': 1, '인생': 1, '사진': 1, '통통한': 1, '볼도': 1, '소시지': 1, '팔도': 1, '매력': 1, '만점': 1, '예꼼': 1, '1세': 1, 'QA': 2, '소재부터': 1, '소독까지': 1, '아기': 1, '젖병': 1, '기준과': 1, '관리법': 1, '정보': 4, '앙쥬': 2, '2세': 1, '섬유질': 1, '섭취': 1, '장': 1, '튼튼한': 1, '식생활': 1, '수칙': 1, '3세': 1, '육아팁': 2, '미리': 1, '알아두세요': 1, '아이': 1, '스트레스': 1, '현명하게': 1, '대처하기': 1, '베스트베': 2, '6세': 1, '읽은': 1, '잘': 1, '기록하고': 1, '제대로': 1, '활용하는': 1, '방법': 1, 'httpscastboxshoppingnavercomshopboxmainnhnsvglesstrue': 1, '프로젝트': 3, '꽃': 3, 'creatorday4': 1, '노들섬의': 1, '밤을': 1, '빛낸': 1, '크로스오버': 1, '스테이지': 1, '중소벤처일자리박람회': 1, '우수기업': 1, '현장면접': 1, '기회': 1, '면접': 1, '취업컨설팅': 1, '이벤트': 1, '코엑스에서': 1, '취업득템': 1, '공지사항': 1, '주이스트소프트': 1, '계정': 1, '침해': 1, '대상자에': 1, '대한': 1, '안내': 2, '서비스': 1, '전체보기': 1, '인공지능': 1, '스피커': 2, '프렌즈': 1, '클로바': 1, 'AI': 1, 'Creators': 1, '크리에이터': 1, '스몰비즈니스': 1, 'Partners': 1, '파트너': 1, '·': 1, '광고': 1, '스토어': 1, '개설': 1, '지역업체': 1, 'Developers': 1, '개발자센터': 1, '오픈': 1, 'API': 1, '오픈소스': 1, 'D2': 1, '랩스': 1, '정책': 2, '및': 1, '약관': 1, '회사소개': 1, '인재채용': 1, '제휴제안': 1, '이용약관': 1, '개인정보처리방침': 1, '청소년보호정책': 1, '고객센터': 1, 'ⓒ': 1, 'Corp': 1}\n",
      "3\n"
     ]
    }
   ],
   "source": [
    "from urllib import request \n",
    "import string\n",
    " \n",
    "url = 'http://www.naver.com'\n",
    "f = request.urlopen(url)\n",
    "source_bytes = f.read()\n",
    "source = source_bytes.decode('utf-8')\n",
    "a = source\n",
    "cnt=0\n",
    "cnt\n",
    "list = []\n",
    "\n",
    "\n",
    "while(cnt != len(a)) :\n",
    "    \n",
    "        if a[cnt] == '<' :\n",
    "            if(a[cnt+1] == '!' and a[cnt+2]=='-') : #주석 삭제\n",
    "                cnt+=3\n",
    "                while True:\n",
    "                    cnt+=1\n",
    "                    if(a[cnt] == '-' and a[cnt+1] == '>'):\n",
    "                        cnt+=1\n",
    "                        break\n",
    "            elif(a[cnt+1:cnt+7] == \"script\" ) : #스크립트 삭제\n",
    "                cnt+=7\n",
    "                while True:\n",
    "                    cnt+=1\n",
    "                    if(a[cnt:cnt+8] == \"/script>\"):\n",
    "                        cnt+=8\n",
    "                        break\n",
    "                        \n",
    "            elif(a[cnt+1:cnt+6]) == \"style\" : ##css 삭제\n",
    "                cnt+=6\n",
    "                while True:\n",
    "                    cnt+=1\n",
    "                    if(a[cnt:cnt+6]) == '/style':\n",
    "                        cnt+=6\n",
    "                        break\n",
    "                    \n",
    "            else:\n",
    "                while(a[cnt] != '>'): #HTML 삭제\n",
    "                    cnt+=1\n",
    "                    \n",
    "        \n",
    "        elif  a[cnt] != '<' and a[cnt] != '>' and a[cnt]!='\\t' and a[cnt]!=' ' and a[cnt] !='\\n' :\n",
    "            start = cnt\n",
    "            while a[cnt] != '<' and a[cnt] != '>' and a[cnt]!='\\t' and a[cnt] !=' ' and a[cnt] !='\\n' :\n",
    "                    cnt+=1\n",
    "                    if(cnt==len(a)):\n",
    "                            break\n",
    "                        \n",
    "            end = cnt\n",
    "            list.append(a[start:end])\n",
    "            \n",
    "        else :\n",
    "            cnt +=1\n",
    "c=[]\n",
    "for x in string.punctuation: #구두문자 리스트화\n",
    "    c.append(x)\n",
    "\n",
    "for x in range(len(list)) : #구두문자가 list의 원소안에 포함되어있을 경우\n",
    "    for k in c:\n",
    "        if k in list[x]:\n",
    "            list[x] = list[x].replace(k,'') #구두문자를 없앤다\n",
    "list.remove('') #구두문자만 있었을 경우 공백만 남으므로 공백 없애줌\n",
    "            \n",
    "dic = dict()\n",
    "for x in list:\n",
    "    if x not in dic.keys(): #list의 원소가 사전에 없으면 추가\n",
    "        dic[x] = 1\n",
    "    elif x in dic.keys(): #이미 있는 원소면 1추가\n",
    "        dic[x] += 1\n",
    "\n",
    "print(dic)\n",
    "print(dic['NAVER'])\n"
   ]
  },
  {
   "cell_type": "markdown",
   "metadata": {},
   "source": [
    "### 다음 (daum.net)"
   ]
  },
  {
   "cell_type": "code",
   "execution_count": 426,
   "metadata": {
    "scrolled": true
   },
   "outputs": [
    {
     "name": "stdout",
     "output_type": "stream",
     "text": [
      "['Daum', '주요', '서비스', '바로가기', '오늘의', '정보', '바로가기', '미디어', '바로가기', '실시간', '이슈', '바로가기', '멀티미디어', '바로가기', '블로그', '정보', '바로가기', '유익한', '정보', '바로가기', '쇼핑', '바로가기', '오늘의', '포토&amp;영상', '바로가기', '웹', '접근성', '안내', '자동실행', '광고', '설정', '검색', '통합', '검색', '검색', '인기', '검색어', '폴뉴먼', '시계', '이과인', '멀티골', '홍수아', '오리목', '안소현', '동메달', '지방자치의', '날', '소말리아', '테러', '페더러', '결승', '이하늬', '서장훈', '오상진', '집들이', '교토', '윤동주', '기념비', '&lt;이전', '&gt;다음', '다음을', '시작페이지로', '주요', '서비스', '카페', '메일', '뉴스', '지도', '증권', '쇼핑', '카카오TV', '웹툰', '블로그', '브런치', '사전', '게임', '별플레이', '같이가치', '주요서비스', '더보기', '⋁', '전체', '서비스', '커뮤니케이션', '메일', '카페', '블로그', '티스토리', '브런치', '아지트', '카카오스토리', '미디어', '뉴스', '스포츠', '연예', '아고라', '쇼핑/생활', '쇼핑하우', '금융', '부동산', '자동차', '미즈넷', '요리', '문화/엔터', '영화', '웹툰', '책', '카카오TV', '별플레이', '게임', '사전/지식', '어학사전', '단어장', '백과사전', '팁', '나눔/펀딩', '같이가치', '스토리펀딩', '지도', '길찾기', '로드뷰', '버스정보', '지하철노선도', '카카오', '소식', '카카오', '블로그', '다음', '검색', '블로그', '서비스', '전체보기', '더보기', '메뉴', '닫기', '오늘의', '정보', '10.', '29.', '(일)', '날씨', '서울시', '맑음', '영상', '15도', '15', '°C', '날씨', '경기도', '맑음', '영상', '16도', '16', '°C', '날씨', '인천시', '맑음', '영상', '16도', '16', '°C', '날씨', '대구시', '맑음', '영상', '21도', '21', '°C', '날씨', '대전시', '흐림', '영상', '17도', '17', '°C', '날씨', '광주시', '흐림', '영상', '19도', '19', '°C', '날씨', '부산시', '맑음', '영상', '22도', '22', '°C', '날씨', '울산시', '맑음', '영상', '22도', '22', '°C', '날씨', '경상북도', '구름많음', '영상', '18도', '18', '°C', '날씨', '강원도', '구름많음', '영상', '12도', '12', '°C', '날씨', '강원도', '맑음', '영상', '20도', '20', '°C', '날씨', '인천시', '맑음', '영상', '8도', '8', '°C', '날씨', '충청북도', '흐림', '영상', '15도', '15', '°C', '날씨', '전라북도', '흐림', '영상', '17도', '17', '°C', '날씨', '전라남도', '흐림', '영상', '16도', '16', '°C', '날씨', '전라남도', '맑음', '영상', '21도', '21', '°C', '날씨', '제주자치도', '구름많음', '영상', '19도', '19', '°C', '날씨', '경상북도', '맑음', '영상', '18도', '18', '°C', '날씨', '경상남도', '맑음', '영상', '22도', '22', '°C', '날찌정보', '&#8897;', '펼치기', '현재', '지역', '날씨', '어제보다', '°C', '날씨', '상세보기', '미세먼지', '통합대기', 'X', '날씨정보', '닫기', '//', '미디어', '뉴스', '선택됨', '뉴스', '1탭', '70억', '들여', '한옥정문', '짓겠다는', '국립대를', '향한', '엇...', '이하늬,', '서장훈', '노출에', '\"이미', '다', '깐(?)', '사이...', '일반뉴스', '&quot;대출', '강화', '전', '분양받자&quot;..모델하우스', '&#39;북새통&#39;', '내년', '서울시장&middot;구청장', '선거', '&#39;변화&#39;냐', '&#39;수성&#39;이냐?', '시진핑', '계열', '리시,', '광둥성', '당서기로..후속인사도', '&#39;시자쥔&#39;', '약진', '바른정당,', '분당으로', '가나..오늘', '김무성', '등', '&#39;통합파&#39;', '모임', '중국에서', '본', '최근', '한&middot;중', '관계', '&quot;호전되긴', '했는데..&quot;', '찬바람', '불며', '기온', '뚝..내일', '올가을', '가장', '춥다', '&#39;장희빈&#39;', '등', '시대극의', '대부..작가', '임충', '별세', '&#39;대출', '강화에', '금리', '인상까지&#39;..수도권', '아파트', '시장', '싸늘', '&quot;도박중독자', '10명', '중', '1명', '자해&middot;자살시도', '경험', '있다&quot;', '&quot;또', '태풍&quot;..일본', '열도', '잇따른', '태풍', '강타에', '초비상', \"'황금빛'\", '전노민,', '신혜선', '정체', '폭로', '편지', '받아', '미안함이', '지배하는', \"'양현종\", \"시리즈'\", 'KS', '4차전,', '관중석', '살피는', '경찰특공대', '뉴스홈', '이슈', '연재', '랭킹', 'TV', '포토', '미디어랩', '#2017', '국정감사', '연예', '스포츠', '영화', '자동차', '부동산', '현재', '탭', '1', '/', '전체', '탭', '8', '&lt;', '이전', '탭', '&gt;', '다음', '탭', '실시간', '이슈', '검색어', '1위', '양지원', '1위}', '양지원', '2위', '이하늬', '2위}', '이하늬', '3위', '스피카', '3위}', '스피카', '4위', '조현아', '4위}', '조현아', '5위', '에네스', '카야', '5위}', '에네스', '카야', '6위', '로또778회', '당첨번호', '6위}', '로또778회', '당첨번호', '7위', '윌리엄스', '증후군', '7위}', '윌리엄스', '증후군', '8위', '춘천마라톤', '8위}', '춘천마라톤', '9위', '구리엘', '9위}', '구리엘', '10위', '박준영', '10위}', '박준영', '오늘의', '정보', '현재', '증시', '휘발유', '1,507.43', '&#9652;', '전일대비', '상승', '0.25', '현재', '증시', '달러환율', '1,131.00', '&#9652;', '전일대비', '상승', '5.50', '오늘의', '정보', '관련', '링크모음', '환율', '운세', 'TV', '실시간', '1위', '양지원', '2위', '이하늬', '3위', '스피카', '4위', '조현아', '5위', '에네스', '카야', '6위', '로또778회', '당첨번호', '7위', '윌리엄스', '증후군', '8위', '춘천마라톤', '9위', '구리엘', '10위', '박준영', '실시간', '이슈', '검색어', '1위', '양지원', '&uarr;', '상승', '383', '1위', '양지원', '&uarr;', '상승', '383', '2위', '이하늬', '&uarr;', '상승', '168', '2위', '이하늬', '&uarr;', '상승', '168', '3위', '스피카', '&uarr;', '상승', '148', '3위', '스피카', '&uarr;', '상승', '148', '4위', '조현아', '&uarr;', '상승', '129', '4위', '조현아', '&uarr;', '상승', '129', '5위', '에네스', '카야', '&uarr;', '상승', '77', '5위', '에네스', '카야', '&uarr;', '상승', '77', '6위', '로또778회', '당첨번호', '&uarr;', '상승', '69', '6위', '로또778회', '당첨번호', '&uarr;', '상승', '69', '7위', '윌리엄스', '증후군', '신규진입', '7위', '윌리엄스', '증후군', '신규진입', '8위', '춘천마라톤', '&uarr;', '상승', '55', '8위', '춘천마라톤', '&uarr;', '상승', '55', '9위', '구리엘', '&uarr;', '상승', '50', '9위', '구리엘', '&uarr;', '상승', '50', '10위', '박준영', '&uarr;', '상승', '49', '10위', '박준영', '&uarr;', '상승', '49', '2017.10.29', '12:20기준', 'X닫기', '멀티미디어', '카카오TV', 'TV하이라이트', '이하늬', '매력', '아직', '아이', '봤니?', '스포츠', '명장면', '만드는', '재미가', '쏠쏠해', 'TV하이라이트', '마스터키', '동영상', '하니,', '이엘리야', '제압하는', '피지컬', '마스터', '고백부부', '동영상', '여대생', '메이퀸도', '소화하는', '장나라,', '손호준이', '반할만', '살짝', '미쳐도', '좋아', '동영상', '대륙', '여신', '홍수아,', '원어민', '중국어', '발음', '더', '패키지', '동영상', '(후방주의)이연희♡정용화,', '마음', '확인한', '진한', '키스!', '이하늬', '매력', '아직', '아이', '봤니?', '동영상', '드레스', '여신', '이하늬의', '피팅', '모습', '대공개', '동영상', '어머니와', '있을', '땐', '영락없는', '현실', '모녀', '동영상', '혼혈', '메이크업이', '잘', '어울리는', '그녀!', '동영상', '이하늬,', '피나는', '노력으로', '70kg에서', '51kg로', '스포츠', '명장면', '동영상', '우드의', '노히트를', '깨버린', '솔로', '홈런', '동영상', '&#39;단', '세번의', '볼', '터치&#39;로', '토트넘', '격침', '동영상', '남의철,', '엄청난', '파운딩으로', '상대', '제압', '동영상', '日', '패배후', '경기장', '못', '떠난', '북한', '대표팀', '만드는', '재미가', '쏠쏠해', '동영상', '깜짝', '놀랄', '정도로', '정교한', '디테일', '동영상', '먹을', '수', '있는', 'BB크림', '알고', '봤더니', '동영상', '페트병으로', '만들었다는데,', '대박', '동영상', '프로펠러', '비행기', '장난감', '만들기', '현재', '탭', '1', '/', '전체', '탭', '4', '&lt;', '이전', '탭', '&gt;', '다음', '탭', '블로그', '정보', '카페', '미즈넷', '카카오스토리', '티스토리', '맨몸으로', '할', '수', '있는', '전신운동', '세', '가지', 'by', '에이티포', '끝없이', '이어지는', '함안뚝방의', '가을', '꽃길', 'by', '『방쌤』', '컵라면', '용기로', '데스크', '수납', '꽂이', '만들기', 'by', '삼성물산건설부문', '아이', '창의력', '길러주는', '포도알', '도형놀이', 'by', '은벼리파파', '브런치', '1boon', '스토리펀딩', '현재', '탭', '4', '/', '전체', '탭', '7', '&lt;', '이전', '탭', '&gt;', '다음', '탭', '유익한', '정보', '홈&amp;쿠킹', '머니', '동물', '부러우면', '지는', '거다,', '스타', '반려견', '9', '동물과', '스타', '밥이', '걱정되는', '아기', '고양이의', '고민', '오구오구', '귀요미', '집도', '절도', '없이', '이태원', '배회하던', '럭키', '강아지', '이야기', '난', '뼈대있는', '냥이다옹!', '오구오구', '귀요미', '귀여운', '아기', '돼지들과', '힐링', '타임', '이색', '동물', '친구들', '내가', '세계에서', '&#39;최고&#39;야', '!', '&quot;기네스', '개', '세계기록&quot;', '동물', '이슈잇슈', '감초역할은', '내게', '맡겨라!&nbsp;', '댕댕이의', '명품연기!', '강아지', '이야기', '저도', '고양이과', '입니다만', '이색', '동물', '친구들', '추천채널', '이색', '동물', '친구들', '멍멍이', '가이드북', '집사', '가이드북', '동물', '이슈잇슈', '고양이', '이야기', '공감', '동물툰', '베스트', '1', '스핑크스', '고양이', '가슴에', '문신', '새긴', '모델', '2', '보고도', '믿기', '힘든', '지구상의', '희귀동물들', '3', '아기가', '봐도', '귀여운', '강아지', '4', '강형욱', '훈련사에게', '감탄한', '세나개', '제작진과', '견주', '5', '뒤에서', '몰래', '고양이에', '다가가는', '여우,', '그리고..', '스타일', 'Men', '여행맛집', '직장IN', '뮤직', '웹툰', '게임', '같이가치', '현재', '탭', '3', '/', '전체', '탭', '11', '&lt;', '이전', '탭', '&gt;', '다음', '탭', '쇼핑', '오늘의', '포토', '이전', '포토', '보기', '추천갤러리', '바로가기', '다음', '포토', '보기', '추천갤러리', '바로가기', '이전', '이미지', '목록', '보기', '다음', '이미지', '목록', '보기', '공지사항', '카카오', '위치기반서비스', '이용약관', '변경', '안내', '검색', '통합', '검색', '검색', '서비스', '전체보기', '다음', '소개', '및', '약관', '회사소개', '·', '광고안내', '·', '검색등록', '·', '제휴문의', '·', '인재채용', '·', '서비스약관', '·', '청소년보호정책', '·', '개인정보처리방침', '·', '웹접근성안내', '·', '고객센터', 'Copyright', '©', 'Kakao', 'Corp.', 'All', 'rights', 'reserved.']\n"
     ]
    },
    {
     "ename": "ValueError",
     "evalue": "list.remove(x): x not in list",
     "output_type": "error",
     "traceback": [
      "\u001b[1;31m---------------------------------------------------------------------------\u001b[0m",
      "\u001b[1;31mValueError\u001b[0m                                Traceback (most recent call last)",
      "\u001b[1;32m<ipython-input-426-cce03b610c9d>\u001b[0m in \u001b[0;36m<module>\u001b[1;34m()\u001b[0m\n\u001b[0;32m     63\u001b[0m         \u001b[0mx\u001b[0m \u001b[1;33m=\u001b[0m \u001b[0mx\u001b[0m\u001b[1;33m.\u001b[0m\u001b[0mreplace\u001b[0m\u001b[1;33m(\u001b[0m\u001b[0mk\u001b[0m\u001b[1;33m,\u001b[0m\u001b[1;34m''\u001b[0m\u001b[1;33m)\u001b[0m\u001b[1;33m\u001b[0m\u001b[0m\n\u001b[0;32m     64\u001b[0m \u001b[0mprint\u001b[0m\u001b[1;33m(\u001b[0m\u001b[0mlist\u001b[0m\u001b[1;33m)\u001b[0m\u001b[1;33m\u001b[0m\u001b[0m\n\u001b[1;32m---> 65\u001b[1;33m \u001b[0mlist\u001b[0m\u001b[1;33m.\u001b[0m\u001b[0mremove\u001b[0m\u001b[1;33m(\u001b[0m\u001b[1;34m''\u001b[0m\u001b[1;33m)\u001b[0m \u001b[1;31m#구두문자만 있었을 경우 공백만 남으므로 공백 없애줌\u001b[0m\u001b[1;33m\u001b[0m\u001b[0m\n\u001b[0m\u001b[0;32m     66\u001b[0m \u001b[1;33m\u001b[0m\u001b[0m\n\u001b[0;32m     67\u001b[0m \u001b[0mdic\u001b[0m \u001b[1;33m=\u001b[0m \u001b[0mdict\u001b[0m\u001b[1;33m(\u001b[0m\u001b[1;33m)\u001b[0m\u001b[1;33m\u001b[0m\u001b[0m\n",
      "\u001b[1;31mValueError\u001b[0m: list.remove(x): x not in list"
     ]
    }
   ],
   "source": [
    "from urllib import request \n",
    "import string\n",
    "\n",
    "url = 'http://www.daum.net'\n",
    "f = request.urlopen(url)\n",
    "source_bytes = f.read()\n",
    "source = source_bytes.decode('utf-8')\n",
    "a = source\n",
    "cnt=0\n",
    "cnt\n",
    "list = []\n",
    "\n",
    "\n",
    "while(cnt != len(a)) :\n",
    "    \n",
    "        if a[cnt] == '<' :\n",
    "            if(a[cnt+1] == '!' and a[cnt+2]=='-') : #주석 삭제\n",
    "                cnt+=3\n",
    "                while True:\n",
    "                    cnt+=1\n",
    "                    if(a[cnt] == '-' and a[cnt+1] == '>'):\n",
    "                        cnt+=1\n",
    "                        break\n",
    "            elif(a[cnt+1:cnt+8] == \"script>\" ) : #스크립트 삭제\n",
    "                cnt+=8\n",
    "                while True:\n",
    "                    cnt+=1\n",
    "                    if(a[cnt:cnt+8] == \"/script>\"):\n",
    "                        cnt+=8\n",
    "                        break\n",
    "            elif(a[cnt+1:cnt+6]) == \"style\" : ##css 삭제\n",
    "                cnt+=6\n",
    "                while True:\n",
    "                    cnt+=1\n",
    "                    if(a[cnt:cnt+5]) == '//]]>':\n",
    "                        cnt+=5\n",
    "                        break\n",
    "                    \n",
    "            else:\n",
    "                while(a[cnt] != '>'): #HTML 삭제\n",
    "                    cnt+=1\n",
    "                    \n",
    "        \n",
    "        elif  a[cnt] != '<' and a[cnt] != '>' and a[cnt]!='\\t' and a[cnt]!=' ' and a[cnt] !='\\n' :\n",
    "            start = cnt\n",
    "            while a[cnt] != '<' and a[cnt] != '>' and a[cnt]!='\\t' and a[cnt] !=' ' and a[cnt] !='\\n' :\n",
    "                    cnt+=1\n",
    "                    if(cnt==len(a)):\n",
    "                            break\n",
    "                        \n",
    "            end = cnt\n",
    "            list.append(a[start:end])\n",
    "            \n",
    "        else :\n",
    "            cnt +=1\n",
    "c=[]\n",
    "for x in string.punctuation: #구두문자 리스트화\n",
    "    c.append(x)\n",
    "\n",
    "\n",
    "for x in range(len(list)) : #구두문자가 list의 원소안에 포함되어있을 경우\n",
    "    for k in c:\n",
    "        if k in list[x]:\n",
    "            list[x] = list[x].replace(k,'') #구두문자를 없앤다\n",
    "            \n",
    "print(list)\n",
    "list.remove('') #구두문자만 있었을 경우 공백만 남으므로 공백 없애줌\n",
    "            \n",
    "dic = dict()\n",
    "for x in list:\n",
    "    if x not in dic.keys(): #list의 원소가 사전에 없으면 추가\n",
    "        dic[x] = 1\n",
    "    elif x in dic.keys(): #이미 있는 원소면 1추가\n",
    "        dic[x] += 1\n",
    "\n",
    "print(dic)"
   ]
  },
  {
   "cell_type": "markdown",
   "metadata": {},
   "source": [
    "### 뉴욕타임즈 (nytimes.com)"
   ]
  },
  {
   "cell_type": "code",
   "execution_count": 433,
   "metadata": {},
   "outputs": [
    {
     "name": "stdout",
     "output_type": "stream",
     "text": [
      "{'The': 46, 'New': 18, 'York': 9, 'Times': 11, '': 14, 'Breaking': 1, 'News': 6, 'World': 7, 'Multimedia': 2, 'NYTimescom': 2, 'no': 1, 'longer': 1, 'supports': 1, 'Internet': 3, 'Explorer': 1, '9': 1, 'or': 2, 'earlier': 1, 'Please': 1, 'upgrade': 1, 'your': 2, 'browser': 1, 'LEARN': 1, 'MORE': 1, '»': 4, 'Sections': 4, 'Search': 5, 'Skip': 2, 'to': 58, 'content': 1, 'navigation': 1, 'Subscribe': 5, 'Now': 6, 'Log': 1, 'In': 4, '0': 1, 'Settings': 1, 'English': 1, '中文': 1, 'Chinese': 1, 'Español': 1, 'Sunday': 5, 'October': 1, '29': 1, '2017': 3, 'Today’s': 1, 'Paper': 2, 'Video': 5, 'Quick': 3, 'Site': 10, 'Navigation': 7, 'US': 3, 'Politics': 4, 'NY': 2, 'Business': 4, 'Opinion': 10, 'Tech': 3, 'Science': 3, 'Health': 4, 'Sports': 4, 'Arts': 7, 'Style': 6, 'Food': 7, 'Travel': 4, 'Magazine': 7, 'T': 4, 'Real': 5, 'Estate': 4, 'all': 4, 'Close': 1, 'search': 1, 'Clear': 1, 'this': 2, 'text': 1, 'input': 1, 'Go': 4, 'Mobile': 3, '\\r': 219, 'Top': 1, 'Limit': 3, 'on': 11, '401k': 2, 'Savings': 2, 'It’s': 4, 'About': 4, 'Paying': 2, 'for': 28, 'Tax': 3, 'Cuts': 3, 'By': 21, 'PATRICIA': 1, 'COHEN': 1, 'A': 18, 'proposal': 1, 'slash': 1, 'the': 68, 'amount': 1, 'of': 50, 'money': 1, 'workers': 1, 'can': 2, 'put': 1, 'in': 44, 'retirement': 2, 'accounts': 1, 'is': 6, 'at': 12, 'center': 2, 'a': 56, 'battle': 1, 'around': 1, 'tax': 2, 'overhaul': 1, 'promised': 1, 'by': 11, 'President': 1, 'Trump': 8, 'and': 53, 'Republicans': 1, '“This': 1, 'not': 3, 'security': 1, 'story”': 1, 'expert': 1, 'said': 2, 'about': 5, 'finding': 1, 'revenue': 1, 'pay': 2, 'reductions': 1, 'business': 2, 'taxes': 1, 'sooner': 1, 'rather': 1, 'than': 3, 'later': 1, 'LittleKnown': 1, 'Aide': 1, 'Who': 6, 'Is': 16, 'Shaping': 1, 'Allies': 1, 'Weigh': 1, 'Nuclear': 2, 'Options': 1, 'as': 6, 'North': 3, 'Korea': 3, 'Threat': 1, 'Looms': 1, 'DAVID': 1, 'E': 1, 'SANGER': 1, 'CHOE': 1, 'SANGHUN': 1, 'MOTOKO': 1, 'RICH': 1, 'As': 1, 'races': 1, 'build': 1, 'weapon': 1, 'that': 12, 'could': 1, 'threaten': 1, 'American': 3, 'cities': 1, 'Japan': 1, 'South': 3, 'are': 6, 'debating': 1, 'whether': 2, 'they': 3, 'need': 2, 'their': 3, 'own': 2, 'nuclear': 1, 'arsenals': 1, 'nbspComments': 8, 'Will': 5, 'Congress': 1, 'Ever': 2, 'ForeverExpanding': 1, '911': 1, 'War': 7, 'McGowan': 3, 'Refusing': 2, 'Weinstein’s': 4, 'Hush': 2, 'Money': 5, 'Speaks': 1, 'Out': 3, 'SUSAN': 1, 'DOMINUS': 1, 'Rose': 2, 'who': 1, 'has': 5, 'Harvey': 2, 'Weinstein': 2, 'sexually': 1, 'assaulted': 1, 'her': 3, 'talks': 1, 'becoming': 1, 'an': 5, 'advocate': 1, 'mistreated': 1, 'women': 2, 'After': 7, 'Reports': 1, 'Women': 1, 'Share': 1, 'Stories': 2, 'Take': 1, 'Action': 1, '‘Bedlam’': 1, 'Arizona': 1, 'Jeff': 2, 'Flake': 2, 'Departs': 2, 'Senate': 2, 'Race': 5, 'SHERYL': 1, 'GAY': 1, 'STOLBERG': 1, '912': 1, 'AM': 3, 'ET': 3, 'Republican': 1, 'senator’s': 1, 'surprise': 1, 'announcement': 1, 'run': 2, 'reelection': 1, 'thrown': 1, 'open': 1, 'race': 1, 'succeed': 1, 'him': 1, 'igniting': 1, 'divisions': 1, 'both': 1, 'major': 2, 'parties': 1, 'Virginia': 1, 'Governor’s': 1, 'May': 2, 'Hinge': 1, 'Immigrant': 1, 'Turnout': 1, 'MICHAEL': 1, 'TACKETT': 1, 'Growing': 1, 'numbers': 2, 'Asians': 1, 'Latinos': 1, 'Arabs': 1, 'reason': 1, 'Virginia’s': 1, 'steady': 1, 'march': 1, 'toward': 1, 'Democratic': 1, 'Party': 5, 'question': 1, 'will': 1, 'vote': 1, '40Foot': 2, 'Cross': 2, 'Maryland': 1, 'Has': 2, 'Honored': 2, 'Dead': 3, '90': 3, 'Years': 2, 'It': 4, 'Unlawful': 2, 'Roadshow': 2, 'Hate': 4, 'Travelers': 2, 'Fuel': 1, 'Supremacist': 2, 'Rallies': 2, 'ALAN': 1, 'BLINDER': 1, 'At': 2, 'two': 4, 'demonstrations': 1, 'Tennessee': 1, 'Saturday': 1, 'many': 1, 'white': 1, 'nationalist': 1, 'events': 1, 'local': 1, 'police': 1, 'facing': 1, 'unfamiliar': 1, 'crowds': 1, 'coming': 1, 'mostly': 1, 'from': 4, 'out': 1, 'town': 2, 'Daily': 2, '360': 3, '105': 1, 'Rebuilding': 1, 'Dam': 1, 'Puerto': 1, 'Rico': 1, 'Alvin': 1, 'BaezReuters': 1, 'Technology': 2, 'Samsung': 1, 'More': 6, 'Iceland’s': 1, 'Governing': 1, 'Retains': 1, 'Most': 3, 'Seats': 2, 'Truck': 1, 'Bomb': 1, 'Gunmen': 1, 'Kill': 2, 'Least': 1, '23': 1, 'Mogadishu': 1, 'Tensions': 1, 'Rise': 1, 'Kenya': 1, 'Presidential': 1, 'Vote': 1, 'Women’s': 1, 'Convention': 1, 'Test': 1, 'Momentum': 1, 'Focus': 1, 'Catalonia’s': 2, 'Ousted': 2, 'Leader': 3, 'Calls': 3, 'Peaceful': 2, 'Defiance': 2, 'Got': 1, 'confidential': 1, 'news': 7, 'tip': 1, 'offers': 1, 'several': 1, 'ways': 1, 'get': 4, 'touch': 1, 'with': 4, 'provide': 1, 'materials': 1, 'our': 1, 'journalists': 1, 'Learn': 1, 'more': 4, 'Lost': 6, 'Children': 7, 'Tuam': 5, 'Ireland': 1, 'wanted': 1, 'forget': 1, 'For': 3, 'decades': 1, 'bones': 1, 'lay': 1, 'near': 1, 'home': 3, 'unmarried': 1, 'mothers': 1, 'babies': 1, 'until': 1, 'one': 7, 'woman': 1, 'made': 2, 'it': 5, 'mission': 1, 'find': 2, 'truth': 1, 'DAN': 1, 'BARRY': 1, 'Watch': 1, '796': 1, 'Irish': 1, 'Vanished': 1, 'Where': 2, 'Are': 6, 'They': 2, 'Your': 6, 'Weekend': 1, 'Briefing': 5, 'MAYA': 1, 'SALAM': 1, 'LOUIS': 1, 'LUCERO': 1, 'II': 1, 'LANCE': 1, 'BOOTH': 1, '849': 1, 'Here’s': 4, 'what': 1, 'you': 3, 'know': 1, 'week’s': 1, 'top': 1, 'stories': 6, 'Listen': 1, '‘The': 3, 'Washington’\\r': 1, 'Ty': 1, 'Cobb': 1, 'White': 2, 'House': 2, 'lawyer': 1, 'speaks': 1, 'us': 2, 'special': 2, 'counsel’s': 1, 'investigation': 1, 'legal': 1, 'strategy': 1, 'trademark': 1, 'handlebar': 1, 'mustache': 1, 'Audio': 1, 'Follow': 1, 'Washington': 1, 'Apple': 1, 'Podcasts': 1, 'Radio': 1, 'Public': 2, 'Stitcher': 1, 'Smarter': 1, 'Living': 3, 'Fix': 1, 'Scared': 1, 'Dark': 1, 'Paint': 2, 'Don’t': 1, 'Be': 5, 'MICHELLE': 1, 'HIGGINS': 1, 'companies': 1, 'predicting': 1, 'very': 1, 'dark': 1, '2018': 1, 'But': 1, 'designers': 1, 'say': 1, 'that’s': 1, 'good': 1, 'thing': 1, '—': 2, 'here’s': 1, 'why': 2, 'Because': 1, 'Dishwasher': 1, 'You': 7, '24': 1, 'Delicious': 2, 'OnePot': 1, 'Dinners': 1, 'Get': 3, 'weekly': 1, 'roundup': 1, 'best': 1, 'advice': 2, 'living': 1, 'better': 2, 'smarter': 1, 'fulfilling': 1, 'life': 3, 'Journalism': 1, 'matters': 1, 'essential': 1, 'ever': 1, 'training': 1, 'course': 1, 'Charlotte': 1, 'NC': 1, 'headquarters': 1, 'Hissho': 1, 'Sushi': 2, 'which': 1, 'franchises': 1, '1100': 1, 'sushi': 1, 'counter': 1, 'grocery': 2, 'stores': 2, 'nationwide': 1, '95': 2, 'percent': 1, 'its': 3, 'franchisees': 1, 'Burmese': 2, 'Credit': 1, 'Travis': 1, 'Dove': 1, 'Japanese': 4, 'Immigrants': 2, 'Dream': 1, 'Myanmar': 1, 'have': 1, 'found': 1, 'niche': 1, 'rolling': 1, 'selling': 1, 'delicacy': 1, 'across': 1, 'United': 1, 'States': 1, 'MIRIAM': 1, 'JORDAN': 1, '‘You’re': 2, 'Quadriplegic’': 2, 'Reality': 3, 'Las': 2, 'Vegas': 2, 'Victim': 2, 'JULIE': 1, 'TURKEWITZ': 1, 'Kim': 1, 'Gervais': 1, 'friends': 2, 'went': 1, 'hear': 2, 'country': 1, 'music': 1, 'Then': 1, 'gunfire': 1, 'began': 1, 'She': 1, 'was': 4, 'gravely': 1, 'injured': 1, 'died': 1, 'survived': 1, 'Series': 4, 'Rookie': 1, 'Breaks': 2, 'Through': 3, 'Leading': 2, 'Dodgers': 5, 'Past': 2, 'Astros': 5, 'BILLY': 1, 'WITZ': 1, 'Cody': 2, 'Bellinger': 2, 'had': 3, 'struggled': 1, 'through': 5, 'first': 1, 'three': 1, 'games': 2, 'but': 5, 'his': 2, 'doubles': 1, 'difference': 1, 'Los': 1, 'Angeles': 1, 'beat': 1, 'Houston': 1, '62': 1, 'tie': 1, 'series': 1, 'apiece': 1, 'Next': 3, 'Pull': 2, 'Pitchers': 2, 'On': 4, 'Baseball': 2, 'Gurriel': 1, 'Punished': 1, 'Left': 1, 'Alone': 1, 'Student': 1, 'Loan': 1, 'Nightmare': 1, '70000': 1, 'Counting': 1, 'RON': 1, 'LIEBER': 1, '10': 2, 'years': 2, 'ontime': 1, 'payments': 1, 'teacher': 1, 'learned': 1, 'he': 3, 'wasn’t': 1, 'public': 1, 'service': 1, 'loan': 1, 'forgiveness': 1, 'program': 1, 'after': 1, 'start': 2, 'over': 3, 'he’s': 1, 'unlikely': 1, 'be': 4, 'only': 2, 'West': 1, 'Wing': 1, 'Veteran': 1, 'Scripts': 1, 'NFL’s': 1, 'Anthem': 1, 'Message': 2, 'KEN': 1, 'BELSON': 1, '500': 1, 'Joe': 1, 'Lockhart': 1, 'Clinton': 1, 'impeachment': 1, 'storm': 1, 'thick': 1, 'debate': 1, 'players’': 1, 'kneeling': 1, 'Mali’s': 1, 'Elephants': 1, 'Edge': 1, 'Annihilation': 1, 'Chance': 1, 'MARK': 1, 'RIVETTCARNAC': 1, 'With': 5, 'elephants': 1, 'being': 1, 'killed': 1, 'staggering': 1, 'Mali': 1, 'created': 1, 'armed': 1, 'brigade': 1, 'defend': 1, 'them': 1, 'force': 1, 'faces': 1, 'threats': 1, 'poachers': 1, 'also': 1, 'terrorists': 1, 'bandits': 1, 'Big': 3, 'City': 5, 'Lord': 2, 'Taylor': 2, 'WeWork': 2, 'Death': 2, 'Leisure': 2, 'GINIA': 1, 'BELLAFANTE': 1, 'sale': 1, 'department': 1, 'store’s': 1, 'flagship': 1, 'Fifth': 1, 'Avenue': 1, 'building': 1, 'marks': 1, 'end': 2, 'shopping': 1, 'fun': 1, 'rise': 1, 'work': 2, 'way': 1, 'Things': 2, 'Do': 1, 'ANDY': 1, 'WEBSTER': 1, 'big': 1, 'city': 1, 'plenty': 1, 'do': 1, 'see': 2, 'sampling': 1, 'cultural': 1, 'highlights': 1, 'weekend': 1, 'week': 1, 'ahead': 1, 'Morning': 4, 'Australia': 3, 'Edition': 4, 'matter': 5, 'readers': 3, 'Sign': 4, 'up': 4, 'email': 3, 'Monday': 4, 'Friday': 4, 'Asia': 2, 'Europe': 2, 'California': 2, 'Today': 1, 'Californians': 1, 'delivered': 1, 'weekday': 1, 'mornings': 1, 'Delivered': 1, 'inbox': 1, 'Deputy': 1, 'Among': 1, '5': 2, 'Lose': 1, 'Over': 3, 'Citizenship': 1, 'high': 1, 'court': 1, 'ruled': 1, 'Barnaby': 1, 'Joyce': 1, 'other': 1, 'lawmakers': 1, 'been': 1, 'ineligible': 1, 'Parliament': 1, 'because': 1, 'held': 1, 'dual': 1, 'citizenship': 1, 'Australian': 1, 'Foodways': 1, 'Mix': 1, 'Off': 1, 'Winding': 1, 'Road': 1, 'small': 1, 'Wales': 1, 'rewards': 1, 'visitors': 1, 'locals': 1, 'charming': 1, 'cafe': 1, 'Eminem’s': 1, 'Publisher': 1, 'Triumphs': 1, 'Zealand': 2, 'Copyright': 1, 'Battle': 1, 'National': 1, 'ordered': 1, '413000': 1, 'damages': 1, 'political': 1, 'ad': 1, 'evoked': 1, 'rapper’s': 1, 'hit': 1, '“Lose': 1, 'Yourself”': 1, 'Vows': 1, 'March': 1, 'This': 1, 'One': 2, 'Down': 2, 'Aisle': 1, 'Rev': 1, 'Al': 1, 'Sharpton': 1, 'bride’s': 1, 'father': 1, '“You': 1, 'place': 2, 'if': 2, 'hard': 2, 'enough': 1, 'believe': 1, 'yourself”': 1, 'How': 8, 'Yahdon': 1, 'Israel': 2, 'Spends': 1, 'His': 2, 'Sundays': 1, 'Recently': 1, 'named': 1, 'editor': 1, 'chief': 1, 'Brooklyn': 1, 'Mr': 1, 'shops': 1, 'reads': 1, 'books': 1, 'mixes': 1, 'himself': 1, 'cocktail': 1, 'Experience': 1, 'Fats': 1, 'Domino’s': 1, 'Orleans': 1, 'Stop': 2, 'musician’s': 1, 'former': 1, 'Lower': 1, 'Ninth': 1, 'Ward': 1, 'show': 1, 'Tipitina’s': 1, 'spend': 1, 'few': 1, 'minutes': 1, 'corner': 1, 'Rampart': 1, 'Canal': 1, 'Review': 8, 'Fall': 5, 'Finally': 2, 'Reform': 2, 'Men': 2, 'THE': 1, 'EDITORIAL': 1, 'BOARD': 1, 'feels': 1, 'workplace': 1, 'may': 1, 'changing': 1, 'last': 1, 'how': 1, 'make': 1, 'sure': 1, 'does': 1, 'Bruni': 1, 'Too': 1, 'Many': 1, 'Colleges': 1, 'Flunk': 1, '101': 1, 'Douthat': 1, 'Misery': 1, 'Filter': 1, 'Kristof': 1, 'Trump’s': 5, 'Legacy': 2, 'Damaged': 2, 'Brains': 2, 'When': 2, 'Replaceable': 1, 'He': 1, 'Never': 2, 'Breast': 1, 'Cancer': 1, 'Serious': 1, 'Pink': 1, 'Not': 1, 'Cruel': 2, 'Choice': 2, 'Gets': 3, 'Stay': 2, 'SONIA': 1, 'NAZARIO': 1, 'order': 1, 'keep': 1, 'protections': 1, 'group': 1, 'immigrants': 1, 'kids': 1, 'fleeing': 1, 'violence': 1, 'might': 1, 'turned': 1, 'away': 1, 'Happiness': 2, 'Other': 2, 'People': 2, 'Bad': 2, 'Behavior': 1, 'Great': 1, 'Art': 4, 'Join': 1, 'Facebook': 1, 'User': 1, 'Subscriptions': 5, 'To': 3, 'Find': 3, 'Story': 3, 'I': 3, 'Needed': 3, 'Guide': 8, 'Fans': 2, 'Love': 2, 'Extra': 3, 'Innings': 2, 'LateGame': 2, 'Twists': 2, 'Reporters': 2, 'Less': 3, 'So': 2, 'Insider': 2, 'raquo': 33, 'Crossword': 4, 'Play': 3, 'Todayrsquos': 2, 'Puzzle': 2, 'Wordplay': 1, 'Watching': 3, 'Neediest': 2, 'Cases': 2, 'Faith': 1, 'Moors': 1, '2': 4, 'Victims': 1, 'Hurricane': 1, 'Sandy': 1, 'Life’s': 2, 'Storms': 1, 'disarray': 1, 'wake': 1, '2012': 1, 'hurricane': 1, 'retired': 1, 'Orthodox': 1, 'Jewish': 1, 'couple': 1, 'calm': 1, 'new': 1, 'aided': 1, 'unflinching': 1, 'faith': 1, 'God': 1, '106th': 1, 'year': 1, 'Fund': 1, 'provided': 1, 'direct': 1, 'assistance': 1, 'those': 1, 'struggling': 1, 'beyond': 1, 'Donate': 1, 'now': 1, 'From': 9, 'Our': 3, 'Advertisers': 1, 'Loading': 2, 'times': 1, 'video': 1, 'explore': 1, 'videos': 1, 'Player': 1, 'Inside': 1, 'Nytimescom': 1, 'previous': 1, 'story': 2, 'next': 1, 'Television': 3, '‘Stranger': 3, 'Things’': 3, 'Star': 1, 'Wants': 1, 'Dad': 1, 'Twitter': 3, 'Killed': 1, 'First': 1, 'Amendment': 1, 'amendment': 1, 'withered': 1, 'face': 1, 'troll': 1, 'armies': 1, 'government': 1, 'censorship': 1, 'fake': 1, 'Can': 3, 'anything': 1, 'done': 1, 'Mind': 1, 'Mindfulness': 1, 'Should': 1, 'Spouse': 1, 'Best': 3, 'Friend': 1, 'GOP': 1, 'Move': 1, 'Thinking': 1, 'Feet': 1, 'MultimediaPhotos': 1, 'Beauty': 1, 'Rapidly': 1, 'Changing': 1, 'Leaks': 1, 'Marigold': 1, 'Affair': 1, 'full': 1, 'Cold': 2, 'intrigue': 1, 'lesson': 1, 'peace': 1, 'so': 1, 'achieve': 1, 'Vietnam': 1, 'Stream': 1, 'Every': 1, 'Major': 1, '’90s': 1, 'Comedy': 1, 'Claes': 1, 'Oldenburg': 1, 'Departure': 1, 'Tradition': 1, 'Sade’s': 1, 'Quiet': 1, 'Storm': 1, 'Cool': 1, 'Rouses': 1, 'Neighbors': 1, 'Reconsider': 1, 'Weapons': 1, 'Day': 1, 'Corner': 1, 'Office': 1, 'CEO': 1, 'Decade’s': 1, 'Worth': 1, 'Them': 1, 'Floyd': 1, 'Mayweather': 1, 'Helped': 1, 'Two': 2, 'Young': 1, 'Guys': 1, 'Miami': 1, 'Rich': 1, 'Editorial': 1, 'OpEd': 3, 'Columnist': 1, 'Faces': 2, 'Hard': 2, 'Hollywood': 1, 'Fueled': 1, 'Afar': 1, 'What': 3, 'Worries': 1, 'Companies': 1, 'Post': 1, 'Glowing': 1, 'Quarterly': 1, 'Profits': 1, 'Russia': 1, 'Fanned': 1, 'Flames': 1, 'Which': 2, 'Blowback': 1, 'Bans': 1, 'KremlinBacked': 1, 'Outlets': 1, 'Advertising': 1, 'Onstage': 1, 'JayZ': 1, 'Forgoes': 1, 'Distractions': 1, 'Drilling': 1, 'All': 2, 'Swirling': 1, 'Proscenium': 1, 'Red': 1, 'Shoes’': 1, 'Donald': 2, 'Michael': 2, 'Moore': 2, 'Quarrel': 2, 'Broadway': 3, 'Show': 2, '‘Bedlam': 1, 'Here': 1, 'Arizona’': 1, 'Unworried': 1, 'Former': 1, 'Aides': 1, 'Tell': 1, 'Mueller': 1, 'Lawyer': 1, 'Says': 2, 'Fashion': 2, 'Virtual': 1, 'Naughty': 1, 'Look': 1, 'Future': 2, 'Tense': 1, 'Amazon': 1, 'Key': 1, 'Lot': 1, 'Scary': 1, 'Than': 4, 'My': 3, 'Post1Click': 1, 'Remorse': 1, 'Movies': 2, 'Biggest': 1, 'Year': 1, 'Horror': 2, 'History': 1, 'Glib': 1, 'Laughs': 1, '‘Suburbicon’': 1, 'Square’': 1, 'Takes': 1, 'Aim': 1, 'Sex': 1, '‘Everyone': 1, 'Something’': 1, 'De': 1, 'Blasio': 1, 'Donor': 1, 'Claimed': 1, 'Bought': 1, 'Access': 1, '‘Liar’': 1, '6': 1, 'tied': 1, '22': 1, 'Texans': 1, 'Owner': 1, 'Bob': 1, 'McNair': 1, 'Apologizes': 1, 'Again': 1, 'Meets': 1, 'Team': 1, 'Theater': 2, '‘M': 1, 'Butterfly’': 1, 'Returns': 1, 'Heavier': 1, 'Wings': 1, 'Spooked': 1, 'Life': 1, 'Bring': 1, 'Halloween': 1, 'Frights': 1, 'Trilobites': 3, 'Astronomers': 1, 'Study': 1, 'Mystery': 1, 'Object': 1, 'Outside': 1, 'Solar': 1, 'System': 1, 'TurkeySize': 1, 'Dinosaur': 1, 'RaccoonLike': 1, 'Bandit': 1, 'Mask': 1, 'Yes': 1, 'Oysters': 1, '‘Hear’': 1, 'Probably': 1, 'Wish': 1, 'We’d': 1, 'Clam': 1, 'Up': 2, 'Obituaries': 2, 'Robert': 1, 'Blakeley': 1, 'Whose': 1, 'Fallout': 1, 'Shelter': 1, 'Symbolized': 1, 'Dies': 3, 'Fay': 1, 'Chiang': 1, '65': 1, 'Poet': 1, 'Championed': 1, 'AsianAmerican': 1, 'Culture': 1, 'Walter': 1, 'Lassally': 1, 'Cinematographer': 1, 'Won': 1, 'Oscar': 1, '‘Zorba’': 1, 'Season': 2, 'Premiere': 1, 'Recap': 1, 'Lingering': 1, 'Effects': 1, 'Critic’s': 1, 'Notebook': 2, '‘TRL’': 1, 'Back': 3, 'MTV': 1, 'Undone': 1, 'Chatter': 1, 'Remember': 1, 'Before': 2, 'Governor': 1, 'Blocked': 1, 'Medicaid': 1, 'Expansion': 1, 'Maine': 1, 'Voters': 1, 'Could': 2, 'Overrule': 1, 'Him': 1, 'Old': 1, 'Age': 2, 'Last': 1, 'Question': 1, 'Operation': 1, 'Just': 2, 'Frail': 1, 'Declares': 1, 'Opioid': 1, 'Crisis': 1, '‘Health': 1, 'Emergency’': 1, 'Requests': 1, 'No': 1, 'Funds': 1, 'SpiceLaden': 1, 'Kerala': 1, 'Break': 1, 'Urban': 1, 'India': 1, 'Footsteps': 1, 'Chasing': 1, 'Spirit': 1, 'Fractured': 1, 'Spain': 1, 'García': 1, 'Lorca': 1, 'Bargain': 1, 'Destinations': 1, 'Books': 2, 'Nonfiction': 1, 'Stranger': 1, 'Fiction': 3, 'TrueCrime': 1, 'Roundup': 2, 'Indebted': 1, 'Early': 1, 'Master': 1, 'Villains': 1, 'Ourselves': 1, 'Thriller': 1, 'Education': 4, 'Campus': 2, 'Lives': 1, 'Administrators': 1, 'Need': 1, 'Catch': 1, 'Classroom': 1, 'Setting': 1, 'Suits': 1, 'Game': 1, 'Help': 2, 'Students': 1, 'Pay': 1, 'Right': 2, 'Price': 1, 'College': 1, 'Wine': 1, 'School': 1, 'CrozesHermitage': 1, 'Dimension': 1, 'Kitchen': 1, 'Warming': 1, 'Curry': 1, 'Matt': 1, 'Orlando': 1, 'Brings': 1, 'Sun': 1, 'Copenhagen': 1, 'Issue': 3, 'OldSchool': 1, 'Dinner': 2, 'Expandable': 1, 'Feast': 1, 'Bedroom': 2, 'Rover': 2, 'Maybe': 2, 'Even': 2, 'Condo': 2, 'View': 2, 'Illegal': 1, 'Apartment': 1, 'Shopping': 2, 'Wingback': 1, 'Chairs': 1, 'Upshot': 1, 'Silver': 1, 'Costs': 1, 'Gold': 1, 'Actions': 1, 'Have': 1, 'Scrambled': 1, 'Insurance': 1, 'Prices': 1, 'Draw': 1, 'Drug': 2, 'Overdose': 1, 'Epidemic': 1, 'Deaths': 1, 'America': 1, 'Rising': 1, 'Faster': 1, 'Reporter’s': 1, '‘I’m': 1, 'Icing': 1, 'Knee': 1, 'I’m': 1, 'Boiling': 1, 'Some': 2, 'Eggs’': 1, 'Automobiles': 2, 'Automakers': 1, 'Build': 1, 'Chests': 1, 'Finance': 1, 'SelfDriving': 1, 'Subaru': 1, 'Admits': 1, 'Inspection': 1, 'Failings': 1, 'Another': 1, 'Blow': 1, 'Japan’s': 1, 'Carmakers': 1, 'Wheels': 1, 'Forgetting': 1, 'Child': 1, 'Seat': 1, 'Cars': 1, 'Soon': 1, 'Warn': 1, 'Design': 2, 'Man': 1, 'Designing': 1, 'Spaces': 1, 'Instagram': 1, 'Editors': 1, 'Like': 1, 'Helsinki’s': 1, 'Saunas': 1, 'CAROLINE': 1, 'BIGGS': 1, 'serious': 1, 'animal': 1, 'lovers': 1, 'pets': 1, 'like': 1, 'family': 2, 'And': 1, 'doesn’t': 1, 'every': 1, 'member': 1, 'deserve': 1, 'space': 1, 'Homes': 1, 'Sale': 2, 'Rent': 1, 'Mortgage': 1, 'Calculator': 1, 'Emailed': 1, 'Viewed': 1, 'Trending': 1, 'Recommended': 1, 'Home': 2, 'Page': 1, 'Index': 2, 'Todays': 3, 'Corrections': 1, 'Columnists': 1, 'Editorials': 1, 'Contributors': 1, 'Letters': 1, 'Dance': 1, 'Music': 1, 'NYC': 3, 'Events': 3, 'Jobs': 1, 'Weddings': 1, 'Celebrations': 1, 'Listings': 1, 'Reader': 1, 'Center': 1, 'Classifieds': 1, 'Tools': 1, 'Services': 1, 'Photography': 1, 'NYT': 1, 'Store': 1, 'Journeys': 1, 'Manage': 1, 'Account': 1, 'NYTCo': 1, 'Delivery': 1, 'Digital': 1, 'Email': 1, 'Newsletters': 1, 'Alerts': 1, 'Gift': 1, 'Corporate': 1, 'Rate': 1, 'Applications': 1, 'Replica': 1, 'Information': 2, 'copy': 1, 'Company': 1, 'Contact': 1, 'Us': 2, 'Work': 1, 'Advertise': 1, 'Ad': 1, 'Choices': 1, 'Privacy': 1, 'Terms': 2, 'Service': 1, 'Map': 1, 'Feedback': 1, 'Version': 1}\n"
     ]
    }
   ],
   "source": [
    "url = 'http://www.nytimes.com'\n",
    "f = request.urlopen(url)\n",
    "source_bytes = f.read()\n",
    "source = source_bytes.decode('utf-8')\n",
    "a = source\n",
    "cnt=0\n",
    "cnt\n",
    "list = []\n",
    "\n",
    "\n",
    "while(cnt != len(a)) :\n",
    "    \n",
    "        if a[cnt] == '<' :\n",
    "            if(a[cnt+1] == '!' and a[cnt+2]=='-') : #주석 삭제\n",
    "                cnt+=3\n",
    "                while True:\n",
    "                    cnt+=1\n",
    "                    if(a[cnt] == '-' and a[cnt+1] == '>'):\n",
    "                        cnt+=1\n",
    "                        break\n",
    "            elif(a[cnt+1:cnt+7] == \"script\" ) : #스크립트 삭제\n",
    "                cnt+=7\n",
    "                while True:\n",
    "                    cnt+=1\n",
    "                    if(a[cnt:cnt+8] == \"/script>\"):\n",
    "                        cnt+=8\n",
    "                        break\n",
    "                        \n",
    "            elif(a[cnt+1:cnt+6]) == \"style\" : ##css 삭제\n",
    "                cnt+=6\n",
    "                while True:\n",
    "                    cnt+=1\n",
    "                    if(a[cnt:cnt+6]) == '/style':\n",
    "                        cnt+=6\n",
    "                        break\n",
    "                        \n",
    "\n",
    "                    \n",
    "            else:\n",
    "                while(a[cnt] != '>'): #HTML 삭제\n",
    "                    cnt+=1\n",
    "                    \n",
    "        \n",
    "        elif  a[cnt] != '<' and a[cnt] != '>' and a[cnt]!='\\t' and a[cnt]!=' ' and a[cnt] !='\\n' :\n",
    "            start = cnt\n",
    "            while a[cnt] != '<' and a[cnt] != '>' and a[cnt]!='\\t' and a[cnt] !=' ' and a[cnt] !='\\n' :\n",
    "                    cnt+=1\n",
    "                    if(cnt==len(a)):\n",
    "                            break\n",
    "                        \n",
    "            end = cnt\n",
    "            list.append(a[start:end])\n",
    "            \n",
    "        else :\n",
    "            cnt +=1\n",
    "            \n",
    "            \n",
    "c=[]\n",
    "for x in string.punctuation: #구두문자 리스트화\n",
    "    c.append(x)\n",
    "    \n",
    "for x in range(len(list)) : #구두문자가 list의 원소안에 포함되어있을 경우\n",
    "    for k in c:\n",
    "        if k in list[x]:\n",
    "            list[x] = list[x].replace(k,'') #구두문자를 없앤다\n",
    "#list.remove('') #구두문자만 있었을 경우 공백만 남으므로 공백 없애줌\n",
    "            \n",
    "dic = dict()\n",
    "for x in list:\n",
    "    if x not in dic.keys(): #list의 원소가 사전에 없으면 추가\n",
    "        dic[x] = 1\n",
    "    elif x in dic.keys(): #이미 있는 원소면 1추가\n",
    "        dic[x] += 1\n",
    "\n",
    "print(dic)"
   ]
  },
  {
   "cell_type": "markdown",
   "metadata": {},
   "source": [
    "저번 과제 마지막문제풀때는 css나 script는 제외시키지 않고 HTML, 주석만 제외시켰었는데 이번에 제외시켰습니다.\n",
    "1. 특정한 문자 혹은 문자열이 나왔을 시(HTML, CSS, SCRIPT) 해당 문자를 건너뛰고 나머지 문자들을 개행, 공백등으로 구분하여 list리스트에 추가시킨다 - 저번과제와 동일\n",
    "2. 구두문자 정보를 얻어오기위해 string모듈을 import한다.\n",
    "3. string.punctuation 은 모든 구두문자를 문자열로 표현하므로 각각의 구두문자를 비어있는 리스트인 c에 append 메소드로 각각 추가한다.\n",
    "4. 이제 for~in 문으로 list리스트의 모든 원소에 접근하고 구두문자 리스트인 c의 모든 원소에 접근하여 list의 원소에 구두문자가 포함되어있으면 replace메소드로 구두문자를 없앤다.\n",
    "5. 비어있는 사전인 dic을 설정하고, 구두문자가 모두 지워진 list의 모든 원소들을 넣어준다. 이 때, 원소가 dic사전에 없을경우, 추가해주고 value값을 1로 설정한다. 이후 같은원소가 있을 경우 해당원소의 value값을 1만 더해준다.\n",
    "6. dic을 출력한다."
   ]
  },
  {
   "cell_type": "markdown",
   "metadata": {},
   "source": [
    "## 느낀점"
   ]
  },
  {
   "cell_type": "markdown",
   "metadata": {},
   "source": [
    "전에 과제를 했을때도 느꼈지만, 이번과제를 하면서 정말로 많이 느낀 것은, c나 java로 이것들을 코딩했다면, 파이썬으로 코딩하는데 걸리는 시간보다 훨씬오래 걸렸겠다는 것이다. 그만큼 많은것을 파이썬으로 빠르고 쉽게 할수있는것 같다. 이것은 이번 과제에 포함되었던 백준문제를 2줄로 끝냈을 때 가장많이 와닿았다.  \n",
    "다만, 익숙하지 않은 문법이나 당연히 잘 구동되어야 할것 같은 코드가 구동되지 않을 때가 많았다. 이유는 당연히 '익숙하지 않아서'가 아닐까. 편한만큼 알아야할 것도 상당히 많다고 느낀다. 하지만 이러한 어려움들을 이기고 언젠가 파이썬이 익숙해질 때 즈음에는 확실히 파이썬을 제외한 c라던가 다른언어는 쓰고싶지 않을것 같다. 앞으로 더욱 열심히 공부해서 파이썬을 0순위 애정언어로 사용할 수 있도록 해야겠다."
   ]
  }
 ],
 "metadata": {
  "kernelspec": {
   "display_name": "Python 3",
   "language": "python",
   "name": "python3"
  },
  "language_info": {
   "codemirror_mode": {
    "name": "ipython",
    "version": 3
   },
   "file_extension": ".py",
   "mimetype": "text/x-python",
   "name": "python",
   "nbconvert_exporter": "python",
   "pygments_lexer": "ipython3",
   "version": "3.6.1"
  }
 },
 "nbformat": 4,
 "nbformat_minor": 2
}
