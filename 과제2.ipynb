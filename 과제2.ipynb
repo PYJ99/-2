{
 "cells": [
  {
   "cell_type": "markdown",
   "metadata": {},
   "source": [
    "## 문제1\n",
    "\n",
    "- 다음 6 개의 Expression에 대해 Evaluation 결과 값을 출력하고, 해당 결과가 나온 이유에 대해 설명하시오\n",
    "    - 1 and 2 and 3 and 4\n",
    "    - 1 or 2 or 3 or 4\n",
    "    - 1 and 2 or 3 and 4\n",
    "    - (1 and 2) or (3 and 4)\n",
    "    - 1 or 2 and 3 or 4\n",
    "    - (1 or 2) and (3 or 4)"
   ]
  },
  {
   "cell_type": "code",
   "execution_count": 2,
   "metadata": {},
   "outputs": [
    {
     "name": "stdout",
     "output_type": "stream",
     "text": [
      "4\n",
      "1\n",
      "2\n",
      "2\n",
      "1\n",
      "3\n"
     ]
    }
   ],
   "source": [
    "print(1 and 2 and 3 and 4)\n",
    "print(1 or 2 or 3 or 4)\n",
    "print(1 and 2 or 3 and 4)\n",
    "print((1 and 2) or (3 and 4))\n",
    "print(1 or 2 and 3 or 4)\n",
    "print((1 or 2) and (3 or 4))"
   ]
  },
  {
   "cell_type": "markdown",
   "metadata": {},
   "source": [
    "a and b 에서 and 연산자는 a->b 순서로 a와 b가 모두 참일 때, 즉 최종적으로 b까지 참이어야 true가 성립한다.  \n",
    "a or b 에서 or연산자는, a와 b 둘 중 하나만 참이어도 true가 성립하므로, a가 참이라면 a이후는 고려하지 않아도된다.\n",
    "- 1 and 2 and 3 and 4 에서 모든 연산자가 and고 최종적으로 참임을 판별할 수 있는 숫자(식)은 4이므로 4가 출력된다.\n",
    "- 1 or 2 or 3 or 4 에서 모든 연산자가 or이고 1이 참임으로 그 이후는 고려하지 않아도 되므로 1이 출력된다.\n",
    "- 1 and 2 or 3 and 4  에서 연산자의 우선순위는 and > or 이다. 즉, (1 and 2) or (3 and 4) 와 같아진다. 이러한 경우는 or의 앞 조건식만 참이면 되므로 1 and 2에서 2까지 참이어야 true가 성립하므로 2가 출력된다.\n",
    "- (1 and 2) or (3 and 4) 는 위와 같다.\n",
    "- 1 or 2 and 3 or 4 는 마찬가지로 and연산자가 or보다 우선순위가 높으므로 1 or (2 and 3) or 4 와 같아진다. 이 중 맨 앞 숫자(식)만 참으로 성립하면 되므로 1이 출력된다.\n",
    "- (1 or 2) and (3 or 4) 에서 and 연산자이므로 (3 or 4) 까지 참이어야 true가 성립한다. 고로 3이 출력된다"
   ]
  },
  {
   "cell_type": "markdown",
   "metadata": {},
   "source": [
    "## 문제2\n",
    "\n",
    "- 경로에 해당하는 문자열 1개를 입력 받아 그 안에 디렉토리 경로명과 파일명을 분리하여 리스트로 반환하는 함수 div_path(s)를 작성하시오.\n",
    "\n",
    "  - 인자로 전달하는 문자열은 경로만 들어간다고 가정한다.\n",
    "  - 각 디렉토리와 파일을 구분하는 문자는 '/'로 가정한다.\n",
    "  - 반환하는 리스트의 첫번째 원소는 디렉토리이고 두번째 원소는 파일명이다.\n",
    "  - 다음과 같은 실행 및 출력 결과가 도출되어야 한다.\n",
    "      - div_path('/usr/local/bin/python')\n",
    "          - ['/usr/local/bin', 'python']\n",
    "      - div_path('/home/chulsoo/test.txt')\n",
    "          - ['/home/chulsoo', 'test.txt']\n",
    "  - [참고] 리스트(l) 내에 새로운 정수값 (예를 들어 10)을 넣는 방법은 l.append(10) 이다."
   ]
  },
  {
   "cell_type": "code",
   "execution_count": 59,
   "metadata": {},
   "outputs": [
    {
     "name": "stdout",
     "output_type": "stream",
     "text": [
      "['/usr/local/bin', 'python']\n",
      "['/home/chulsoo', 'test.txt']\n"
     ]
    }
   ],
   "source": [
    "def div_path(s) :\n",
    "    k = s.split('/')\n",
    "    i=0\n",
    "    a=''\n",
    "    k.pop(0)\n",
    "    while(len(k) != 1) :\n",
    "        k[i] = '/'+ k[i]\n",
    "        a+=k[i]\n",
    "        k.pop(i)\n",
    "    k.insert(0,a)\n",
    "    print(k)\n",
    "    \n",
    "div_path('''/usr/local/bin/python''')\n",
    "div_path('''/home/chulsoo/test.txt''')"
   ]
  },
  {
   "cell_type": "markdown",
   "metadata": {},
   "source": [
    "1. /usr/local/bin/python 이라는 문자열이 있을때, 각 문자열들을 '/' 로 구분해 k리스트에 넣는다.  \n",
    "2. 그러면 k에는 '',usr,local,bin,python 이 원소로 들어가있다. 문자열의 맨 앞이 /로 시작하므로 ''도 0번째의 구성원소로 포함되어 있다.  \n",
    "3. 0번째 구성원소인 ''를 pop메소드를 이용해 제거해주고, 파일명인 python을 제외한 나머지 경로명마다 '/'를 추가해주고, 이것을 빈 문자열인 a에 더해준다. 그 후 더해진 문자는 리스트에서 pop메소드를 통해 없애준다.  \n",
    "4. 그렇게 원소가 파일명(python) 하나만 남았을 때까지 반복한다. ( len(k) != 1 )\n",
    "5. insert메소드를 사용하여 k리스트의 첫번째 항목에 경로명들이 더해진 a를 추가시켜준다.\n",
    "\n",
    "\n",
    "- append를 사용하면 리스트의 맨 마지막위치에 추가되어 insert를 사용하여 리스트의 첫번째위치에 넣어주었다."
   ]
  },
  {
   "cell_type": "markdown",
   "metadata": {},
   "source": [
    "## 문제3\n",
    "\n",
    "- 두 개의 리스트를 인자로 받아서 그 두 개의 리스트에 대한 '합집합'을 반환하는 함수 list_union(lista, listb)를 작성하시오.\n",
    " - 인자로 전달하는 리스트 2 개에는 정수값만 들어간다고 가정하자.\n",
    " - 함수 내에서 새로운 리스트를 만들어 그 리스트 내에 인자로 받은 두 리스트의 모든 원소를 넣어 반환한다.\n",
    " - 반환하는 리스트에는 절대로 중복된 원소가 들어 있으면 안된다 (집합의 조건).\n",
    " - 반환하는 리스트는 정렬이 되어 있어야 한다.\n",
    " - 다음과 같은 실행 및 출력 결과가 도출되어야 한다.\n",
    "   - list_union([1, 2, 3], [1, 2, 4])\n",
    "     - [1, 2, 3, 4]\n",
    "   - list_union([-10, -5, 0, -1], [100, 9, 0, 9])\n",
    "     - [-10, -5, -1, 0, 9, 100]\n",
    "   - list_union([0, 1, 2], [0, 1, 2])\n",
    "     - [0, 1, 2]\n",
    "- [참고] 리스트(l) 내에 새로운 정수값 (예를 들어 10)을 넣는 방법은 l.append(10) 이다.\n",
    "- [참고] 임의의 정수값 (x)이 리스트 (l) 내에 존재하는지 판단하는 방법은 x in l 이다."
   ]
  },
  {
   "cell_type": "code",
   "execution_count": 66,
   "metadata": {},
   "outputs": [
    {
     "name": "stdout",
     "output_type": "stream",
     "text": [
      "[1, 2, 3, 4]\n",
      "[-10, -5, -1, 0, 9, 100]\n",
      "[0, 1, 2]\n"
     ]
    }
   ],
   "source": [
    "def list_union(lista, listb) :\n",
    "    a = lista\n",
    "    for k in listb :\n",
    "        if(k in lista) :\n",
    "            continue\n",
    "        else :\n",
    "            a.append(k)\n",
    "    a.sort()\n",
    "    print(a)\n",
    "\n",
    "list_union([1, 2, 3], [1, 2, 4])\n",
    "list_union([-10, -5, 0, -1], [100, 9, 0, 9])\n",
    "list_union([0, 1, 2], [0, 1, 2])"
   ]
  },
  {
   "cell_type": "markdown",
   "metadata": {},
   "source": [
    "list_union 함수에서 새로운 리스트인 a에 lista를 참조시키고, 거기에 listb의 원소를 추가시키는 방식이다.  \n",
    "for문을 이용해 listb의 모든원소를 lista와 비교해 lista에 해당 원소가 있으면 continue로 반복문을 한번 건너뛰고, 원소가 없을 시 append메소드로 a에 해당 원소를 추가한다. 이후 sort메소드로 원소들을 순차정렬하고 a를 출력한다"
   ]
  },
  {
   "cell_type": "markdown",
   "metadata": {},
   "source": [
    "## 문제4\n",
    "- [ACM-ICPC 문제 1110번]\n",
    "    - 더하기 사이클"
   ]
  },
  {
   "cell_type": "code",
   "execution_count": 106,
   "metadata": {},
   "outputs": [
    {
     "name": "stdout",
     "output_type": "stream",
     "text": [
      "26\n",
      "4\n"
     ]
    }
   ],
   "source": [
    "N = int(input())\n",
    "cnt =0\n",
    "\n",
    "a = N//10\n",
    "b = N%10\n",
    "\n",
    "a1 = a\n",
    "b1 = b\n",
    "while(True) :\n",
    "    N = a1+b1\n",
    "    a1 = b1\n",
    "    b1 = N%10\n",
    "    cnt+=1\n",
    "    \n",
    "    if(a1 == a and b1 == b) :\n",
    "        break;\n",
    "print(cnt)"
   ]
  },
  {
   "cell_type": "markdown",
   "metadata": {},
   "source": [
    "a,b = 초기a,b값 \n",
    "a1,b1 = 초기a,b값 이후의 a,b값\n",
    "cnt = 연산횟수\n",
    "- 26의 경우  \n",
    "\n",
    "a = 26//10, b = 26%10 으로 인해a = 2, b = 6으로 설정된다.  \n",
    "a1,b1에 a,b값을 대입해주고(처음값과 마지막값이 동일한지 비교하기 위함) N에 a1+b1을 더한값을 넣어준다.  \n",
    "그리고 a1 에 b1값을, b1에 N의 1의자리숫자를 넣어주고 cnt를 1 증가시킨다.\n",
    "이 과정을 무한히 반복하면서 초기값(a,b)과 마지막값(a1,b1)이 같으면 break로 while문을 빠져나온다.\n",
    "\n",
    "![1](https://github.com/PYJ99/-2/blob/master/%ED%8C%8C%EC%9D%B4%EC%8D%AC%20%EA%B3%BC%EC%A0%9C2.jpg?raw=true)\n"
   ]
  },
  {
   "cell_type": "code",
   "execution_count": 287,
   "metadata": {
    "scrolled": true
   },
   "outputs": [
    {
     "name": "stdout",
     "output_type": "stream",
     "text": [
      "['컴퓨터공학부', '//', 'Schoolfun', '-', 'Study', 'and', 'Fun', '--', '로그인', '로그인', '아이디', '비밀번호', '로그인', '유지', '브라우저를', '닫더라도', '로그인이', '계속', '유지될', '수', '있습니다.', '로그인', '유지', '기능을', '사용할', '경우', '다음', '접속부터는', '로그인할', '필요가', '없습니다.', '단,', '게임방,', '학교', '등', '공공장소에서', '이용', '시', '개인정보가', '유출될', '수', '있으니', '꼭', '로그아웃을', '해주세요.', '회원가입', 'ID/PW', '찾기', 'IT', '교육의', '글로벌', '메카!', '한국기술교육대학교', '컴퓨터공학부', 'Close', '소개', '구성원소개', '학사안내', '입학', '학부', '대학원', '학부광장', '자료실', '대학원', '공학교육인증', '학부서비스', 'Registration', '컴퓨터공학부', 'School', 'of', 'Computer', 'Science', 'and', 'Engineering', 'IT', '융합소프트웨어', '인력양성사업', 'CK', '(Creative', 'Korea)-I', '교육역량강화사업', '온라인', '컨텐츠', 'Online', 'Contents', 'for', 'Education', 'Capability', 'Empowerment', 'IT', '교육의', '글로벌', '메카', '한국기술교육대학교', '컴퓨터공학부', '홈페이지에', '오신', '것을', '환영합니다!', 'IT', '융합소프트웨어', '인력양성사업', '글로벌', '수준의', 'IT전문인력', '양성', 'IT융합분야에', '대한', '국제적인', '경쟁력', '고취', '바로가기', '교육역량강화사업', '컨텐츠', '교육역량강화사업', '온라인', '컨텐츠를', '소개합니다.', '바로가기', '공지사항', '2017년', '졸업작품', '영어발표', '경진대회', '및', '공학설계', '아이...', '2017-10-11', '09:24', '09:24', '[특성화]', '2017', 'IT융합', '프로그래밍', '경시대회', '모집', '공고', '2017-10-10', '15:49', '15:49', '[특성화]', 'ICTS', '2017', '중국', '전시회', '선발학생', '공고', '2017-09-28', '10:18', '10:18', '[특성화]', 'KES', '2017', '전시회', '선발학생', '공고', '2017-09-27', '15:20', '15:20', '[졸업작품', '전시회', '참가자', '필독]', '2017년', '졸업작품', '전시...', '2017-09-27', '13:24', '13:24', '자유게시판', '제6회', '레몬', '정보보호', '세미나', '개최', '2017-10-06', '23:40', '23:40', '예비역', '훈련', '및', '뒤풀이', '공지!', '2017-09-19', '21:16', '21:16', '모의토익비를', '지원해드립니다.^^', '2017-09-17', '20:08', '20:08', '4공학관', 'B동', '입구', '담배피우는', '문제로', '글을', '올립니다.', '2017-09-11', '22:13', '22:13', '학술소모임', '씨앗(Seed)에서', '신입', '회원', '모집', '및', '개강총...', '2017-09-05', '15:46', '15:46', '취업게시판', '[천안]', '(주)ABB코리아', '채용', '공고문', '-', '로봇사업부', '채용(...', '2017-09-29', '11:29', '11:29', '영풍전자(주)', '-', '[안산]_직무별[제조기술/품질/개발/마...', '2017-09-25', '10:04', '10:04', '[용인-수원(내년', '통합예정)]', '㈜라온옵틱스', '신입,', '경력...', '2017-09-25', '09:21', '09:21', '엑시콘', '산학공동연구소', '연구원', '모집(~9/18)', '2017-09-08', '13:46', '13:46', '[서울]', '에이치투오시스템테크놀로지(주)', 'IT개발', '및', '마...', '2017-09-04', '17:35', '17:35', 'Platum', '[인터뷰]', '육성기업', '기업가치', '15조', '원', '…', '‘텐센트', '중창공간’', '2017-10-17', '02:00', '02:00', '[현장]', '네이버,', '‘일상생활', '환경', '모두', '연결하겠다’', '2017-10-16', '10:24', '10:24', 'Videogame', 'developer', 'Bluehole’s', 'chairman', 'recognized', '...', '2017-10-16', '09:57', '09:57', 'Interview:', 'The', 'secret', 'behind', 'the', 'fashion', 'startup', 'St...', '2017-10-16', '09:52', '09:52', '네이버는', '쇼핑,', '다음은', '뉴스,', '구글은', '검색', '2017-10-16', '09:45', '09:45', '전자신문', 'SK텔레콤', '20만원대', '폴더형', '스마트폰', '출시', '2017-10-17', '10:10', '10:10', 'KT,', '퀄컴', '4G/5G서밋에서', '5G', '비전', '발표', '2017-10-17', '10:05', '10:05', \"'아이폰8\", \"플러스'\", '푸틴', '대통령', '한정판', '에디션', '등장', '2017-10-16', '19:23', '19:23', '세계', '점유율', '늘어난', '애플', 'iOS…', '英·日서는', '역행', '2017-10-16', '18:43', '18:43', '5G', '주파수', '할당방식', '논쟁', '본격화', '2017-10-16', '17:00', '17:00', 'TechCrunch', 'Opternative', 'sues', 'Warby', 'Parker', 'for', 'allegedly', 'st...', '2017-10-17', '09:27', '09:27', 'Indiegogo', 'is', 'now', 'an', 'e-tailer,', 'too', '2017-10-17', '08:01', '08:01', 'Upload', 'exec', 'tasked', 'with', 'turning', 'things', 'around', '...', '2017-10-17', '06:46', '06:46', 'Mapping', 'the', 'blockchain', 'project', 'ecosystem', '2017-10-17', '06:30', '06:30', 'Netflix’s', 'original', 'content', 'costs', 'are', 'ballooning', '2017-10-17', '06:18', '06:18', 'Back', 'to', 'Top', 'Leading', 'Together', 'for', 'Brighter', 'Future', '--', 'Quick', 'Navigation', '한국기술교육대학교', '홈페이지', '한국기술교육대학교', 'WEBMAIL', '한국기술교육대학교', '온라인', '평생교육원', 'IT', '융합소프트웨어', '인력양성사업', '컴퓨터공학부', '교직원', '업무', '자료실', '컴퓨터공학부', '포트폴리오', '--', 'Campus', 'Location', 'Contact', 'CSE', '충청남도', '천안시', '동남구', '병천면', '충절로', '1600', '한국기술교육대학교', '컴퓨터공학부', '학과사무실', 'TEL', '(041)', '560', '1460', '~', '1461', 'FAX', '(041)', '560', '1462', 'Facebook', 'Twitter', 'Google', 'Plus', 'Linkedin', '--', '(31253)', '충청남도', '천안시', '동남구', '병천면', '충절로', '1600', '(가전리,', '한국기술교육대학교)', '컴퓨터공학부', 'Copyright', '©', '2015.', 'All', 'rights', 'reserved']\n",
      "\n",
      "\n",
      "\n",
      "단어의 수 :  468\n"
     ]
    }
   ],
   "source": [
    "from urllib import request \n",
    " \n",
    "url = 'http://cse.koreatech.ac.kr'\n",
    "f = request.urlopen(url)\n",
    "source_bytes = f.read()\n",
    "source = source_bytes.decode('utf-8')\n",
    "a=source\n",
    "list = []\n",
    "cnt =0\n",
    "start =0\n",
    "end =0\n",
    "\n",
    "while(cnt < len(a)) :\n",
    "        if a[cnt] == '<' :\n",
    "            start = cnt\n",
    "            while(a[cnt] != '>'):\n",
    "                cnt+=1\n",
    "            end = cnt+1\n",
    "            list.append(a[start:end])\n",
    "        \n",
    "        \n",
    "        elif a[cnt]!='<' and a[cnt]!='>' and a[cnt]!='\\t' and a[cnt]!=' ' and a[cnt] !='\\n' :\n",
    "            start = cnt\n",
    "            while(a[cnt]!='<' and a[cnt]!='>' and a[cnt]!='\\t' and a[cnt] !=' ' and a[cnt] !='\\n') :\n",
    "                    cnt+=1\n",
    "                    if(cnt==len(a)):\n",
    "                            break\n",
    "                        \n",
    "            end = cnt\n",
    "            list.append(a[start:end])\n",
    "            \n",
    "        else :\n",
    "            cnt +=1\n",
    "                \n",
    "                \n",
    "\n",
    "for i in range(10) : \n",
    "    for k in list :\n",
    "        if '<' in k and '>' in k :\n",
    "            list.remove(k)\n",
    "\n",
    "\n",
    "\n",
    "print(list)\n",
    "print('\\n\\n\\n단어의 수 : ',len(list))"
   ]
  },
  {
   "cell_type": "markdown",
   "metadata": {},
   "source": [
    "맞는 방법인지는 모르겠지만, 최대한 열심히 작성해보았습니다.  \n",
    "\n",
    "전체적인 방식은, HTML태그이던 아니던 무조건 리스트의 원소로 넣고, for문을 이용해 리스트의 각 원소에 접근해 < 혹은 > 가 있으면 remove메소드를 이용해 해당 원소를 리스트에서 삭제하는 방식이다.  \n",
    "\n",
    "cnt = 전체 문자열의 인덱스  \n",
    "start = 원소의 시작 인덱스  \n",
    "end = 원소의 끝 인덱스+1 (슬라이싱은 마지막 부분이 포함이 되지않기때문)  \n",
    "\n",
    "만약(if) 문자열 cnt번째에 해당하는 문자가 <(열린 괄호) 일 시에, cnt를 start에 넣어주고 >(닫힌 괄호)가 나올때까지 cnt를 증가시켜 해당문자열의 끝부분(end)까지 구해준다. 그후 슬라이싱을 이용해 해당 문자열을 리스트에 넣는다.  \n",
    "아니면(elif) 문자열 cnt번째에 해당하는 문자가 괄호(<.>)가 아니고, 공백(' '), 개행('\\n') 이 아니면, 위와 마찬가지로 start와 end를 구해서 리스트에 넣어준다.  \n",
    "아무것도 해당이안되면(else) cnt만 증가시켜준다.  \n",
    "\n",
    "모든 문자열이 리스트화가 되었으면, 리스트의 해당 원소안에 < 혹은 > 가 있을 시에(k in list) remove메소드를 사용해 괄호가 포함된 원소를 리스트에서 삭제시켜준다.\n"
   ]
  },
  {
   "cell_type": "markdown",
   "metadata": {},
   "source": [
    "## 느낀점\n",
    "\n",
    "이번과제는 문제의 양이 적은 대신에 전 과제보다는 확실히 난이도가 어려웠다. 다른문제는 풀만했지만, 5번 문제를 해결하는데 시간이 너무오래 걸렸고, 또 맞게했는지도 잘 모르겠다. 문제를 풀면서 생각하는 재미도 있었지만, 한편으로는 아직까지 이런문제를 푸는데 너무 오래걸렸다는것을 생각했을 때 스스로 부족함을 많이 느꼈다.\n",
    "\n",
    "질문 - 5번문제를 해결할 때 설명에도 써놓았듯이 해당 리스트에 < 혹은 >가 포함되어있으면 리스트에서 삭제하는 방식으로 했는데\n",
    "\n",
    "for k in list :    \n",
    "        if '<' in k and '>' in k :    \n",
    "            list.remove(k)  \n",
    "그냥 이렇게 한번만 해놓으면 어떤원소는 잘 지워지고 어떤원소는 안지워지는 문제가 발생해서 해당코드 위에 for문으로 한번 더 덧씌워서 10번정도 반복하게 하니까 정상적으로 출력이 됐는데, 왜 이러한 현상이 발생하는지 궁금합니다.\n",
    "            "
   ]
  }
 ],
 "metadata": {
  "kernelspec": {
   "display_name": "Python 3",
   "language": "python",
   "name": "python3"
  },
  "language_info": {
   "codemirror_mode": {
    "name": "ipython",
    "version": 3
   },
   "file_extension": ".py",
   "mimetype": "text/x-python",
   "name": "python",
   "nbconvert_exporter": "python",
   "pygments_lexer": "ipython3",
   "version": "3.6.1"
  }
 },
 "nbformat": 4,
 "nbformat_minor": 2
}
